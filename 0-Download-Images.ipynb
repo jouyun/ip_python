{
 "cells": [
  {
   "cell_type": "code",
   "execution_count": 1,
   "metadata": {},
   "outputs": [],
   "source": [
    "import os\n",
    "import requests\n",
    "import zipfile"
   ]
  },
  {
   "cell_type": "markdown",
   "metadata": {},
   "source": [
    "files_to_get = [ ['Easy.tif', 'https://www.dropbox.com/scl/fi/w0b2nmqc40ams5atg5bmv/Easy.tif?rlkey=46g64hg7tdfuea7t45nx9il6o&dl=1'],\n",
    "                ['CTL E2 40x zstack 561 tbxta 647 sox2 dapi.czi', 'https://www.dropbox.com/scl/fi/jvcqdnsue1w955vxv0svk/CTL-E2-40x-zstack-561-tbxta-647-sox2-dapi.czi?rlkey=p286j43cea96npanu8zigzuhu&dl=1'],\n",
    "                ['Slide10_trial_2.nd2', 'https://www.dropbox.com/scl/fi/p13qawuq66wacdolna7go/Slide10_trial_2.nd2?rlkey=7l8jxprb9d904ljapm8wkalg6&dl=1'], \n",
    "                ['C-hela-cells.tif', 'https://www.dropbox.com/scl/fi/zrtmz153veegneki079qh/C-hela-cells.tif?rlkey=q4qjcawy97sogixa4px6n57e8&dl=1'],\n",
    "                ['Neuromast.tif', 'https://www.dropbox.com/scl/fi/jfpl3hu5uqu8w0xwpg7xa/Neuromast.tif?rlkey=n2tf17v9mpq5ur3cec7dzlqea&dl=1'],\n",
    "                ['chamber1KLF5in488SOX8in647.tif', 'https://www.dropbox.com/scl/fi/7o69zya43cophbqq7aolz/chamber1KLF5in488SOX8in647.tif?rlkey=625g9qja1waz1akd2rwysnnxp&dl=1'],\n",
    "                ['chamber2KLF5in488SOX8in647.tif', 'https://www.dropbox.com/scl/fi/1k3yjqu5lyryh7tma220e/chamber2KLF5in488SOX8in647.tif?rlkey=w3wzw3c2cl5pl7fitcxf02xj1&dl=1']\n",
    "]\n",
    "                "
   ]
  },
  {
   "cell_type": "markdown",
   "metadata": {},
   "source": [
    "# Check if the directory exists, if not, create it\n",
    "if not os.path.exists('files/'):\n",
    "    os.makedirs(os.path.dirname('files/'))\n",
    "\n",
    "for filename, url in files_to_get:\n",
    "\n",
    "    local_filename = os.path.join('files/', filename)\n",
    "    # Check if the files already exists\n",
    "    if not os.path.exists(local_filename):\n",
    "        response = requests.get(url)\n",
    "\n",
    "        # Ensure the request was successful\n",
    "        response.raise_for_status()\n",
    "\n",
    "        # Write the content to a file\n",
    "        with open(local_filename, 'wb') as f:\n",
    "            f.write(response.content)\n",
    "    else:\n",
    "        print(f\"File {local_filename} already exists.\")\n"
   ]
  },
  {
   "cell_type": "code",
   "execution_count": null,
   "metadata": {},
   "outputs": [],
   "source": []
  },
  {
   "cell_type": "markdown",
   "metadata": {},
   "source": [
    "# Zip version"
   ]
  },
  {
   "cell_type": "code",
   "execution_count": 5,
   "metadata": {},
   "outputs": [],
   "source": [
    "def unzip_file(zip_filepath, dest_dir):\n",
    "    with zipfile.ZipFile(zip_filepath, 'r') as zip_ref:\n",
    "        zip_ref.extractall(dest_dir)\n",
    "    os.remove(zip_filepath)"
   ]
  },
  {
   "cell_type": "code",
   "execution_count": 1,
   "metadata": {},
   "outputs": [
    {
     "ename": "NameError",
     "evalue": "name 'requests' is not defined",
     "output_type": "error",
     "traceback": [
      "\u001b[1;31m---------------------------------------------------------------------------\u001b[0m",
      "\u001b[1;31mNameError\u001b[0m                                 Traceback (most recent call last)",
      "Cell \u001b[1;32mIn[1], line 1\u001b[0m\n\u001b[1;32m----> 1\u001b[0m response \u001b[38;5;241m=\u001b[39m \u001b[43mrequests\u001b[49m\u001b[38;5;241m.\u001b[39mget(\u001b[38;5;124m'\u001b[39m\u001b[38;5;124mhttps://www.dropbox.com/s/i1vbsmpxllb5z6l/files.zip?dl=1\u001b[39m\u001b[38;5;124m'\u001b[39m)\n\u001b[0;32m      2\u001b[0m \u001b[38;5;66;03m#Updated\u001b[39;00m\n\u001b[0;32m      3\u001b[0m \n\u001b[0;32m      4\u001b[0m \u001b[38;5;66;03m# Ensure the request was successful\u001b[39;00m\n\u001b[0;32m      5\u001b[0m response\u001b[38;5;241m.\u001b[39mraise_for_status()\n",
      "\u001b[1;31mNameError\u001b[0m: name 'requests' is not defined"
     ]
    }
   ],
   "source": [
    "response = requests.get('https://www.dropbox.com/s/i1vbsmpxllb5z6l/files.zip?dl=1')\n",
    "#Updated\n",
    "\n",
    "# Ensure the request was successful\n",
    "response.raise_for_status()\n",
    "\n",
    "# Write the content to a file\n",
    "with open('files.zip', 'wb') as f:\n",
    "    f.write(response.content)"
   ]
  },
  {
   "cell_type": "code",
   "execution_count": 6,
   "metadata": {},
   "outputs": [],
   "source": [
    "unzip_file('files.zip', '')"
   ]
  },
  {
   "cell_type": "code",
   "execution_count": null,
   "metadata": {},
   "outputs": [],
   "source": []
  }
 ],
 "metadata": {
  "kernelspec": {
   "display_name": "napari",
   "language": "python",
   "name": "python3"
  },
  "language_info": {
   "codemirror_mode": {
    "name": "ipython",
    "version": 3
   },
   "file_extension": ".py",
   "mimetype": "text/x-python",
   "name": "python",
   "nbconvert_exporter": "python",
   "pygments_lexer": "ipython3",
   "version": "3.10.13"
  }
 },
 "nbformat": 4,
 "nbformat_minor": 2
}
