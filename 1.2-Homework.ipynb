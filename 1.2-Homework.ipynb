{
 "cells": [
  {
   "attachments": {},
   "cell_type": "markdown",
   "metadata": {},
   "source": [
    "# Homework 1"
   ]
  },
  {
   "attachments": {},
   "cell_type": "markdown",
   "metadata": {},
   "source": [
    "### Loading modules"
   ]
  },
  {
   "cell_type": "code",
   "execution_count": 1,
   "metadata": {},
   "outputs": [],
   "source": [
    "# Numpy is the library we will use to handle arrays of data, of which images are but one example\n",
    "import numpy as np\n",
    "\n",
    "# Pandas is a library we will use to handle tabular data, such as the data we will use to store the results of our analysis\n",
    "import pandas as pd\n",
    "\n",
    "# Napari is a library we will use to visualize our images and interact with them\n",
    "import napari\n",
    "\n",
    "# Tifffile is useful for loading tiffs, although there are alternatives in skimage and elsewhere\n",
    "import tifffile\n",
    "\n",
    "# Scikit-image is a library we will use to perform image analysis\n",
    "import skimage as ski\n",
    "\n",
    "# Scipy is a library we will use for some miscellaneous image analysis functions, ndimage was written by the same people as scikit-image, but they have not yet been merged\n",
    "import scipy.ndimage as ndi\n",
    "\n",
    "# glob is useful for loading lists of files\n",
    "import glob\n",
    "\n",
    "# plotly is a great interactive plotting tool\n",
    "import plotly.express as px\n",
    "\n",
    "# cellpose is a great segmentation tool we will get to later\n",
    "import cellpose.models as models\n",
    "\n",
    "# matplotlib is a plotting library we won't use, but it can show images quickly and easily\n",
    "import matplotlib.pyplot as plt\n",
    "\n"
   ]
  },
  {
   "cell_type": "code",
   "execution_count": 2,
   "metadata": {},
   "outputs": [],
   "source": [
    "viewer = napari.Viewer()"
   ]
  },
  {
   "attachments": {},
   "cell_type": "markdown",
   "metadata": {},
   "source": [
    "# HOMEWORK"
   ]
  },
  {
   "attachments": {},
   "cell_type": "markdown",
   "metadata": {},
   "source": [
    "Pt 1:  Load Neuromast.tif into napari again, but change the colors to red and gray.  Adjust the contrast so that the background in both channels is removed.  Switch to 3D mode and take a screenshot."
   ]
  },
  {
   "cell_type": "code",
   "execution_count": 3,
   "metadata": {},
   "outputs": [
    {
     "data": {
      "text/plain": [
       "[<Image layer 'Image' at 0x15f33cb8040>,\n",
       " <Image layer 'Image [1]' at 0x15f33d05060>]"
      ]
     },
     "execution_count": 3,
     "metadata": {},
     "output_type": "execute_result"
    }
   ],
   "source": [
    "img = ski.io.imread('files/Neuromast.tif')\n",
    "\n",
    "viewer.layers.clear()\n",
    "viewer.add_image(img, channel_axis=2, scale=[1,0.5,.16,.16], colormap=['red', 'gray'])"
   ]
  },
  {
   "attachments": {},
   "cell_type": "markdown",
   "metadata": {},
   "source": [
    "Pt 2:  Find the dividing cell towards the edge of the image, crop down to just it in x, y, and z, make sure you include the proper scaling (0.5 in z, 0.16 in and X and Y)"
   ]
  },
  {
   "cell_type": "code",
   "execution_count": 4,
   "metadata": {},
   "outputs": [
    {
     "data": {
      "text/plain": [
       "[<Image layer 'Image' at 0x15f33c80760>,\n",
       " <Image layer 'Image [1]' at 0x15f37a71780>]"
      ]
     },
     "execution_count": 4,
     "metadata": {},
     "output_type": "execute_result"
    }
   ],
   "source": [
    "viewer.layers.clear()\n",
    "sub_img = img[:,24:40, :, 0:48, 72:120]\n",
    "viewer.add_image(sub_img, channel_axis=2, scale=[1,0.5,.16,.16])"
   ]
  },
  {
   "attachments": {},
   "cell_type": "markdown",
   "metadata": {},
   "source": [
    "Pt 3:  Take your cropped image and make 3 new images, each a max projection in one direction.  Display all 3 in napari, you will have to use the add_image 3 times, and to see them individually will have to toggle on/off their visibility."
   ]
  },
  {
   "cell_type": "code",
   "execution_count": 5,
   "metadata": {},
   "outputs": [
    {
     "data": {
      "text/plain": [
       "<Image layer 'X' at 0x15f65d9a350>"
      ]
     },
     "execution_count": 5,
     "metadata": {},
     "output_type": "execute_result"
    }
   ],
   "source": [
    "sub_z = np.max(sub_img[:,:,1], axis=1)\n",
    "sub_y = np.max(sub_img[:,:,1], axis=2)\n",
    "sub_x = np.max(sub_img[:,:,1], axis=3)\n",
    "\n",
    "viewer.layers.clear()\n",
    "viewer.add_image(sub_z, scale=[.16,.16], name='Z')\n",
    "viewer.add_image(sub_y, scale=[.16,.16], name='Y')\n",
    "viewer.add_image(sub_x, scale=[.16,.16], name='X')\n"
   ]
  },
  {
   "cell_type": "code",
   "execution_count": null,
   "metadata": {},
   "outputs": [],
   "source": []
  },
  {
   "cell_type": "code",
   "execution_count": null,
   "metadata": {},
   "outputs": [],
   "source": []
  }
 ],
 "metadata": {
  "kernelspec": {
   "display_name": "Python 3 (ipykernel)",
   "language": "python",
   "name": "python3"
  },
  "language_info": {
   "codemirror_mode": {
    "name": "ipython",
    "version": 3
   },
   "file_extension": ".py",
   "mimetype": "text/x-python",
   "name": "python",
   "nbconvert_exporter": "python",
   "pygments_lexer": "ipython3",
   "version": "3.10.13"
  }
 },
 "nbformat": 4,
 "nbformat_minor": 4
}
