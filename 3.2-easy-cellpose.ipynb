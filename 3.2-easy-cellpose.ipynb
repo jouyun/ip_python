{
 "cells": [
  {
   "cell_type": "markdown",
   "metadata": {},
   "source": [
    "### Do the imports\n",
    "- If I am doing any processing of files in a folder I like to import os and glob\n",
    "- import cellpose models for training of inferance\n",
    "- import something to read your images \n",
    "- import libraries to save your results\n"
   ]
  },
  {
   "cell_type": "code",
   "execution_count": 1,
   "metadata": {},
   "outputs": [],
   "source": [
    "import os\n",
    "import glob\n",
    "import sys\n",
    "\n",
    "from cellpose import models\n",
    "import napari\n",
    "import torch\n",
    "import nd2\n",
    "import numpy as np\n",
    "\n",
    "import skimage as ski\n",
    "\n",
    "import sutils"
   ]
  },
  {
   "cell_type": "markdown",
   "metadata": {},
   "source": [
    "Create the napari viewer to visualize images and mask"
   ]
  },
  {
   "cell_type": "code",
   "execution_count": 2,
   "metadata": {},
   "outputs": [],
   "source": [
    "viewer = napari.Viewer()"
   ]
  },
  {
   "cell_type": "markdown",
   "metadata": {},
   "source": [
    "### The segmentation results from the homework\n",
    "<img src=\"files/cellpose/Data/easy_labels.png\" width=\"750\">"
   ]
  },
  {
   "cell_type": "markdown",
   "metadata": {},
   "source": [
    "Find the image files to work with. Different path for Window, Mac, and Linux"
   ]
  },
  {
   "cell_type": "code",
   "execution_count": 3,
   "metadata": {},
   "outputs": [],
   "source": [
    "filename = \"files/Easy.tif\""
   ]
  },
  {
   "cell_type": "code",
   "execution_count": 4,
   "metadata": {},
   "outputs": [
    {
     "data": {
      "text/plain": [
       "(512, 512)"
      ]
     },
     "execution_count": 4,
     "metadata": {},
     "output_type": "execute_result"
    }
   ],
   "source": [
    "\n",
    "easy = ski.io.imread(filename)\n",
    "easy.shape"
   ]
  },
  {
   "cell_type": "markdown",
   "metadata": {},
   "source": [
    "Add the image to the napari viewer"
   ]
  },
  {
   "cell_type": "code",
   "execution_count": 5,
   "metadata": {},
   "outputs": [
    {
     "data": {
      "text/plain": [
       "<Image layer 'easy' at 0x2e1c417c3a0>"
      ]
     },
     "execution_count": 5,
     "metadata": {},
     "output_type": "execute_result"
    }
   ],
   "source": [
    "viewer.layers.clear()\n",
    "viewer.add_image(easy)"
   ]
  },
  {
   "cell_type": "markdown",
   "metadata": {},
   "source": [
    "### Setup the cellpose model\n",
    "\n",
    "#### GPU setting\n",
    "- on windows or linux with an NVIDIA GPU, set `gpu=True``\n",
    "- on M1 or M2 mac, set `device=torch.device('mps')`\n",
    "- on old Mac or Windows without GPU, set `gpu=False` -- this will be slower\n",
    "\n",
    "#### Model\n",
    "- cellpose has a number of pretrained models to use. This image looks like nuclei, so try the `nuclei` model. The `cyto` and `cyto2` models ofter work for nuclei.\n",
    "- info about pretrained cellpose [models](https://cellpose.readthedocs.io/en/latest/models.html)\n"
   ]
  },
  {
   "cell_type": "code",
   "execution_count": 6,
   "metadata": {},
   "outputs": [],
   "source": [
    "if sys.platform == 'darwin':\n",
    "    d = torch.device('mps')\n",
    "    model = models.Cellpose(gpu=False, device=d, model_type='cyto2')\n",
    "else:\n",
    "    # change gpu=True if on windows, and get rid of device\n",
    "    model = models.Cellpose(gpu=True, model_type='cyto2')"
   ]
  },
  {
   "cell_type": "markdown",
   "metadata": {},
   "source": [
    "### `model.eval`\n",
    "Parameters\n",
    "----------\n",
    "\n",
    "The basic options:\n",
    "- x : the image, can be a 2d numpy array, a list of numpy arrays,\n",
    "or a 3d numpy array\n",
    "- diameter : The approximate size of the object you are trying to segment\n",
    "- channels :\n",
    "    - [0, 0] for a grayscale image\n",
    "    - [] \n",
    "\n",
    "Returns\n",
    "-------\n",
    "- masks : An array or list of arrays with segmenation labels/masks\n",
    "- flows : A list of numpy arrays with fow"
   ]
  },
  {
   "cell_type": "markdown",
   "metadata": {},
   "source": [
    "#### Try cellpose with no paramter changes"
   ]
  },
  {
   "cell_type": "code",
   "execution_count": 7,
   "metadata": {},
   "outputs": [],
   "source": [
    "\n",
    "masks, flows, styles, diams = model.eval(easy, channels=[0, 0])"
   ]
  },
  {
   "cell_type": "markdown",
   "metadata": {},
   "source": [
    "Show the results from cellpose a layers in napari"
   ]
  },
  {
   "cell_type": "code",
   "execution_count": 8,
   "metadata": {},
   "outputs": [
    {
     "data": {
      "text/plain": [
       "<Labels layer 'cyto2, default settings' at 0x2e1d33dfe20>"
      ]
     },
     "execution_count": 8,
     "metadata": {},
     "output_type": "execute_result"
    }
   ],
   "source": [
    "viewer.layers.clear()\n",
    "viewer.add_image(easy)\n",
    "viewer.add_labels(masks, name='cyto2, default settings')\n"
   ]
  },
  {
   "cell_type": "markdown",
   "metadata": {},
   "source": [
    "The nuclei model is trained with a diameter of 17, but the default diameter is 30, so it will need to be adjusted.\n",
    "See what happens when the diameter is changed. What diameter is the best?"
   ]
  },
  {
   "cell_type": "code",
   "execution_count": 9,
   "metadata": {},
   "outputs": [
    {
     "data": {
      "text/plain": [
       "<Labels layer 'cyto2, diameter=12' at 0x2e1c52a4040>"
      ]
     },
     "execution_count": 9,
     "metadata": {},
     "output_type": "execute_result"
    }
   ],
   "source": [
    "masks2, flows2, styles2, diams2 = model.eval(easy, channels=[0, 0],\n",
    "                                         diameter=12,\n",
    "                                         #cellprob_threshold=0,\n",
    "                                         #flow_threshold=.4\n",
    ")\n",
    "\n",
    "viewer.add_labels(masks2, name='cyto2, diameter=12')"
   ]
  },
  {
   "cell_type": "markdown",
   "metadata": {},
   "source": [
    "# Different model"
   ]
  },
  {
   "cell_type": "code",
   "execution_count": 10,
   "metadata": {},
   "outputs": [],
   "source": [
    "if sys.platform == 'darwin':\n",
    "    d = torch.device('mps')\n",
    "    model = models.Cellpose(gpu=False, device=d, model_type='nuclei')\n",
    "else:\n",
    "    # change gpu=True if on windows, and get rid of device\n",
    "    model = models.Cellpose(gpu=True, model_type='nuclei')"
   ]
  },
  {
   "cell_type": "code",
   "execution_count": 11,
   "metadata": {},
   "outputs": [
    {
     "data": {
      "text/plain": [
       "<Labels layer 'nuclei model' at 0x2e20ee3ea40>"
      ]
     },
     "execution_count": 11,
     "metadata": {},
     "output_type": "execute_result"
    }
   ],
   "source": [
    "masks3, flows2, styles2, diams2 = model.eval(easy, channels=[0, 0],\n",
    "                                         diameter=12,\n",
    "                                         #cellprob_threshold=0,\n",
    "                                         #flow_threshold=.4\n",
    ")\n",
    "\n",
    "viewer.add_labels(masks3, name='nuclei model')"
   ]
  },
  {
   "cell_type": "code",
   "execution_count": null,
   "metadata": {},
   "outputs": [],
   "source": []
  }
 ],
 "metadata": {
  "kernelspec": {
   "display_name": "Python 3",
   "language": "python",
   "name": "python3"
  },
  "language_info": {
   "codemirror_mode": {
    "name": "ipython",
    "version": 3
   },
   "file_extension": ".py",
   "mimetype": "text/x-python",
   "name": "python",
   "nbconvert_exporter": "python",
   "pygments_lexer": "ipython3",
   "version": "3.10.13"
  }
 },
 "nbformat": 4,
 "nbformat_minor": 2
}
