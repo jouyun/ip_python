{
 "cells": [
  {
   "attachments": {},
   "cell_type": "markdown",
   "metadata": {},
   "source": [
    "# Homework 2"
   ]
  },
  {
   "attachments": {},
   "cell_type": "markdown",
   "metadata": {},
   "source": [
    "# Setup"
   ]
  },
  {
   "attachments": {},
   "cell_type": "markdown",
   "metadata": {},
   "source": [
    "### Our usual imports and initializing napari"
   ]
  },
  {
   "cell_type": "code",
   "execution_count": 1,
   "metadata": {},
   "outputs": [],
   "source": [
    "import numpy as np\n",
    "import pandas as pd\n",
    "import napari\n",
    "import tifffile\n",
    "import skimage as ski\n",
    "import scipy.ndimage as ndi\n",
    "import glob\n",
    "import plotly.express as px\n",
    "import cellpose.models as models\n",
    "import matplotlib.pyplot as plt\n",
    "import cv2\n",
    "import dask\n",
    "import sutils"
   ]
  },
  {
   "cell_type": "code",
   "execution_count": 2,
   "metadata": {},
   "outputs": [],
   "source": [
    "viewer = napari.Viewer()"
   ]
  },
  {
   "attachments": {},
   "cell_type": "markdown",
   "metadata": {},
   "source": [
    "## Part 1:  Quantify nucleii in \"Easy.tif\""
   ]
  },
  {
   "attachments": {},
   "cell_type": "markdown",
   "metadata": {},
   "source": [
    "Use similar analysis (rolling ball background subtraction, gaussian blur, threshold, label, regionprops_table) to make a label image of the nucleii in \"Easy.tif\".  "
   ]
  },
  {
   "cell_type": "code",
   "execution_count": 3,
   "metadata": {},
   "outputs": [
    {
     "data": {
      "text/plain": [
       "<Labels layer 'label_img' at 0x1f43bc2abc0>"
      ]
     },
     "execution_count": 3,
     "metadata": {},
     "output_type": "execute_result"
    }
   ],
   "source": [
    "easy_img = ski.io.imread('files/Easy.tif')\n",
    "backsub_img = sutils.backsub_2D(easy_img, radius=20)\n",
    "blurred_img = ndi.gaussian_filter(backsub_img, 2)\n",
    "thresholded_img = blurred_img>10\n",
    "label_img, number_objects = ndi.label(thresholded_img)\n",
    "\n",
    "viewer.layers.clear()\n",
    "viewer.add_image(easy_img, name='easy_img', colormap='gray', blending='additive')\n",
    "viewer.add_image(backsub_img, name='backsub_img', colormap='gray', blending='additive')\n",
    "viewer.add_image(blurred_img, name='blurred_img', colormap='gray', blending='additive')\n",
    "viewer.add_image(thresholded_img, name='thresholded_img', colormap='gray', blending='additive')\n",
    "viewer.add_labels(label_img, name='label_img')"
   ]
  },
  {
   "attachments": {},
   "cell_type": "markdown",
   "metadata": {},
   "source": [
    "Note that a lot of objects are merged that are single objects, we will find ways using watershed to clean this up later, but for now let's filter objects on size. \n",
    "\n",
    "Use the ski.measure.regionprops_table() to generate a results table and the ski.util.map_array() function to make \"area_img\" and then visualize this in napari."
   ]
  },
  {
   "cell_type": "code",
   "execution_count": 4,
   "metadata": {},
   "outputs": [],
   "source": [
    "results = pd.DataFrame(ski.measure.regionprops_table(label_img, easy_img, properties=('label', 'area', 'centroid', 'mean_intensity')))\n",
    "area_img = ski.util.map_array(label_img, results['label'].values, results['area'].values)\n"
   ]
  },
  {
   "cell_type": "code",
   "execution_count": 5,
   "metadata": {},
   "outputs": [
    {
     "data": {
      "text/plain": [
       "<Image layer 'area_img' at 0x1f48b532cb0>"
      ]
     },
     "execution_count": 5,
     "metadata": {},
     "output_type": "execute_result"
    }
   ],
   "source": [
    "viewer.add_image(area_img, name='area_img', colormap='blue', blending='additive')"
   ]
  },
  {
   "attachments": {},
   "cell_type": "markdown",
   "metadata": {},
   "source": [
    "## Part 2:  Filter the nucleii by size"
   ]
  },
  {
   "attachments": {},
   "cell_type": "markdown",
   "metadata": {},
   "source": [
    "### Finding a minimum size"
   ]
  },
  {
   "attachments": {},
   "cell_type": "markdown",
   "metadata": {},
   "source": [
    "We want to find area limits that let through objects that are single nucleii, but filter out objects that are multiple nucleii and garbage.  \n",
    "\n",
    "To find the low end (ie the MINIMUM size threshold) we can use our area_img.  Let's just adjust the contrast until the objects that are too small disappear and we are left only with the good ones.\n",
    "\n",
    "To see the VALUE of \"contrast\" being used (which for us is the object's area), we can right click on the \"contrast limits\" slider.\n",
    "\n",
    "Set a variable called \"min_area\" to the value you found."
   ]
  },
  {
   "cell_type": "code",
   "execution_count": 6,
   "metadata": {},
   "outputs": [],
   "source": [
    "min_area = 35"
   ]
  },
  {
   "attachments": {},
   "cell_type": "markdown",
   "metadata": {},
   "source": [
    "### Finding a maximum size"
   ]
  },
  {
   "attachments": {},
   "cell_type": "markdown",
   "metadata": {},
   "source": [
    "Now we want to find a \"max_area\" that filters out the double nucleii.\n",
    "\n",
    "To do this we can play a trick, we can use napari's \"gray_r\" colormap to visualize the inverse of the area_img.  First we have to play another trick, where we set the area_img's intensity values to be high wherever there is no object (otherwise the background will show as bright).  We will do this using area_img[area_img==0] = np.max(area_img)\n",
    "\n",
    "area_img==0 returns a binary image, where only the pixels that had value equal to 0 are True and all others are false.  When we ask area_img[..] on a binary image, numpy is smart and returns only the pixels that are True.  We then set all of these pixels to the maximum value in the image."
   ]
  },
  {
   "cell_type": "code",
   "execution_count": 7,
   "metadata": {},
   "outputs": [
    {
     "data": {
      "text/plain": [
       "<Image layer 'area_img [1]' at 0x1f48b59a050>"
      ]
     },
     "execution_count": 7,
     "metadata": {},
     "output_type": "execute_result"
    }
   ],
   "source": [
    "### THIS CODE STAYS IN THE STUDENT VERSION\n",
    "area_img[area_img==0] = np.max(area_img)\n",
    "viewer.add_image(area_img, name='area_img', colormap='gray_r', blending='additive')"
   ]
  },
  {
   "attachments": {},
   "cell_type": "markdown",
   "metadata": {},
   "source": [
    "We want to find a contrast that lets through all the single nucleii, but filters out the double nucleii.  By right clicking on \"contrast limits\" we can see the actual values of the contrast limits.  Adjusting the upper level is effectively adjusting the area of objects that we are allowing to be display.\n",
    "\n",
    "\n",
    "Once you find this contrast, use it to filter the results table to only include objects that are smaller than the best max area."
   ]
  },
  {
   "cell_type": "code",
   "execution_count": 8,
   "metadata": {},
   "outputs": [],
   "source": [
    "max_area = 250"
   ]
  },
  {
   "attachments": {},
   "cell_type": "markdown",
   "metadata": {},
   "source": [
    "Alternatively, you can just guess a max_area, and see what results you get below."
   ]
  },
  {
   "attachments": {},
   "cell_type": "markdown",
   "metadata": {},
   "source": [
    "### Filtering the objects"
   ]
  },
  {
   "attachments": {},
   "cell_type": "markdown",
   "metadata": {},
   "source": [
    "Finally, use the \"sutils.remove_objects\" function to keep only the objects that are small enough to be single nucleii, then show this new labeled image in napari."
   ]
  },
  {
   "cell_type": "code",
   "execution_count": 9,
   "metadata": {},
   "outputs": [
    {
     "data": {
      "text/plain": [
       "<Labels layer 'filtered_labels' at 0x1f48b532da0>"
      ]
     },
     "execution_count": 9,
     "metadata": {},
     "output_type": "execute_result"
    }
   ],
   "source": [
    "filtered_labels = sutils.remove_objects(label_img, min_area, max_area)\n",
    "viewer.add_labels(filtered_labels, name='filtered_labels')"
   ]
  },
  {
   "attachments": {},
   "cell_type": "markdown",
   "metadata": {},
   "source": [
    "## Part 3 (extra credit): Looking at object standard deviations"
   ]
  },
  {
   "attachments": {},
   "cell_type": "markdown",
   "metadata": {},
   "source": [
    "### Standard deviation of original labels"
   ]
  },
  {
   "attachments": {},
   "cell_type": "markdown",
   "metadata": {},
   "source": [
    "Recall we can create our own functions for quantifying objects with regionprops, this function finds the standard deviation of the intensity of each object."
   ]
  },
  {
   "cell_type": "code",
   "execution_count": 10,
   "metadata": {},
   "outputs": [],
   "source": [
    "### DO NOT REMOVE FROM STUDENT VERSION\n",
    "\n",
    "def object_stdeviation(mask_img, intensity_img):\n",
    "    return np.std(intensity_img[mask_img])\n"
   ]
  },
  {
   "attachments": {},
   "cell_type": "markdown",
   "metadata": {},
   "source": [
    "Use this function and the \"extra_properties\" argument of ski.measure.regionprops_table to find the standard deviation of the intensities of each nucleii (in addition to the usual 'label', 'area', 'centroid', 'mean_intensity').  Recall that if you want to quantify intensities, regionprops_table needs both the label image and the intensity image."
   ]
  },
  {
   "cell_type": "code",
   "execution_count": 11,
   "metadata": {},
   "outputs": [],
   "source": [
    "results_dict = ski.measure.regionprops_table(filtered_labels, easy_img, properties=('label', 'area', 'centroid', 'mean_intensity'), extra_properties=[object_stdeviation])\n",
    "results = pd.DataFrame(results_dict)"
   ]
  },
  {
   "cell_type": "code",
   "execution_count": 12,
   "metadata": {},
   "outputs": [
    {
     "data": {
      "text/html": [
       "<div>\n",
       "<style scoped>\n",
       "    .dataframe tbody tr th:only-of-type {\n",
       "        vertical-align: middle;\n",
       "    }\n",
       "\n",
       "    .dataframe tbody tr th {\n",
       "        vertical-align: top;\n",
       "    }\n",
       "\n",
       "    .dataframe thead th {\n",
       "        text-align: right;\n",
       "    }\n",
       "</style>\n",
       "<table border=\"1\" class=\"dataframe\">\n",
       "  <thead>\n",
       "    <tr style=\"text-align: right;\">\n",
       "      <th></th>\n",
       "      <th>label</th>\n",
       "      <th>area</th>\n",
       "      <th>centroid-0</th>\n",
       "      <th>centroid-1</th>\n",
       "      <th>mean_intensity</th>\n",
       "      <th>object_stdeviation</th>\n",
       "    </tr>\n",
       "  </thead>\n",
       "  <tbody>\n",
       "    <tr>\n",
       "      <th>0</th>\n",
       "      <td>1</td>\n",
       "      <td>100.0</td>\n",
       "      <td>3.350000</td>\n",
       "      <td>30.370000</td>\n",
       "      <td>38.990000</td>\n",
       "      <td>16.196601</td>\n",
       "    </tr>\n",
       "    <tr>\n",
       "      <th>1</th>\n",
       "      <td>7</td>\n",
       "      <td>133.0</td>\n",
       "      <td>11.255639</td>\n",
       "      <td>80.526316</td>\n",
       "      <td>38.526316</td>\n",
       "      <td>17.693964</td>\n",
       "    </tr>\n",
       "    <tr>\n",
       "      <th>2</th>\n",
       "      <td>9</td>\n",
       "      <td>199.0</td>\n",
       "      <td>19.241206</td>\n",
       "      <td>177.447236</td>\n",
       "      <td>44.532663</td>\n",
       "      <td>19.951390</td>\n",
       "    </tr>\n",
       "    <tr>\n",
       "      <th>3</th>\n",
       "      <td>10</td>\n",
       "      <td>147.0</td>\n",
       "      <td>18.836735</td>\n",
       "      <td>102.632653</td>\n",
       "      <td>39.591837</td>\n",
       "      <td>21.179747</td>\n",
       "    </tr>\n",
       "    <tr>\n",
       "      <th>4</th>\n",
       "      <td>11</td>\n",
       "      <td>193.0</td>\n",
       "      <td>23.404145</td>\n",
       "      <td>131.088083</td>\n",
       "      <td>46.435233</td>\n",
       "      <td>26.302292</td>\n",
       "    </tr>\n",
       "    <tr>\n",
       "      <th>...</th>\n",
       "      <td>...</td>\n",
       "      <td>...</td>\n",
       "      <td>...</td>\n",
       "      <td>...</td>\n",
       "      <td>...</td>\n",
       "      <td>...</td>\n",
       "    </tr>\n",
       "    <tr>\n",
       "      <th>148</th>\n",
       "      <td>215</td>\n",
       "      <td>187.0</td>\n",
       "      <td>507.550802</td>\n",
       "      <td>94.978610</td>\n",
       "      <td>40.732620</td>\n",
       "      <td>17.477354</td>\n",
       "    </tr>\n",
       "    <tr>\n",
       "      <th>149</th>\n",
       "      <td>216</td>\n",
       "      <td>198.0</td>\n",
       "      <td>507.929293</td>\n",
       "      <td>396.858586</td>\n",
       "      <td>53.449495</td>\n",
       "      <td>35.524710</td>\n",
       "    </tr>\n",
       "    <tr>\n",
       "      <th>150</th>\n",
       "      <td>217</td>\n",
       "      <td>106.0</td>\n",
       "      <td>508.754717</td>\n",
       "      <td>51.113208</td>\n",
       "      <td>44.311321</td>\n",
       "      <td>30.254070</td>\n",
       "    </tr>\n",
       "    <tr>\n",
       "      <th>151</th>\n",
       "      <td>218</td>\n",
       "      <td>72.0</td>\n",
       "      <td>508.555556</td>\n",
       "      <td>228.500000</td>\n",
       "      <td>44.486111</td>\n",
       "      <td>25.854826</td>\n",
       "    </tr>\n",
       "    <tr>\n",
       "      <th>152</th>\n",
       "      <td>219</td>\n",
       "      <td>79.0</td>\n",
       "      <td>508.455696</td>\n",
       "      <td>448.291139</td>\n",
       "      <td>41.658228</td>\n",
       "      <td>18.243699</td>\n",
       "    </tr>\n",
       "  </tbody>\n",
       "</table>\n",
       "<p>153 rows × 6 columns</p>\n",
       "</div>"
      ],
      "text/plain": [
       "     label   area  centroid-0  centroid-1  mean_intensity  object_stdeviation\n",
       "0        1  100.0    3.350000   30.370000       38.990000           16.196601\n",
       "1        7  133.0   11.255639   80.526316       38.526316           17.693964\n",
       "2        9  199.0   19.241206  177.447236       44.532663           19.951390\n",
       "3       10  147.0   18.836735  102.632653       39.591837           21.179747\n",
       "4       11  193.0   23.404145  131.088083       46.435233           26.302292\n",
       "..     ...    ...         ...         ...             ...                 ...\n",
       "148    215  187.0  507.550802   94.978610       40.732620           17.477354\n",
       "149    216  198.0  507.929293  396.858586       53.449495           35.524710\n",
       "150    217  106.0  508.754717   51.113208       44.311321           30.254070\n",
       "151    218   72.0  508.555556  228.500000       44.486111           25.854826\n",
       "152    219   79.0  508.455696  448.291139       41.658228           18.243699\n",
       "\n",
       "[153 rows x 6 columns]"
      ]
     },
     "execution_count": 12,
     "metadata": {},
     "output_type": "execute_result"
    }
   ],
   "source": [
    "results"
   ]
  },
  {
   "cell_type": "code",
   "execution_count": 13,
   "metadata": {},
   "outputs": [],
   "source": [
    "### DO NOT REMOVE FROM STUDENT VERSION\n",
    "results['SNR'] = results['mean_intensity']/results['object_stdeviation']\n",
    "results['Type'] = 'Regular'"
   ]
  },
  {
   "attachments": {},
   "cell_type": "markdown",
   "metadata": {},
   "source": [
    "SNR is a quick way of evaluating how strong our signal to noise is.  Looking at our labels we can see that a lot of pixels that are associated with a nucleus are on the edge where there really is not nucleus.  Including these pixels is going to make our standard deviation much higher that it probably actually is."
   ]
  },
  {
   "attachments": {},
   "cell_type": "markdown",
   "metadata": {},
   "source": [
    "### Shrinking the labels"
   ]
  },
  {
   "attachments": {},
   "cell_type": "markdown",
   "metadata": {},
   "source": [
    "Create a new variable:  shrunk_labels, takes the filtered_labels and shrinks them by 1 pixel.  Add it to napari to make sure it worked."
   ]
  },
  {
   "cell_type": "code",
   "execution_count": 14,
   "metadata": {},
   "outputs": [
    {
     "data": {
      "text/plain": [
       "<Labels layer 'shrunk_labels' at 0x1f43bc3c370>"
      ]
     },
     "execution_count": 14,
     "metadata": {},
     "output_type": "execute_result"
    }
   ],
   "source": [
    "shrunk_labels = sutils.shrink_labels(filtered_labels, shrinkage=5)\n",
    "viewer.add_labels(shrunk_labels, name='shrunk_labels')"
   ]
  },
  {
   "attachments": {},
   "cell_type": "markdown",
   "metadata": {},
   "source": [
    "Create a new shrunk_results table that is the regionprops_table of the shrunk_labels, including the object_stdeviation as well."
   ]
  },
  {
   "cell_type": "code",
   "execution_count": 15,
   "metadata": {},
   "outputs": [],
   "source": [
    "shrunk_results_dict = ski.measure.regionprops_table(shrunk_labels, easy_img, properties=('label', 'area', 'centroid', 'mean_intensity'), extra_properties=[object_stdeviation])\n",
    "shrunk_results = pd.DataFrame(shrunk_results_dict)"
   ]
  },
  {
   "cell_type": "code",
   "execution_count": 16,
   "metadata": {},
   "outputs": [
    {
     "data": {
      "text/html": [
       "<div>\n",
       "<style scoped>\n",
       "    .dataframe tbody tr th:only-of-type {\n",
       "        vertical-align: middle;\n",
       "    }\n",
       "\n",
       "    .dataframe tbody tr th {\n",
       "        vertical-align: top;\n",
       "    }\n",
       "\n",
       "    .dataframe thead th {\n",
       "        text-align: right;\n",
       "    }\n",
       "</style>\n",
       "<table border=\"1\" class=\"dataframe\">\n",
       "  <thead>\n",
       "    <tr style=\"text-align: right;\">\n",
       "      <th></th>\n",
       "      <th>label</th>\n",
       "      <th>area</th>\n",
       "      <th>centroid-0</th>\n",
       "      <th>centroid-1</th>\n",
       "      <th>mean_intensity</th>\n",
       "      <th>object_stdeviation</th>\n",
       "      <th>SNR</th>\n",
       "      <th>Type</th>\n",
       "    </tr>\n",
       "  </thead>\n",
       "  <tbody>\n",
       "    <tr>\n",
       "      <th>0</th>\n",
       "      <td>1</td>\n",
       "      <td>100.0</td>\n",
       "      <td>3.350000</td>\n",
       "      <td>30.370000</td>\n",
       "      <td>38.990000</td>\n",
       "      <td>16.196601</td>\n",
       "      <td>2.407295</td>\n",
       "      <td>Regular</td>\n",
       "    </tr>\n",
       "    <tr>\n",
       "      <th>1</th>\n",
       "      <td>7</td>\n",
       "      <td>133.0</td>\n",
       "      <td>11.255639</td>\n",
       "      <td>80.526316</td>\n",
       "      <td>38.526316</td>\n",
       "      <td>17.693964</td>\n",
       "      <td>2.177370</td>\n",
       "      <td>Regular</td>\n",
       "    </tr>\n",
       "    <tr>\n",
       "      <th>2</th>\n",
       "      <td>9</td>\n",
       "      <td>199.0</td>\n",
       "      <td>19.241206</td>\n",
       "      <td>177.447236</td>\n",
       "      <td>44.532663</td>\n",
       "      <td>19.951390</td>\n",
       "      <td>2.232058</td>\n",
       "      <td>Regular</td>\n",
       "    </tr>\n",
       "    <tr>\n",
       "      <th>3</th>\n",
       "      <td>10</td>\n",
       "      <td>147.0</td>\n",
       "      <td>18.836735</td>\n",
       "      <td>102.632653</td>\n",
       "      <td>39.591837</td>\n",
       "      <td>21.179747</td>\n",
       "      <td>1.869325</td>\n",
       "      <td>Regular</td>\n",
       "    </tr>\n",
       "    <tr>\n",
       "      <th>4</th>\n",
       "      <td>11</td>\n",
       "      <td>193.0</td>\n",
       "      <td>23.404145</td>\n",
       "      <td>131.088083</td>\n",
       "      <td>46.435233</td>\n",
       "      <td>26.302292</td>\n",
       "      <td>1.765444</td>\n",
       "      <td>Regular</td>\n",
       "    </tr>\n",
       "    <tr>\n",
       "      <th>...</th>\n",
       "      <td>...</td>\n",
       "      <td>...</td>\n",
       "      <td>...</td>\n",
       "      <td>...</td>\n",
       "      <td>...</td>\n",
       "      <td>...</td>\n",
       "      <td>...</td>\n",
       "      <td>...</td>\n",
       "    </tr>\n",
       "    <tr>\n",
       "      <th>148</th>\n",
       "      <td>215</td>\n",
       "      <td>187.0</td>\n",
       "      <td>507.550802</td>\n",
       "      <td>94.978610</td>\n",
       "      <td>40.732620</td>\n",
       "      <td>17.477354</td>\n",
       "      <td>2.330594</td>\n",
       "      <td>Regular</td>\n",
       "    </tr>\n",
       "    <tr>\n",
       "      <th>149</th>\n",
       "      <td>216</td>\n",
       "      <td>198.0</td>\n",
       "      <td>507.929293</td>\n",
       "      <td>396.858586</td>\n",
       "      <td>53.449495</td>\n",
       "      <td>35.524710</td>\n",
       "      <td>1.504572</td>\n",
       "      <td>Regular</td>\n",
       "    </tr>\n",
       "    <tr>\n",
       "      <th>150</th>\n",
       "      <td>217</td>\n",
       "      <td>106.0</td>\n",
       "      <td>508.754717</td>\n",
       "      <td>51.113208</td>\n",
       "      <td>44.311321</td>\n",
       "      <td>30.254070</td>\n",
       "      <td>1.464640</td>\n",
       "      <td>Regular</td>\n",
       "    </tr>\n",
       "    <tr>\n",
       "      <th>151</th>\n",
       "      <td>218</td>\n",
       "      <td>72.0</td>\n",
       "      <td>508.555556</td>\n",
       "      <td>228.500000</td>\n",
       "      <td>44.486111</td>\n",
       "      <td>25.854826</td>\n",
       "      <td>1.720612</td>\n",
       "      <td>Regular</td>\n",
       "    </tr>\n",
       "    <tr>\n",
       "      <th>152</th>\n",
       "      <td>219</td>\n",
       "      <td>79.0</td>\n",
       "      <td>508.455696</td>\n",
       "      <td>448.291139</td>\n",
       "      <td>41.658228</td>\n",
       "      <td>18.243699</td>\n",
       "      <td>2.283431</td>\n",
       "      <td>Regular</td>\n",
       "    </tr>\n",
       "  </tbody>\n",
       "</table>\n",
       "<p>153 rows × 8 columns</p>\n",
       "</div>"
      ],
      "text/plain": [
       "     label   area  centroid-0  centroid-1  mean_intensity  object_stdeviation  \\\n",
       "0        1  100.0    3.350000   30.370000       38.990000           16.196601   \n",
       "1        7  133.0   11.255639   80.526316       38.526316           17.693964   \n",
       "2        9  199.0   19.241206  177.447236       44.532663           19.951390   \n",
       "3       10  147.0   18.836735  102.632653       39.591837           21.179747   \n",
       "4       11  193.0   23.404145  131.088083       46.435233           26.302292   \n",
       "..     ...    ...         ...         ...             ...                 ...   \n",
       "148    215  187.0  507.550802   94.978610       40.732620           17.477354   \n",
       "149    216  198.0  507.929293  396.858586       53.449495           35.524710   \n",
       "150    217  106.0  508.754717   51.113208       44.311321           30.254070   \n",
       "151    218   72.0  508.555556  228.500000       44.486111           25.854826   \n",
       "152    219   79.0  508.455696  448.291139       41.658228           18.243699   \n",
       "\n",
       "          SNR     Type  \n",
       "0    2.407295  Regular  \n",
       "1    2.177370  Regular  \n",
       "2    2.232058  Regular  \n",
       "3    1.869325  Regular  \n",
       "4    1.765444  Regular  \n",
       "..        ...      ...  \n",
       "148  2.330594  Regular  \n",
       "149  1.504572  Regular  \n",
       "150  1.464640  Regular  \n",
       "151  1.720612  Regular  \n",
       "152  2.283431  Regular  \n",
       "\n",
       "[153 rows x 8 columns]"
      ]
     },
     "execution_count": 16,
     "metadata": {},
     "output_type": "execute_result"
    }
   ],
   "source": [
    "results"
   ]
  },
  {
   "cell_type": "code",
   "execution_count": 17,
   "metadata": {},
   "outputs": [
    {
     "data": {
      "text/html": [
       "<div>\n",
       "<style scoped>\n",
       "    .dataframe tbody tr th:only-of-type {\n",
       "        vertical-align: middle;\n",
       "    }\n",
       "\n",
       "    .dataframe tbody tr th {\n",
       "        vertical-align: top;\n",
       "    }\n",
       "\n",
       "    .dataframe thead th {\n",
       "        text-align: right;\n",
       "    }\n",
       "</style>\n",
       "<table border=\"1\" class=\"dataframe\">\n",
       "  <thead>\n",
       "    <tr style=\"text-align: right;\">\n",
       "      <th></th>\n",
       "      <th>label</th>\n",
       "      <th>area</th>\n",
       "      <th>centroid-0</th>\n",
       "      <th>centroid-1</th>\n",
       "      <th>mean_intensity</th>\n",
       "      <th>object_stdeviation</th>\n",
       "    </tr>\n",
       "  </thead>\n",
       "  <tbody>\n",
       "    <tr>\n",
       "      <th>0</th>\n",
       "      <td>1</td>\n",
       "      <td>54.0</td>\n",
       "      <td>2.537037</td>\n",
       "      <td>30.333333</td>\n",
       "      <td>51.777778</td>\n",
       "      <td>5.613036</td>\n",
       "    </tr>\n",
       "    <tr>\n",
       "      <th>1</th>\n",
       "      <td>7</td>\n",
       "      <td>59.0</td>\n",
       "      <td>11.254237</td>\n",
       "      <td>80.525424</td>\n",
       "      <td>55.389831</td>\n",
       "      <td>4.528692</td>\n",
       "    </tr>\n",
       "    <tr>\n",
       "      <th>2</th>\n",
       "      <td>9</td>\n",
       "      <td>109.0</td>\n",
       "      <td>19.247706</td>\n",
       "      <td>177.477064</td>\n",
       "      <td>60.678899</td>\n",
       "      <td>6.949201</td>\n",
       "    </tr>\n",
       "    <tr>\n",
       "      <th>3</th>\n",
       "      <td>10</td>\n",
       "      <td>71.0</td>\n",
       "      <td>18.887324</td>\n",
       "      <td>102.676056</td>\n",
       "      <td>59.295775</td>\n",
       "      <td>9.096346</td>\n",
       "    </tr>\n",
       "    <tr>\n",
       "      <th>4</th>\n",
       "      <td>11</td>\n",
       "      <td>104.0</td>\n",
       "      <td>23.413462</td>\n",
       "      <td>131.086538</td>\n",
       "      <td>68.769231</td>\n",
       "      <td>11.492666</td>\n",
       "    </tr>\n",
       "    <tr>\n",
       "      <th>...</th>\n",
       "      <td>...</td>\n",
       "      <td>...</td>\n",
       "      <td>...</td>\n",
       "      <td>...</td>\n",
       "      <td>...</td>\n",
       "      <td>...</td>\n",
       "    </tr>\n",
       "    <tr>\n",
       "      <th>148</th>\n",
       "      <td>215</td>\n",
       "      <td>119.0</td>\n",
       "      <td>508.453782</td>\n",
       "      <td>94.890756</td>\n",
       "      <td>49.218487</td>\n",
       "      <td>14.563197</td>\n",
       "    </tr>\n",
       "    <tr>\n",
       "      <th>149</th>\n",
       "      <td>216</td>\n",
       "      <td>118.0</td>\n",
       "      <td>508.889831</td>\n",
       "      <td>396.720339</td>\n",
       "      <td>74.635593</td>\n",
       "      <td>31.023137</td>\n",
       "    </tr>\n",
       "    <tr>\n",
       "      <th>150</th>\n",
       "      <td>217</td>\n",
       "      <td>56.0</td>\n",
       "      <td>509.589286</td>\n",
       "      <td>50.928571</td>\n",
       "      <td>67.839286</td>\n",
       "      <td>22.875265</td>\n",
       "    </tr>\n",
       "    <tr>\n",
       "      <th>151</th>\n",
       "      <td>218</td>\n",
       "      <td>34.0</td>\n",
       "      <td>509.294118</td>\n",
       "      <td>228.500000</td>\n",
       "      <td>69.500000</td>\n",
       "      <td>10.541933</td>\n",
       "    </tr>\n",
       "    <tr>\n",
       "      <th>152</th>\n",
       "      <td>219</td>\n",
       "      <td>39.0</td>\n",
       "      <td>509.307692</td>\n",
       "      <td>448.230769</td>\n",
       "      <td>57.897436</td>\n",
       "      <td>7.185437</td>\n",
       "    </tr>\n",
       "  </tbody>\n",
       "</table>\n",
       "<p>153 rows × 6 columns</p>\n",
       "</div>"
      ],
      "text/plain": [
       "     label   area  centroid-0  centroid-1  mean_intensity  object_stdeviation\n",
       "0        1   54.0    2.537037   30.333333       51.777778            5.613036\n",
       "1        7   59.0   11.254237   80.525424       55.389831            4.528692\n",
       "2        9  109.0   19.247706  177.477064       60.678899            6.949201\n",
       "3       10   71.0   18.887324  102.676056       59.295775            9.096346\n",
       "4       11  104.0   23.413462  131.086538       68.769231           11.492666\n",
       "..     ...    ...         ...         ...             ...                 ...\n",
       "148    215  119.0  508.453782   94.890756       49.218487           14.563197\n",
       "149    216  118.0  508.889831  396.720339       74.635593           31.023137\n",
       "150    217   56.0  509.589286   50.928571       67.839286           22.875265\n",
       "151    218   34.0  509.294118  228.500000       69.500000           10.541933\n",
       "152    219   39.0  509.307692  448.230769       57.897436            7.185437\n",
       "\n",
       "[153 rows x 6 columns]"
      ]
     },
     "execution_count": 17,
     "metadata": {},
     "output_type": "execute_result"
    }
   ],
   "source": [
    "shrunk_results"
   ]
  },
  {
   "cell_type": "code",
   "execution_count": 18,
   "metadata": {},
   "outputs": [],
   "source": [
    "### DO NOT REMOVE FROM STUDENT VERSION\n",
    "shrunk_results['SNR'] = shrunk_results['mean_intensity']/shrunk_results['object_stdeviation']\n",
    "shrunk_results['Type'] = 'Shrunk'"
   ]
  },
  {
   "attachments": {},
   "cell_type": "markdown",
   "metadata": {},
   "source": [
    "### Plotting results of SNR"
   ]
  },
  {
   "attachments": {},
   "cell_type": "markdown",
   "metadata": {},
   "source": [
    "If all went well we should get a nice plot of the SNR in shrunk vs unshrunk labels."
   ]
  },
  {
   "cell_type": "code",
   "execution_count": 19,
   "metadata": {},
   "outputs": [
    {
     "data": {
      "application/vnd.plotly.v1+json": {
       "config": {
        "plotlyServerURL": "https://plot.ly"
       },
       "data": [
        {
         "alignmentgroup": "True",
         "boxpoints": "all",
         "hovertemplate": "Type=%{x}<br>SNR=%{y}<extra></extra>",
         "legendgroup": "",
         "marker": {
          "color": "#636efa"
         },
         "name": "",
         "notched": false,
         "offsetgroup": "",
         "orientation": "v",
         "showlegend": false,
         "type": "box",
         "x": [
          "Regular",
          "Regular",
          "Regular",
          "Regular",
          "Regular",
          "Regular",
          "Regular",
          "Regular",
          "Regular",
          "Regular",
          "Regular",
          "Regular",
          "Regular",
          "Regular",
          "Regular",
          "Regular",
          "Regular",
          "Regular",
          "Regular",
          "Regular",
          "Regular",
          "Regular",
          "Regular",
          "Regular",
          "Regular",
          "Regular",
          "Regular",
          "Regular",
          "Regular",
          "Regular",
          "Regular",
          "Regular",
          "Regular",
          "Regular",
          "Regular",
          "Regular",
          "Regular",
          "Regular",
          "Regular",
          "Regular",
          "Regular",
          "Regular",
          "Regular",
          "Regular",
          "Regular",
          "Regular",
          "Regular",
          "Regular",
          "Regular",
          "Regular",
          "Regular",
          "Regular",
          "Regular",
          "Regular",
          "Regular",
          "Regular",
          "Regular",
          "Regular",
          "Regular",
          "Regular",
          "Regular",
          "Regular",
          "Regular",
          "Regular",
          "Regular",
          "Regular",
          "Regular",
          "Regular",
          "Regular",
          "Regular",
          "Regular",
          "Regular",
          "Regular",
          "Regular",
          "Regular",
          "Regular",
          "Regular",
          "Regular",
          "Regular",
          "Regular",
          "Regular",
          "Regular",
          "Regular",
          "Regular",
          "Regular",
          "Regular",
          "Regular",
          "Regular",
          "Regular",
          "Regular",
          "Regular",
          "Regular",
          "Regular",
          "Regular",
          "Regular",
          "Regular",
          "Regular",
          "Regular",
          "Regular",
          "Regular",
          "Regular",
          "Regular",
          "Regular",
          "Regular",
          "Regular",
          "Regular",
          "Regular",
          "Regular",
          "Regular",
          "Regular",
          "Regular",
          "Regular",
          "Regular",
          "Regular",
          "Regular",
          "Regular",
          "Regular",
          "Regular",
          "Regular",
          "Regular",
          "Regular",
          "Regular",
          "Regular",
          "Regular",
          "Regular",
          "Regular",
          "Regular",
          "Regular",
          "Regular",
          "Regular",
          "Regular",
          "Regular",
          "Regular",
          "Regular",
          "Regular",
          "Regular",
          "Regular",
          "Regular",
          "Regular",
          "Regular",
          "Regular",
          "Regular",
          "Regular",
          "Regular",
          "Regular",
          "Regular",
          "Regular",
          "Regular",
          "Regular",
          "Regular",
          "Regular",
          "Regular",
          "Regular",
          "Shrunk",
          "Shrunk",
          "Shrunk",
          "Shrunk",
          "Shrunk",
          "Shrunk",
          "Shrunk",
          "Shrunk",
          "Shrunk",
          "Shrunk",
          "Shrunk",
          "Shrunk",
          "Shrunk",
          "Shrunk",
          "Shrunk",
          "Shrunk",
          "Shrunk",
          "Shrunk",
          "Shrunk",
          "Shrunk",
          "Shrunk",
          "Shrunk",
          "Shrunk",
          "Shrunk",
          "Shrunk",
          "Shrunk",
          "Shrunk",
          "Shrunk",
          "Shrunk",
          "Shrunk",
          "Shrunk",
          "Shrunk",
          "Shrunk",
          "Shrunk",
          "Shrunk",
          "Shrunk",
          "Shrunk",
          "Shrunk",
          "Shrunk",
          "Shrunk",
          "Shrunk",
          "Shrunk",
          "Shrunk",
          "Shrunk",
          "Shrunk",
          "Shrunk",
          "Shrunk",
          "Shrunk",
          "Shrunk",
          "Shrunk",
          "Shrunk",
          "Shrunk",
          "Shrunk",
          "Shrunk",
          "Shrunk",
          "Shrunk",
          "Shrunk",
          "Shrunk",
          "Shrunk",
          "Shrunk",
          "Shrunk",
          "Shrunk",
          "Shrunk",
          "Shrunk",
          "Shrunk",
          "Shrunk",
          "Shrunk",
          "Shrunk",
          "Shrunk",
          "Shrunk",
          "Shrunk",
          "Shrunk",
          "Shrunk",
          "Shrunk",
          "Shrunk",
          "Shrunk",
          "Shrunk",
          "Shrunk",
          "Shrunk",
          "Shrunk",
          "Shrunk",
          "Shrunk",
          "Shrunk",
          "Shrunk",
          "Shrunk",
          "Shrunk",
          "Shrunk",
          "Shrunk",
          "Shrunk",
          "Shrunk",
          "Shrunk",
          "Shrunk",
          "Shrunk",
          "Shrunk",
          "Shrunk",
          "Shrunk",
          "Shrunk",
          "Shrunk",
          "Shrunk",
          "Shrunk",
          "Shrunk",
          "Shrunk",
          "Shrunk",
          "Shrunk",
          "Shrunk",
          "Shrunk",
          "Shrunk",
          "Shrunk",
          "Shrunk",
          "Shrunk",
          "Shrunk",
          "Shrunk",
          "Shrunk",
          "Shrunk",
          "Shrunk",
          "Shrunk",
          "Shrunk",
          "Shrunk",
          "Shrunk",
          "Shrunk",
          "Shrunk",
          "Shrunk",
          "Shrunk",
          "Shrunk",
          "Shrunk",
          "Shrunk",
          "Shrunk",
          "Shrunk",
          "Shrunk",
          "Shrunk",
          "Shrunk",
          "Shrunk",
          "Shrunk",
          "Shrunk",
          "Shrunk",
          "Shrunk",
          "Shrunk",
          "Shrunk",
          "Shrunk",
          "Shrunk",
          "Shrunk",
          "Shrunk",
          "Shrunk",
          "Shrunk",
          "Shrunk",
          "Shrunk",
          "Shrunk",
          "Shrunk",
          "Shrunk",
          "Shrunk",
          "Shrunk",
          "Shrunk",
          "Shrunk"
         ],
         "x0": " ",
         "xaxis": "x",
         "y": [
          2.4072951360279204,
          2.17737048535419,
          2.232058140061781,
          1.8693252517365437,
          1.7654443538277973,
          3.4368422794461897,
          1.856179336533073,
          2.0877800288085417,
          1.7026330228449105,
          1.9949260804578477,
          2.4436879784478425,
          2.076605183514003,
          2.4363548283959657,
          2.5624644192251016,
          2.0599815217742474,
          2.3549132182941643,
          1.7092993987271567,
          3.0357769881405168,
          2.028183484337406,
          2.1890540632234496,
          2.0938603632498,
          2.2138455240874273,
          2.8163685935277676,
          3.1640974197557528,
          1.7728967041178463,
          2.1653256975287607,
          1.9610892218171636,
          3.265793293237918,
          1.7593171727607846,
          1.7414210202204596,
          1.2566883914058085,
          1.7550817271080432,
          2.269168527128647,
          1.751725392421735,
          1.5628672290328238,
          2.2493529726406365,
          1.6421670372006196,
          1.8704177646141262,
          2.201931559069277,
          1.6653317570067967,
          1.790229522351157,
          2.5964763816622747,
          2.1563947636694665,
          3.446743738390788,
          2.4594772352787464,
          2.482722175692393,
          2.5092525454686054,
          2.102032094948418,
          2.8396510326017212,
          1.5772530275052663,
          1.9995154413504819,
          2.9157887761662655,
          1.8758006130931975,
          1.2033216639479682,
          2.0682735498728024,
          2.678677620780984,
          2.0851706506842476,
          2.42757534827689,
          1.4297379324310389,
          2.4631761379739743,
          2.351684967226036,
          1.4296938843903972,
          1.9250991872213974,
          1.930082694567635,
          1.930797076261277,
          1.6040277958175981,
          1.9617455960071757,
          1.5738671472854295,
          1.7556035233383371,
          1.5411840755861517,
          1.6396906998713108,
          2.142391282611608,
          1.375377378150987,
          1.7438245731652018,
          2.098092235950072,
          2.695366840418005,
          1.650017194738579,
          2.3563074703964544,
          3.064524733248798,
          1.3916895942718517,
          2.1146364506380415,
          2.3747163660072537,
          2.1679820910456056,
          1.8984393586880668,
          1.3136618941458764,
          1.9351089380869448,
          1.9697561446241494,
          2.149671947379193,
          1.5515867062835889,
          2.5509666811885356,
          2.622679319251473,
          1.5763296842892693,
          1.9091793654081266,
          1.8846886582756182,
          2.0281228568166925,
          2.11327632229053,
          1.8942933331376617,
          2.033268288795337,
          2.1394468632677994,
          2.357681209840036,
          1.229170192783189,
          1.7819933097299743,
          1.47423787087368,
          1.6926756361188515,
          1.8366142362645859,
          2.310682679396334,
          2.0563045256065404,
          1.6640137535859207,
          2.6097486976941524,
          2.405977541995303,
          2.328877196467375,
          2.9690809868029473,
          1.8248455599709508,
          1.9271661029650025,
          1.8894110348730568,
          2.0887408331525315,
          2.1164904884467917,
          1.7199011801554882,
          1.8629269237015529,
          1.1200158620299245,
          2.149317963967543,
          2.618135345594467,
          2.423871830620447,
          2.225355144476356,
          1.5421389109255617,
          2.079290559641634,
          1.4460639754041864,
          2.618878606119423,
          2.213349808465324,
          2.8426227397926622,
          1.7745182403268038,
          1.9432512695577275,
          2.203741296475498,
          2.3767272944828086,
          2.050092693934985,
          1.731704241499102,
          1.9958560402243186,
          2.060328669674531,
          2.2563930349065444,
          1.6359565582628295,
          2.0064563996421922,
          1.2688259000967845,
          1.6640594580367647,
          2.8390746124899136,
          1.5896074232014157,
          1.3596102778279868,
          1.8197376666101617,
          1.8375649599286474,
          2.330594161184107,
          1.5045723063196297,
          1.464639998530461,
          1.7206115040261787,
          2.2834309803347392,
          9.224558335716038,
          12.230867843028765,
          8.731781132330298,
          6.518636962124367,
          5.983749426930932,
          9.90893754885635,
          7.331645923401641,
          8.182199348926662,
          6.034432788373213,
          8.106867894466166,
          11.14998794589699,
          8.224945498145786,
          9.002995355285464,
          8.772361580032689,
          9.092353635134204,
          10.187290973119723,
          6.157433229697183,
          9.203960719824428,
          8.661099289443303,
          7.338126502127641,
          8.229768644558733,
          9.657002150762283,
          9.605799002947037,
          10.192953127093418,
          6.296378024128996,
          8.220299539633077,
          7.8351575170736245,
          11.652468981171323,
          6.252461079090432,
          6.369970425995409,
          2.511310058372173,
          5.302863377726667,
          10.415798815165417,
          3.590869743196147,
          3.132916029852207,
          8.591531706414504,
          5.09510661789127,
          6.890436585840574,
          8.225588080359307,
          6.108203890913238,
          7.045747320688191,
          10.1026352971149,
          8.015230967500838,
          11.58190230377076,
          10.163413448980734,
          10.164248163236323,
          9.393468662949214,
          5.040087215799028,
          11.890691940747047,
          4.382648237553234,
          6.177782402530533,
          12.390419349699513,
          6.675174568778018,
          2.25903066854154,
          7.250303766715435,
          8.456214494414802,
          9.161803390771919,
          11.599963318492156,
          3.6361841718075008,
          9.288465536131179,
          10.054140371455428,
          4.027307360539808,
          8.443299347513666,
          6.280027851998597,
          4.09297198395923,
          4.895592590395911,
          8.028352175377174,
          5.43539632413283,
          6.8025634467581,
          4.844691144686456,
          5.863311875856923,
          8.524141777004324,
          3.580261307962101,
          7.425142502506676,
          9.679436080843617,
          12.200483194318752,
          5.73288440199475,
          9.538310374771465,
          13.299158655277822,
          4.207621374558291,
          8.420983179465598,
          11.709130086214921,
          8.401838398306596,
          7.137514135881252,
          3.7887648562160545,
          6.519884372719115,
          7.096954284943604,
          8.38694706694678,
          5.507006071332973,
          8.975038661938106,
          12.530079011362158,
          5.52838660798777,
          7.6666844318322775,
          7.999503653774131,
          10.133945892576302,
          10.51610822359255,
          6.667187593966017,
          5.096935750723103,
          6.517292252092498,
          14.094228903101573,
          2.417281578838335,
          5.552218450020094,
          3.960140998177656,
          6.42035982743801,
          6.6014782302752355,
          4.556971155221736,
          9.541479776327172,
          5.226652333767298,
          8.945441325171837,
          8.063636452109673,
          11.630545174516381,
          8.37157513219451,
          6.416713369670589,
          8.225567910697944,
          6.783582988125543,
          6.490190674811635,
          9.888917922321866,
          4.430396889594092,
          6.775415794355076,
          1.9383534379082308,
          8.271084111607712,
          10.066366848334974,
          6.149662525543843,
          8.192413123872022,
          4.130117714784777,
          8.188805329843161,
          4.00015279702115,
          11.080261212145887,
          7.418378674009193,
          10.19073375363453,
          6.349085276473815,
          7.628960333090994,
          12.456940959106824,
          10.315331580886971,
          7.949733040960128,
          6.61240837283685,
          5.072285110871607,
          3.9528637427432645,
          10.170027647063527,
          6.6149777639825516,
          7.314624315173279,
          2.4002367333108126,
          4.539893452834852,
          10.66829575350004,
          4.6828544381425585,
          3.2659006033677693,
          5.824537346630096,
          5.404259355142407,
          3.3796484531422037,
          2.405804228958215,
          2.9656174970604177,
          6.592718765214836,
          8.05760806644573
         ],
         "y0": " ",
         "yaxis": "y"
        }
       ],
       "layout": {
        "boxmode": "group",
        "legend": {
         "tracegroupgap": 0
        },
        "margin": {
         "t": 60
        },
        "template": {
         "data": {
          "bar": [
           {
            "error_x": {
             "color": "#2a3f5f"
            },
            "error_y": {
             "color": "#2a3f5f"
            },
            "marker": {
             "line": {
              "color": "#E5ECF6",
              "width": 0.5
             },
             "pattern": {
              "fillmode": "overlay",
              "size": 10,
              "solidity": 0.2
             }
            },
            "type": "bar"
           }
          ],
          "barpolar": [
           {
            "marker": {
             "line": {
              "color": "#E5ECF6",
              "width": 0.5
             },
             "pattern": {
              "fillmode": "overlay",
              "size": 10,
              "solidity": 0.2
             }
            },
            "type": "barpolar"
           }
          ],
          "carpet": [
           {
            "aaxis": {
             "endlinecolor": "#2a3f5f",
             "gridcolor": "white",
             "linecolor": "white",
             "minorgridcolor": "white",
             "startlinecolor": "#2a3f5f"
            },
            "baxis": {
             "endlinecolor": "#2a3f5f",
             "gridcolor": "white",
             "linecolor": "white",
             "minorgridcolor": "white",
             "startlinecolor": "#2a3f5f"
            },
            "type": "carpet"
           }
          ],
          "choropleth": [
           {
            "colorbar": {
             "outlinewidth": 0,
             "ticks": ""
            },
            "type": "choropleth"
           }
          ],
          "contour": [
           {
            "colorbar": {
             "outlinewidth": 0,
             "ticks": ""
            },
            "colorscale": [
             [
              0,
              "#0d0887"
             ],
             [
              0.1111111111111111,
              "#46039f"
             ],
             [
              0.2222222222222222,
              "#7201a8"
             ],
             [
              0.3333333333333333,
              "#9c179e"
             ],
             [
              0.4444444444444444,
              "#bd3786"
             ],
             [
              0.5555555555555556,
              "#d8576b"
             ],
             [
              0.6666666666666666,
              "#ed7953"
             ],
             [
              0.7777777777777778,
              "#fb9f3a"
             ],
             [
              0.8888888888888888,
              "#fdca26"
             ],
             [
              1,
              "#f0f921"
             ]
            ],
            "type": "contour"
           }
          ],
          "contourcarpet": [
           {
            "colorbar": {
             "outlinewidth": 0,
             "ticks": ""
            },
            "type": "contourcarpet"
           }
          ],
          "heatmap": [
           {
            "colorbar": {
             "outlinewidth": 0,
             "ticks": ""
            },
            "colorscale": [
             [
              0,
              "#0d0887"
             ],
             [
              0.1111111111111111,
              "#46039f"
             ],
             [
              0.2222222222222222,
              "#7201a8"
             ],
             [
              0.3333333333333333,
              "#9c179e"
             ],
             [
              0.4444444444444444,
              "#bd3786"
             ],
             [
              0.5555555555555556,
              "#d8576b"
             ],
             [
              0.6666666666666666,
              "#ed7953"
             ],
             [
              0.7777777777777778,
              "#fb9f3a"
             ],
             [
              0.8888888888888888,
              "#fdca26"
             ],
             [
              1,
              "#f0f921"
             ]
            ],
            "type": "heatmap"
           }
          ],
          "heatmapgl": [
           {
            "colorbar": {
             "outlinewidth": 0,
             "ticks": ""
            },
            "colorscale": [
             [
              0,
              "#0d0887"
             ],
             [
              0.1111111111111111,
              "#46039f"
             ],
             [
              0.2222222222222222,
              "#7201a8"
             ],
             [
              0.3333333333333333,
              "#9c179e"
             ],
             [
              0.4444444444444444,
              "#bd3786"
             ],
             [
              0.5555555555555556,
              "#d8576b"
             ],
             [
              0.6666666666666666,
              "#ed7953"
             ],
             [
              0.7777777777777778,
              "#fb9f3a"
             ],
             [
              0.8888888888888888,
              "#fdca26"
             ],
             [
              1,
              "#f0f921"
             ]
            ],
            "type": "heatmapgl"
           }
          ],
          "histogram": [
           {
            "marker": {
             "pattern": {
              "fillmode": "overlay",
              "size": 10,
              "solidity": 0.2
             }
            },
            "type": "histogram"
           }
          ],
          "histogram2d": [
           {
            "colorbar": {
             "outlinewidth": 0,
             "ticks": ""
            },
            "colorscale": [
             [
              0,
              "#0d0887"
             ],
             [
              0.1111111111111111,
              "#46039f"
             ],
             [
              0.2222222222222222,
              "#7201a8"
             ],
             [
              0.3333333333333333,
              "#9c179e"
             ],
             [
              0.4444444444444444,
              "#bd3786"
             ],
             [
              0.5555555555555556,
              "#d8576b"
             ],
             [
              0.6666666666666666,
              "#ed7953"
             ],
             [
              0.7777777777777778,
              "#fb9f3a"
             ],
             [
              0.8888888888888888,
              "#fdca26"
             ],
             [
              1,
              "#f0f921"
             ]
            ],
            "type": "histogram2d"
           }
          ],
          "histogram2dcontour": [
           {
            "colorbar": {
             "outlinewidth": 0,
             "ticks": ""
            },
            "colorscale": [
             [
              0,
              "#0d0887"
             ],
             [
              0.1111111111111111,
              "#46039f"
             ],
             [
              0.2222222222222222,
              "#7201a8"
             ],
             [
              0.3333333333333333,
              "#9c179e"
             ],
             [
              0.4444444444444444,
              "#bd3786"
             ],
             [
              0.5555555555555556,
              "#d8576b"
             ],
             [
              0.6666666666666666,
              "#ed7953"
             ],
             [
              0.7777777777777778,
              "#fb9f3a"
             ],
             [
              0.8888888888888888,
              "#fdca26"
             ],
             [
              1,
              "#f0f921"
             ]
            ],
            "type": "histogram2dcontour"
           }
          ],
          "mesh3d": [
           {
            "colorbar": {
             "outlinewidth": 0,
             "ticks": ""
            },
            "type": "mesh3d"
           }
          ],
          "parcoords": [
           {
            "line": {
             "colorbar": {
              "outlinewidth": 0,
              "ticks": ""
             }
            },
            "type": "parcoords"
           }
          ],
          "pie": [
           {
            "automargin": true,
            "type": "pie"
           }
          ],
          "scatter": [
           {
            "fillpattern": {
             "fillmode": "overlay",
             "size": 10,
             "solidity": 0.2
            },
            "type": "scatter"
           }
          ],
          "scatter3d": [
           {
            "line": {
             "colorbar": {
              "outlinewidth": 0,
              "ticks": ""
             }
            },
            "marker": {
             "colorbar": {
              "outlinewidth": 0,
              "ticks": ""
             }
            },
            "type": "scatter3d"
           }
          ],
          "scattercarpet": [
           {
            "marker": {
             "colorbar": {
              "outlinewidth": 0,
              "ticks": ""
             }
            },
            "type": "scattercarpet"
           }
          ],
          "scattergeo": [
           {
            "marker": {
             "colorbar": {
              "outlinewidth": 0,
              "ticks": ""
             }
            },
            "type": "scattergeo"
           }
          ],
          "scattergl": [
           {
            "marker": {
             "colorbar": {
              "outlinewidth": 0,
              "ticks": ""
             }
            },
            "type": "scattergl"
           }
          ],
          "scattermapbox": [
           {
            "marker": {
             "colorbar": {
              "outlinewidth": 0,
              "ticks": ""
             }
            },
            "type": "scattermapbox"
           }
          ],
          "scatterpolar": [
           {
            "marker": {
             "colorbar": {
              "outlinewidth": 0,
              "ticks": ""
             }
            },
            "type": "scatterpolar"
           }
          ],
          "scatterpolargl": [
           {
            "marker": {
             "colorbar": {
              "outlinewidth": 0,
              "ticks": ""
             }
            },
            "type": "scatterpolargl"
           }
          ],
          "scatterternary": [
           {
            "marker": {
             "colorbar": {
              "outlinewidth": 0,
              "ticks": ""
             }
            },
            "type": "scatterternary"
           }
          ],
          "surface": [
           {
            "colorbar": {
             "outlinewidth": 0,
             "ticks": ""
            },
            "colorscale": [
             [
              0,
              "#0d0887"
             ],
             [
              0.1111111111111111,
              "#46039f"
             ],
             [
              0.2222222222222222,
              "#7201a8"
             ],
             [
              0.3333333333333333,
              "#9c179e"
             ],
             [
              0.4444444444444444,
              "#bd3786"
             ],
             [
              0.5555555555555556,
              "#d8576b"
             ],
             [
              0.6666666666666666,
              "#ed7953"
             ],
             [
              0.7777777777777778,
              "#fb9f3a"
             ],
             [
              0.8888888888888888,
              "#fdca26"
             ],
             [
              1,
              "#f0f921"
             ]
            ],
            "type": "surface"
           }
          ],
          "table": [
           {
            "cells": {
             "fill": {
              "color": "#EBF0F8"
             },
             "line": {
              "color": "white"
             }
            },
            "header": {
             "fill": {
              "color": "#C8D4E3"
             },
             "line": {
              "color": "white"
             }
            },
            "type": "table"
           }
          ]
         },
         "layout": {
          "annotationdefaults": {
           "arrowcolor": "#2a3f5f",
           "arrowhead": 0,
           "arrowwidth": 1
          },
          "autotypenumbers": "strict",
          "coloraxis": {
           "colorbar": {
            "outlinewidth": 0,
            "ticks": ""
           }
          },
          "colorscale": {
           "diverging": [
            [
             0,
             "#8e0152"
            ],
            [
             0.1,
             "#c51b7d"
            ],
            [
             0.2,
             "#de77ae"
            ],
            [
             0.3,
             "#f1b6da"
            ],
            [
             0.4,
             "#fde0ef"
            ],
            [
             0.5,
             "#f7f7f7"
            ],
            [
             0.6,
             "#e6f5d0"
            ],
            [
             0.7,
             "#b8e186"
            ],
            [
             0.8,
             "#7fbc41"
            ],
            [
             0.9,
             "#4d9221"
            ],
            [
             1,
             "#276419"
            ]
           ],
           "sequential": [
            [
             0,
             "#0d0887"
            ],
            [
             0.1111111111111111,
             "#46039f"
            ],
            [
             0.2222222222222222,
             "#7201a8"
            ],
            [
             0.3333333333333333,
             "#9c179e"
            ],
            [
             0.4444444444444444,
             "#bd3786"
            ],
            [
             0.5555555555555556,
             "#d8576b"
            ],
            [
             0.6666666666666666,
             "#ed7953"
            ],
            [
             0.7777777777777778,
             "#fb9f3a"
            ],
            [
             0.8888888888888888,
             "#fdca26"
            ],
            [
             1,
             "#f0f921"
            ]
           ],
           "sequentialminus": [
            [
             0,
             "#0d0887"
            ],
            [
             0.1111111111111111,
             "#46039f"
            ],
            [
             0.2222222222222222,
             "#7201a8"
            ],
            [
             0.3333333333333333,
             "#9c179e"
            ],
            [
             0.4444444444444444,
             "#bd3786"
            ],
            [
             0.5555555555555556,
             "#d8576b"
            ],
            [
             0.6666666666666666,
             "#ed7953"
            ],
            [
             0.7777777777777778,
             "#fb9f3a"
            ],
            [
             0.8888888888888888,
             "#fdca26"
            ],
            [
             1,
             "#f0f921"
            ]
           ]
          },
          "colorway": [
           "#636efa",
           "#EF553B",
           "#00cc96",
           "#ab63fa",
           "#FFA15A",
           "#19d3f3",
           "#FF6692",
           "#B6E880",
           "#FF97FF",
           "#FECB52"
          ],
          "font": {
           "color": "#2a3f5f"
          },
          "geo": {
           "bgcolor": "white",
           "lakecolor": "white",
           "landcolor": "#E5ECF6",
           "showlakes": true,
           "showland": true,
           "subunitcolor": "white"
          },
          "hoverlabel": {
           "align": "left"
          },
          "hovermode": "closest",
          "mapbox": {
           "style": "light"
          },
          "paper_bgcolor": "white",
          "plot_bgcolor": "#E5ECF6",
          "polar": {
           "angularaxis": {
            "gridcolor": "white",
            "linecolor": "white",
            "ticks": ""
           },
           "bgcolor": "#E5ECF6",
           "radialaxis": {
            "gridcolor": "white",
            "linecolor": "white",
            "ticks": ""
           }
          },
          "scene": {
           "xaxis": {
            "backgroundcolor": "#E5ECF6",
            "gridcolor": "white",
            "gridwidth": 2,
            "linecolor": "white",
            "showbackground": true,
            "ticks": "",
            "zerolinecolor": "white"
           },
           "yaxis": {
            "backgroundcolor": "#E5ECF6",
            "gridcolor": "white",
            "gridwidth": 2,
            "linecolor": "white",
            "showbackground": true,
            "ticks": "",
            "zerolinecolor": "white"
           },
           "zaxis": {
            "backgroundcolor": "#E5ECF6",
            "gridcolor": "white",
            "gridwidth": 2,
            "linecolor": "white",
            "showbackground": true,
            "ticks": "",
            "zerolinecolor": "white"
           }
          },
          "shapedefaults": {
           "line": {
            "color": "#2a3f5f"
           }
          },
          "ternary": {
           "aaxis": {
            "gridcolor": "white",
            "linecolor": "white",
            "ticks": ""
           },
           "baxis": {
            "gridcolor": "white",
            "linecolor": "white",
            "ticks": ""
           },
           "bgcolor": "#E5ECF6",
           "caxis": {
            "gridcolor": "white",
            "linecolor": "white",
            "ticks": ""
           }
          },
          "title": {
           "x": 0.05
          },
          "xaxis": {
           "automargin": true,
           "gridcolor": "white",
           "linecolor": "white",
           "ticks": "",
           "title": {
            "standoff": 15
           },
           "zerolinecolor": "white",
           "zerolinewidth": 2
          },
          "yaxis": {
           "automargin": true,
           "gridcolor": "white",
           "linecolor": "white",
           "ticks": "",
           "title": {
            "standoff": 15
           },
           "zerolinecolor": "white",
           "zerolinewidth": 2
          }
         }
        },
        "width": 400,
        "xaxis": {
         "anchor": "y",
         "domain": [
          0,
          1
         ],
         "title": {
          "text": "Type"
         }
        },
        "yaxis": {
         "anchor": "x",
         "domain": [
          0,
          1
         ],
         "title": {
          "text": "SNR"
         }
        }
       }
      }
     },
     "metadata": {},
     "output_type": "display_data"
    }
   ],
   "source": [
    "### DO NOT REMOVE FROM STUDENT VERSION\n",
    "\n",
    "stapled_results = pd.concat([results, shrunk_results])\n",
    "px.box(stapled_results, x='Type', y='SNR', points='all', width=400)\n"
   ]
  },
  {
   "attachments": {},
   "cell_type": "markdown",
   "metadata": {},
   "source": [
    "By shrinking our objects so that they only included pixels from the nucleus and not the borders, we drastically increased the signal to noise ratio."
   ]
  },
  {
   "cell_type": "code",
   "execution_count": null,
   "metadata": {},
   "outputs": [],
   "source": []
  }
 ],
 "metadata": {
  "kernelspec": {
   "display_name": "napari",
   "language": "python",
   "name": "python3"
  },
  "language_info": {
   "codemirror_mode": {
    "name": "ipython",
    "version": 3
   },
   "file_extension": ".py",
   "mimetype": "text/x-python",
   "name": "python",
   "nbconvert_exporter": "python",
   "pygments_lexer": "ipython3",
   "version": "3.10.13"
  }
 },
 "nbformat": 4,
 "nbformat_minor": 2
}
