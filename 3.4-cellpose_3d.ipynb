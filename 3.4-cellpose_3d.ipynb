{
 "cells": [
  {
   "cell_type": "code",
   "execution_count": 1,
   "metadata": {},
   "outputs": [],
   "source": [
    "import sys\n",
    "\n",
    "import numpy as np\n",
    "import skimage as ski\n",
    "from cellpose import models\n",
    "import torch\n",
    "import nd2\n",
    "\n",
    "import napari"
   ]
  },
  {
   "cell_type": "code",
   "execution_count": 2,
   "metadata": {},
   "outputs": [],
   "source": [
    "viewer = napari.Viewer()"
   ]
  },
  {
   "cell_type": "code",
   "execution_count": 3,
   "metadata": {},
   "outputs": [],
   "source": [
    "if sys.platform == 'darwin':\n",
    "    d = torch.device('mps')\n",
    "    model = models.Cellpose(gpu=False, device=d, model_type='cyto2')\n",
    "else:\n",
    "    # change gpu=True if on windows, and get rid of device\n",
    "    model = models.Cellpose(gpu=True, model_type='cyto2')"
   ]
  },
  {
   "cell_type": "code",
   "execution_count": null,
   "metadata": {},
   "outputs": [],
   "source": []
  },
  {
   "cell_type": "markdown",
   "metadata": {},
   "source": [
    "### nd2 files\n",
    "We will be using a Nikon file for this notebook, using the `nd2` package. The `nd2` package has an imread function like skimage and tifffile:\n",
    "\n",
    "```python\n",
    "data = nd2.imread(filename)\n",
    "```\n",
    "\n",
    "Instead, we will use the `ND2File` object gives us access to the metadata (like x, y, z scaling, excitation wavelengths, etc.) that we will need.\n"
   ]
  },
  {
   "cell_type": "code",
   "execution_count": 4,
   "metadata": {},
   "outputs": [
    {
     "data": {
      "text/plain": [
       "(40, 3, 2044, 2048)"
      ]
     },
     "execution_count": 4,
     "metadata": {},
     "output_type": "execute_result"
    }
   ],
   "source": [
    "imagefile = 'files/cellpose/Data/WT003.nd2'\n",
    "\n",
    "### create the file object - this doesn't read the image array data\n",
    "nd2file = nd2.ND2File(imagefile)\n",
    "image = nd2file.asarray()\n",
    "image.shape"
   ]
  },
  {
   "cell_type": "markdown",
   "metadata": {},
   "source": [
    "Add the image to the napari viewer. From the shape output in the last cell, the channel axis is 1"
   ]
  },
  {
   "cell_type": "code",
   "execution_count": 5,
   "metadata": {},
   "outputs": [
    {
     "data": {
      "text/plain": [
       "[<Image layer 'Image' at 0x19953e06440>,\n",
       " <Image layer 'Image [1]' at 0x19953e1dbd0>,\n",
       " <Image layer 'Image [2]' at 0x19954dcaa40>]"
      ]
     },
     "execution_count": 5,
     "metadata": {},
     "output_type": "execute_result"
    }
   ],
   "source": [
    "viewer.add_image(image, channel_axis=1)"
   ]
  },
  {
   "cell_type": "markdown",
   "metadata": {},
   "source": [
    "Rotate the image in 3D and notice the 3D scaling is not set. To get the right values for the z scaling we need to look at the metadata.\n"
   ]
  },
  {
   "cell_type": "markdown",
   "metadata": {},
   "source": [
    "### Metadata\n",
    "\n",
    "Exlpore what is inside the metadata variable of the nd2file object"
   ]
  },
  {
   "cell_type": "code",
   "execution_count": 6,
   "metadata": {},
   "outputs": [
    {
     "data": {
      "text/plain": [
       "Metadata(contents=Contents(channelCount=3, frameCount=40), channels=[Channel(channel=ChannelMeta(name='488 sCMOS', index=0, colorRGB=65280, emissionLambdaNm=535.0, excitationLambdaNm=None), loops=LoopIndices(NETimeLoop=None, TimeLoop=None, XYPosLoop=None, ZStackLoop=0), microscope=Microscope(objectiveMagnification=100.0, objectiveName='Plan Apo λ 100x Oil', objectiveNumericalAperture=1.45, zoomMagnification=1.0, immersionRefractiveIndex=1.515, projectiveMagnification=None, pinholeDiameterUm=50.0, modalityFlags=['fluorescence', 'spinningDiskConfocal']), volume=Volume(axesCalibrated=(True, True, True), axesCalibration=(0.065, 0.065, 0.3), axesInterpretation=('distance', 'distance', 'distance'), bitsPerComponentInMemory=16, bitsPerComponentSignificant=16, cameraTransformationMatrix=(0.999993283193413, -0.003665183223043356, 0.003665183223043356, 0.999993283193413), componentCount=1, componentDataType='unsigned', voxelCount=(2048, 2044, 40), componentMaxima=[0.0], componentMinima=[0.0], pixelToStageTransformationMatrix=None)), Channel(channel=ChannelMeta(name='405 sCMOS', index=1, colorRGB=16711680, emissionLambdaNm=440.0, excitationLambdaNm=None), loops=LoopIndices(NETimeLoop=None, TimeLoop=None, XYPosLoop=None, ZStackLoop=0), microscope=Microscope(objectiveMagnification=100.0, objectiveName='Plan Apo λ 100x Oil', objectiveNumericalAperture=1.45, zoomMagnification=1.0, immersionRefractiveIndex=1.515, projectiveMagnification=None, pinholeDiameterUm=50.0, modalityFlags=['fluorescence', 'spinningDiskConfocal']), volume=Volume(axesCalibrated=(True, True, True), axesCalibration=(0.065, 0.065, 0.3), axesInterpretation=('distance', 'distance', 'distance'), bitsPerComponentInMemory=16, bitsPerComponentSignificant=16, cameraTransformationMatrix=(0.999993283193413, -0.003665183223043356, 0.003665183223043356, 0.999993283193413), componentCount=1, componentDataType='unsigned', voxelCount=(2048, 2044, 40), componentMaxima=[0.0], componentMinima=[0.0], pixelToStageTransformationMatrix=None)), Channel(channel=ChannelMeta(name='Transmitted sCMOS', index=2, colorRGB=16777215, emissionLambdaNm=670.0, excitationLambdaNm=None), loops=LoopIndices(NETimeLoop=None, TimeLoop=None, XYPosLoop=None, ZStackLoop=0), microscope=Microscope(objectiveMagnification=100.0, objectiveName='Plan Apo λ 100x Oil', objectiveNumericalAperture=1.45, zoomMagnification=1.0, immersionRefractiveIndex=1.515, projectiveMagnification=None, pinholeDiameterUm=50.0, modalityFlags=['brightfield', 'spinningDiskConfocal']), volume=Volume(axesCalibrated=(True, True, True), axesCalibration=(0.065, 0.065, 0.3), axesInterpretation=('distance', 'distance', 'distance'), bitsPerComponentInMemory=16, bitsPerComponentSignificant=16, cameraTransformationMatrix=(0.999993283193413, -0.003665183223043356, 0.003665183223043356, 0.999993283193413), componentCount=1, componentDataType='unsigned', voxelCount=(2048, 2044, 40), componentMaxima=[0.0], componentMinima=[0.0], pixelToStageTransformationMatrix=None))])"
      ]
     },
     "execution_count": 6,
     "metadata": {},
     "output_type": "execute_result"
    }
   ],
   "source": [
    "nd2file.metadata"
   ]
  },
  {
   "cell_type": "code",
   "execution_count": 7,
   "metadata": {},
   "outputs": [
    {
     "data": {
      "text/plain": [
       "(0.065, 0.065, 0.3)"
      ]
     },
     "execution_count": 7,
     "metadata": {},
     "output_type": "execute_result"
    }
   ],
   "source": [
    "md1 = nd2file.metadata.channels[1]\n",
    "xum, yum, zum = md1.volume.axesCalibration\n",
    "xum, yum, zum"
   ]
  },
  {
   "cell_type": "markdown",
   "metadata": {},
   "source": [
    "Now let's show the image again, but properly scaled to microns"
   ]
  },
  {
   "cell_type": "code",
   "execution_count": 8,
   "metadata": {},
   "outputs": [
    {
     "data": {
      "text/plain": [
       "[<Image layer 'image scaled' at 0x19949296980>,\n",
       " <Image layer 'image scaled [1]' at 0x19935308940>,\n",
       " <Image layer 'image scaled [2]' at 0x19935321a80>]"
      ]
     },
     "execution_count": 8,
     "metadata": {},
     "output_type": "execute_result"
    }
   ],
   "source": [
    "viewer.layers.clear()\n",
    "viewer.add_image(image, channel_axis=1, name='image scaled', scale=(zum, yum, xum))"
   ]
  },
  {
   "cell_type": "markdown",
   "metadata": {},
   "source": [
    "Our XY resolution is roughly 5 times better than our Z resolution, we will want to know what this ratio is exactly for resampling in the next section so let's calculate it."
   ]
  },
  {
   "cell_type": "code",
   "execution_count": 9,
   "metadata": {},
   "outputs": [
    {
     "data": {
      "text/plain": [
       "0.21666666666666667"
      ]
     },
     "execution_count": 9,
     "metadata": {},
     "output_type": "execute_result"
    }
   ],
   "source": [
    "zscale = xum/zum\n",
    "zscale"
   ]
  },
  {
   "cell_type": "markdown",
   "metadata": {},
   "source": [
    "### Cellpose 3D\n",
    "\n",
    "Cellpose has a 3D option in `model.eval`, but it is not really 3D. It does the eval on every xy plane, then every yz plane, then every xz plane. After the eval cellpose reconstructs the results from each plane into 3D masks/labels.  For this to work the scaling in z needs to match the xy scaling. The `anisotropy` parameter can be used, and cellpose will adjust the input image, but in practice this does not work well. Another option is to rescale the image in XY to have the same (lower) resolution that Z has before using cellpose. "
   ]
  },
  {
   "cell_type": "markdown",
   "metadata": {},
   "source": [
    "### Scaling down the image"
   ]
  },
  {
   "cell_type": "code",
   "execution_count": 10,
   "metadata": {},
   "outputs": [
    {
     "data": {
      "text/plain": [
       "(40, 3, 443, 444)"
      ]
     },
     "execution_count": 10,
     "metadata": {},
     "output_type": "execute_result"
    }
   ],
   "source": [
    "scaled = ski.transform.rescale(image, (1, 1, zscale, zscale), preserve_range=True)\n",
    "scaled = ski.filters.gaussian(scaled, sigma=(1, 0, 2, 2))\n",
    "scaled.shape"
   ]
  },
  {
   "cell_type": "code",
   "execution_count": 11,
   "metadata": {},
   "outputs": [
    {
     "data": {
      "text/plain": [
       "[<Image layer 'Image' at 0x1993501a6e0>,\n",
       " <Image layer 'Image [1]' at 0x1997fc9ab00>,\n",
       " <Image layer 'Image [2]' at 0x1997fc621a0>]"
      ]
     },
     "execution_count": 11,
     "metadata": {},
     "output_type": "execute_result"
    }
   ],
   "source": [
    "viewer.layers.clear()\n",
    "viewer.add_image(scaled, channel_axis=1)"
   ]
  },
  {
   "cell_type": "markdown",
   "metadata": {},
   "source": [
    "### Running cellpose 3D"
   ]
  },
  {
   "cell_type": "code",
   "execution_count": 12,
   "metadata": {},
   "outputs": [],
   "source": [
    "masks, _, _, _ = model.eval(scaled, diameter=75, do_3D=True, channels=[1,2],\n",
    "                            cellprob_threshold=1,\n",
    "                            flow_threshold=.3) "
   ]
  },
  {
   "cell_type": "code",
   "execution_count": 13,
   "metadata": {},
   "outputs": [
    {
     "data": {
      "text/plain": [
       "<Labels layer 'masks' at 0x1993fd56d70>"
      ]
     },
     "execution_count": 13,
     "metadata": {},
     "output_type": "execute_result"
    }
   ],
   "source": [
    "viewer.add_labels(masks)"
   ]
  },
  {
   "cell_type": "markdown",
   "metadata": {},
   "source": [
    "## Scaling back up the cellpose result"
   ]
  },
  {
   "cell_type": "markdown",
   "metadata": {},
   "source": [
    "To use the cellpose results with the original image, the masks need to be scaled back to the original size. The `order` parameter is the key to making this successful.\n",
    "Settting `order=0` makes `resize` use nearest neighbors when upscaling an image rather than interpolation. "
   ]
  },
  {
   "cell_type": "code",
   "execution_count": 14,
   "metadata": {},
   "outputs": [],
   "source": [
    "shape = (image.shape[0], image.shape[2], image.shape[3])\n",
    "smasks = ski.transform.resize(masks, shape, order=0, preserve_range=True)"
   ]
  },
  {
   "cell_type": "code",
   "execution_count": 15,
   "metadata": {},
   "outputs": [
    {
     "data": {
      "text/plain": [
       "<Labels layer 'smasks' at 0x19954df63b0>"
      ]
     },
     "execution_count": 15,
     "metadata": {},
     "output_type": "execute_result"
    }
   ],
   "source": [
    "viewer.layers.clear()\n",
    "viewer.add_image(image, channel_axis=1, scale=(zum, yum, xum))\n",
    "viewer.add_labels(smasks, scale=(zum, yum, xum))\n"
   ]
  },
  {
   "cell_type": "code",
   "execution_count": null,
   "metadata": {},
   "outputs": [],
   "source": []
  }
 ],
 "metadata": {
  "kernelspec": {
   "display_name": "py310",
   "language": "python",
   "name": "python3"
  },
  "language_info": {
   "codemirror_mode": {
    "name": "ipython",
    "version": 3
   },
   "file_extension": ".py",
   "mimetype": "text/x-python",
   "name": "python",
   "nbconvert_exporter": "python",
   "pygments_lexer": "ipython3",
   "version": "3.10.13"
  }
 },
 "nbformat": 4,
 "nbformat_minor": 2
}
