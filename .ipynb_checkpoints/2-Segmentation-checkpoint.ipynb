{
 "cells": [
  {
   "attachments": {},
   "cell_type": "markdown",
   "metadata": {},
   "source": [
    "# Part 2:  Segmentation"
   ]
  },
  {
   "attachments": {},
   "cell_type": "markdown",
   "metadata": {},
   "source": [
    "# Setup"
   ]
  },
  {
   "attachments": {},
   "cell_type": "markdown",
   "metadata": {},
   "source": [
    "### Our usual imports and initializing napari"
   ]
  },
  {
   "cell_type": "code",
   "execution_count": 1,
   "metadata": {},
   "outputs": [],
   "source": [
    "import numpy as np\n",
    "import pandas as pd\n",
    "import napari\n",
    "import tifffile\n",
    "import skimage as ski\n",
    "import scipy.ndimage as ndi\n",
    "import glob\n",
    "import plotly.express as px\n",
    "import cellpose.models as models\n",
    "import matplotlib.pyplot as plt\n",
    "import cv2\n",
    "import dask\n",
    "import sutils"
   ]
  },
  {
   "cell_type": "code",
   "execution_count": 2,
   "metadata": {},
   "outputs": [],
   "source": [
    "viewer = napari.Viewer()"
   ]
  },
  {
   "attachments": {},
   "cell_type": "markdown",
   "metadata": {},
   "source": [
    "### Support functions for this notebook"
   ]
  },
  {
   "attachments": {},
   "cell_type": "markdown",
   "metadata": {},
   "source": [
    "We will be using a support library of custom functions:  sutils.py  This is not a pip installable library, it is like a custom plugin from ImageJ.  If you want to use this for a new notebook outside of this project, you will need to copy the file sutils.py to the same directory as your new notebook.\n",
    "\n"
   ]
  },
  {
   "attachments": {},
   "cell_type": "markdown",
   "metadata": {},
   "source": [
    "### Loading the image for this notebook"
   ]
  },
  {
   "cell_type": "code",
   "execution_count": 3,
   "metadata": {},
   "outputs": [
    {
     "data": {
      "text/plain": [
       "(512, 672, 3)"
      ]
     },
     "execution_count": 3,
     "metadata": {},
     "output_type": "execute_result"
    }
   ],
   "source": [
    "img = tifffile.imread('files/C-hela-cells.tif')\n",
    "img.shape"
   ]
  },
  {
   "attachments": {},
   "cell_type": "markdown",
   "metadata": {},
   "source": [
    "And visualize in napari with the appropriate names and colors"
   ]
  },
  {
   "cell_type": "code",
   "execution_count": 4,
   "metadata": {},
   "outputs": [
    {
     "data": {
      "text/plain": [
       "[<Image layer 'lysosomes' at 0x1d90d8d3b20>,\n",
       " <Image layer 'mitocondria' at 0x1d90d8d3b80>,\n",
       " <Image layer 'nucleii' at 0x1d90d963f70>]"
      ]
     },
     "execution_count": 4,
     "metadata": {},
     "output_type": "execute_result"
    }
   ],
   "source": [
    "viewer.layers.clear()\n",
    "viewer.add_image(img, name=['lysosomes', 'mitocondria', 'nucleii'], colormap=['red', 'green', 'blue'], channel_axis=2)"
   ]
  },
  {
   "attachments": {},
   "cell_type": "markdown",
   "metadata": {},
   "source": [
    "# Pre-processing"
   ]
  },
  {
   "attachments": {},
   "cell_type": "markdown",
   "metadata": {},
   "source": [
    "### Standard pipeline:  subtract background, gaussian blur, threshold"
   ]
  },
  {
   "attachments": {},
   "cell_type": "markdown",
   "metadata": {},
   "source": [
    "To make things easier on ourselves, we split the 3 channels into 3 separate variables.  The contour of the 3 channels is very different:  the lysosomes are small puncta, the mitos are large networks with holes in them, and the nucleii are very large blobs.  We would not want to use the same rolling ball background subtraction radius for all 3 channels."
   ]
  },
  {
   "cell_type": "code",
   "execution_count": 5,
   "metadata": {},
   "outputs": [],
   "source": [
    "lyso = img[:,:,0]\n",
    "mitos = img[:,:,1]\n",
    "nucleii = img[:,:,2]"
   ]
  },
  {
   "attachments": {},
   "cell_type": "markdown",
   "metadata": {},
   "source": [
    "The nucleii are much larger than the lysos or mitos, so we will use a much larger rolling ball radius."
   ]
  },
  {
   "cell_type": "code",
   "execution_count": 8,
   "metadata": {},
   "outputs": [
    {
     "data": {
      "text/plain": [
       "<Image layer 'nucleii_backsubbed [1]' at 0x1d9181a93f0>"
      ]
     },
     "execution_count": 8,
     "metadata": {},
     "output_type": "execute_result"
    }
   ],
   "source": [
    "lyso_backsub = sutils.backsub_2D(lyso, radius=20)\n",
    "mito_backsub = sutils.backsub_2D(mitos, radius=20)\n",
    "nucleii_backsub = sutils.backsub_2D(nucleii, radius=200)\n",
    "\n",
    "viewer.add_image(lyso_backsub, name='lysosomes_backsubbed', colormap='red', blending='additive')\n",
    "viewer.add_image(mito_backsub, name='mito_backsubbed', colormap='green', blending='additive')\n",
    "viewer.add_image(nucleii_backsub, name='nucleii_backsubbed', colormap='blue', blending='additive')\n"
   ]
  },
  {
   "attachments": {},
   "cell_type": "markdown",
   "metadata": {},
   "source": [
    "For segmentation we will use the nucleii primarily, we'll apply some blurring to make sure we avoid holes and small puncta."
   ]
  },
  {
   "cell_type": "code",
   "execution_count": 9,
   "metadata": {},
   "outputs": [
    {
     "data": {
      "text/plain": [
       "<Image layer 'blurred' at 0x1d9176fdab0>"
      ]
     },
     "execution_count": 9,
     "metadata": {},
     "output_type": "execute_result"
    }
   ],
   "source": [
    "blurred = ndi.gaussian_filter(nucleii_backsub, 10)\n",
    "viewer.add_image(blurred, name='blurred', colormap='gray', blending='translucent')"
   ]
  },
  {
   "attachments": {},
   "cell_type": "markdown",
   "metadata": {},
   "source": [
    "# Simple Segmentation"
   ]
  },
  {
   "attachments": {},
   "cell_type": "markdown",
   "metadata": {},
   "source": [
    "## Thresholding"
   ]
  },
  {
   "attachments": {},
   "cell_type": "markdown",
   "metadata": {},
   "source": [
    "Mousing over the image (make sure you have the \"blurred\" layer selected) we can see that nucleii have pixel intensities > 300, so we will use that as our threshold and visualize the binary image."
   ]
  },
  {
   "cell_type": "code",
   "execution_count": 10,
   "metadata": {},
   "outputs": [
    {
     "data": {
      "text/plain": [
       "<Image layer 'thresholded' at 0x1d9837e10c0>"
      ]
     },
     "execution_count": 10,
     "metadata": {},
     "output_type": "execute_result"
    }
   ],
   "source": [
    "thresholded = blurred > 300\n",
    "viewer.add_image(thresholded, name='thresholded', colormap='gray', blending='translucent')"
   ]
  },
  {
   "attachments": {},
   "cell_type": "markdown",
   "metadata": {},
   "source": [
    "With the \"thresholded\" layer selected, try mousing over the pixels.  Turns out python, whenever given an expression of A > B, returns a numpy array of all \"True\" or \"False\".  Napari is smart enough to turn these into 1 and 0."
   ]
  },
  {
   "attachments": {},
   "cell_type": "markdown",
   "metadata": {},
   "source": [
    "## Label images"
   ]
  },
  {
   "attachments": {},
   "cell_type": "markdown",
   "metadata": {},
   "source": [
    "scipy.ndimage has a function called label that will take a binary image and return a \"labeled\" image.  A label image is an image where each pixel is assigned a number, and all pixels with the same number are connected.  This is exactly what we want for segmentation.  The function actually returns two arguments, the label_img and the number of objects it found."
   ]
  },
  {
   "cell_type": "code",
   "execution_count": 11,
   "metadata": {},
   "outputs": [],
   "source": [
    "label_img, number_objects = ndi.label(thresholded)"
   ]
  },
  {
   "attachments": {},
   "cell_type": "markdown",
   "metadata": {},
   "source": [
    "If we add the label_img to napari, we can see each individual object is a different intensity"
   ]
  },
  {
   "cell_type": "code",
   "execution_count": 15,
   "metadata": {},
   "outputs": [
    {
     "data": {
      "text/plain": [
       "<Image layer 'label_img' at 0x1d983d356c0>"
      ]
     },
     "execution_count": 15,
     "metadata": {},
     "output_type": "execute_result"
    }
   ],
   "source": [
    "viewer.add_image(label_img, name='label_img', colormap='gray', blending='translucent')"
   ]
  },
  {
   "attachments": {},
   "cell_type": "markdown",
   "metadata": {},
   "source": [
    "...but this is not very conducive to seeing separation between objects if they have a label value that is very similar.  Napari has a nice feature where you can instead .add_labels(label_img) and it will automatically assign a random color to each label."
   ]
  },
  {
   "cell_type": "markdown",
   "metadata": {},
   "source": [
    "### viewer.add_labels()"
   ]
  },
  {
   "cell_type": "code",
   "execution_count": 16,
   "metadata": {},
   "outputs": [
    {
     "data": {
      "text/plain": [
       "<Labels layer 'label_img' at 0x1d983aaf6a0>"
      ]
     },
     "execution_count": 16,
     "metadata": {},
     "output_type": "execute_result"
    }
   ],
   "source": [
    "viewer.layers.remove('label_img')\n",
    "viewer.add_labels(label_img, name='label_img')"
   ]
  },
  {
   "cell_type": "markdown",
   "metadata": {},
   "source": [
    "Labels layers behave a little differently than standard layers:  they automatically assign different colors to all intensities, they are always additive, they are edtiable, and by adjusting \"contour\" you can show just the outlines of the individual objects."
   ]
  },
  {
   "cell_type": "markdown",
   "metadata": {},
   "source": [
    "Notice that object #1 is not quite right if we compare the segmented version vs the actual raw data, our smoothing operation was probably a little aggressive.  We can fix this manually using the tools in the labels layer.  Up at the top left are some editing tools with keyboard shortcuts.  If we DO update the labels manually, we need to make sure we update the label_img variable as well."
   ]
  },
  {
   "cell_type": "code",
   "execution_count": 17,
   "metadata": {},
   "outputs": [],
   "source": [
    "label_img = viewer.layers['label_img'].data"
   ]
  },
  {
   "attachments": {},
   "cell_type": "markdown",
   "metadata": {},
   "source": [
    "## Regionprops (analyze particles)"
   ]
  },
  {
   "attachments": {},
   "cell_type": "markdown",
   "metadata": {},
   "source": [
    "### Regionprops (quantifying labels)"
   ]
  },
  {
   "attachments": {},
   "cell_type": "markdown",
   "metadata": {},
   "source": [
    "We have a binary image (thresholded) that ImageJ would normally use for Analyze Particles, but we have managed to improve on it with a label image (label_img).  Label images are superior, as if two objects are touching in a binary image, ImageJ lumps them together into a single object.  With labeled images (as we shall see with cellpose), you can have objects touching but still be separated (each gets a different intensity value assigned to it).  Now we want to quantify each object, and we can do that with skimage.measure.regionprops_table.  We have to specify what properties we want to collect, it can be computationally expensive to collect all of them, so we will just collect the ones we need."
   ]
  },
  {
   "attachments": {},
   "cell_type": "markdown",
   "metadata": {},
   "source": [
    "The available properties are:  https://scikit-image.org/docs/dev/api/skimage.measure.html#skimage.measure.regionprops\n",
    "\n",
    "The most useful ones are:  \n",
    "\n",
    "label (the index of the object in the image), \n",
    "\n",
    "area (in number of pixels), \n",
    "\n",
    "centroid (the z/y/x position of the center of the object), \n",
    "\n",
    "mean_intensity, max_intensity, min_intensity, \n",
    "\n",
    "perimeter,  \n",
    "\n",
    "eccentricity (how extended the object is, ranging from 0->1, with a circle having ecc=0), \n",
    "\n",
    "orientation (the angle the object makes in radians), \n",
    "\n",
    "axis_major_length, axis_minor_length"
   ]
  },
  {
   "attachments": {},
   "cell_type": "markdown",
   "metadata": {},
   "source": [
    "Unfortunately regionprops_table returns a dictionary instead of a simple table, so we have to do some extra work to get it into a table.  We'll use pandas.DataFrame.from_dict to convert the dictionary into a table."
   ]
  },
  {
   "cell_type": "code",
   "execution_count": 19,
   "metadata": {},
   "outputs": [],
   "source": [
    "results_dictionary = ski.measure.regionprops_table(label_img, properties=['label', 'area', 'centroid', 'orientation', 'eccentricity'])"
   ]
  },
  {
   "cell_type": "code",
   "execution_count": 20,
   "metadata": {},
   "outputs": [
    {
     "data": {
      "text/html": [
       "<div>\n",
       "<style scoped>\n",
       "    .dataframe tbody tr th:only-of-type {\n",
       "        vertical-align: middle;\n",
       "    }\n",
       "\n",
       "    .dataframe tbody tr th {\n",
       "        vertical-align: top;\n",
       "    }\n",
       "\n",
       "    .dataframe thead th {\n",
       "        text-align: right;\n",
       "    }\n",
       "</style>\n",
       "<table border=\"1\" class=\"dataframe\">\n",
       "  <thead>\n",
       "    <tr style=\"text-align: right;\">\n",
       "      <th></th>\n",
       "      <th>label</th>\n",
       "      <th>area</th>\n",
       "      <th>centroid-0</th>\n",
       "      <th>centroid-1</th>\n",
       "      <th>orientation</th>\n",
       "      <th>eccentricity</th>\n",
       "    </tr>\n",
       "  </thead>\n",
       "  <tbody>\n",
       "    <tr>\n",
       "      <th>0</th>\n",
       "      <td>1</td>\n",
       "      <td>14404.0</td>\n",
       "      <td>179.556651</td>\n",
       "      <td>463.463968</td>\n",
       "      <td>0.109041</td>\n",
       "      <td>0.787659</td>\n",
       "    </tr>\n",
       "    <tr>\n",
       "      <th>1</th>\n",
       "      <td>2</td>\n",
       "      <td>15433.0</td>\n",
       "      <td>171.781572</td>\n",
       "      <td>298.301173</td>\n",
       "      <td>-1.419267</td>\n",
       "      <td>0.549767</td>\n",
       "    </tr>\n",
       "    <tr>\n",
       "      <th>2</th>\n",
       "      <td>3</td>\n",
       "      <td>14937.0</td>\n",
       "      <td>279.708040</td>\n",
       "      <td>140.079199</td>\n",
       "      <td>-0.609245</td>\n",
       "      <td>0.726105</td>\n",
       "    </tr>\n",
       "    <tr>\n",
       "      <th>3</th>\n",
       "      <td>4</td>\n",
       "      <td>14258.0</td>\n",
       "      <td>408.910296</td>\n",
       "      <td>333.062141</td>\n",
       "      <td>-0.593316</td>\n",
       "      <td>0.736625</td>\n",
       "    </tr>\n",
       "  </tbody>\n",
       "</table>\n",
       "</div>"
      ],
      "text/plain": [
       "   label     area  centroid-0  centroid-1  orientation  eccentricity\n",
       "0      1  14404.0  179.556651  463.463968     0.109041      0.787659\n",
       "1      2  15433.0  171.781572  298.301173    -1.419267      0.549767\n",
       "2      3  14937.0  279.708040  140.079199    -0.609245      0.726105\n",
       "3      4  14258.0  408.910296  333.062141    -0.593316      0.736625"
      ]
     },
     "execution_count": 20,
     "metadata": {},
     "output_type": "execute_result"
    }
   ],
   "source": [
    "results = pd.DataFrame.from_dict(results_dictionary)\n",
    "results"
   ]
  },
  {
   "attachments": {},
   "cell_type": "markdown",
   "metadata": {},
   "source": [
    "'centroid-0' is the y position, 'centroid-1' is the x position.  Orientation in radians is not intuitive, so let's fix that."
   ]
  },
  {
   "cell_type": "code",
   "execution_count": 21,
   "metadata": {},
   "outputs": [
    {
     "data": {
      "text/html": [
       "<div>\n",
       "<style scoped>\n",
       "    .dataframe tbody tr th:only-of-type {\n",
       "        vertical-align: middle;\n",
       "    }\n",
       "\n",
       "    .dataframe tbody tr th {\n",
       "        vertical-align: top;\n",
       "    }\n",
       "\n",
       "    .dataframe thead th {\n",
       "        text-align: right;\n",
       "    }\n",
       "</style>\n",
       "<table border=\"1\" class=\"dataframe\">\n",
       "  <thead>\n",
       "    <tr style=\"text-align: right;\">\n",
       "      <th></th>\n",
       "      <th>label</th>\n",
       "      <th>area</th>\n",
       "      <th>centroid-0</th>\n",
       "      <th>centroid-1</th>\n",
       "      <th>orientation</th>\n",
       "      <th>eccentricity</th>\n",
       "    </tr>\n",
       "  </thead>\n",
       "  <tbody>\n",
       "    <tr>\n",
       "      <th>0</th>\n",
       "      <td>1</td>\n",
       "      <td>14404.0</td>\n",
       "      <td>179.556651</td>\n",
       "      <td>463.463968</td>\n",
       "      <td>96.247604</td>\n",
       "      <td>0.787659</td>\n",
       "    </tr>\n",
       "    <tr>\n",
       "      <th>1</th>\n",
       "      <td>2</td>\n",
       "      <td>15433.0</td>\n",
       "      <td>171.781572</td>\n",
       "      <td>298.301173</td>\n",
       "      <td>8.681978</td>\n",
       "      <td>0.549767</td>\n",
       "    </tr>\n",
       "    <tr>\n",
       "      <th>2</th>\n",
       "      <td>3</td>\n",
       "      <td>14937.0</td>\n",
       "      <td>279.708040</td>\n",
       "      <td>140.079199</td>\n",
       "      <td>55.092811</td>\n",
       "      <td>0.726105</td>\n",
       "    </tr>\n",
       "    <tr>\n",
       "      <th>3</th>\n",
       "      <td>4</td>\n",
       "      <td>14258.0</td>\n",
       "      <td>408.910296</td>\n",
       "      <td>333.062141</td>\n",
       "      <td>56.005484</td>\n",
       "      <td>0.736625</td>\n",
       "    </tr>\n",
       "  </tbody>\n",
       "</table>\n",
       "</div>"
      ],
      "text/plain": [
       "   label     area  centroid-0  centroid-1  orientation  eccentricity\n",
       "0      1  14404.0  179.556651  463.463968    96.247604      0.787659\n",
       "1      2  15433.0  171.781572  298.301173     8.681978      0.549767\n",
       "2      3  14937.0  279.708040  140.079199    55.092811      0.726105\n",
       "3      4  14258.0  408.910296  333.062141    56.005484      0.736625"
      ]
     },
     "execution_count": 21,
     "metadata": {},
     "output_type": "execute_result"
    }
   ],
   "source": [
    "results['orientation'] = (90+results['orientation']/np.pi*180)\n",
    "results"
   ]
  },
  {
   "attachments": {},
   "cell_type": "markdown",
   "metadata": {},
   "source": [
    "Comparing to the image, we should see that label 2 (centered at 171/298) is pretty flat (8 degrees), and label 1 (centered at 180/463) is mostly vertical (96 degrees)."
   ]
  },
  {
   "attachments": {},
   "cell_type": "markdown",
   "metadata": {},
   "source": [
    "### Regionprops (quantifying intensities)"
   ]
  },
  {
   "attachments": {},
   "cell_type": "markdown",
   "metadata": {},
   "source": [
    "Note that the only argument we gave to ski.measure.regionprops_table that had an image in it was label_img which does not include any information about the raw intensities of our original image:  just shape information.  \n",
    "\n",
    "What if we want to quantify the intensities of the lysosome or mitocondrial channel?  ski.measure.regionprops_table lets use give an intensity image as a second argument."
   ]
  },
  {
   "cell_type": "code",
   "execution_count": 24,
   "metadata": {},
   "outputs": [],
   "source": [
    "results_dictionary = ski.measure.regionprops_table(label_img, mito_backsub, properties=['label', 'area', 'centroid', 'orientation', 'eccentricity', 'mean_intensity'])"
   ]
  },
  {
   "cell_type": "code",
   "execution_count": 25,
   "metadata": {},
   "outputs": [
    {
     "data": {
      "text/html": [
       "<div>\n",
       "<style scoped>\n",
       "    .dataframe tbody tr th:only-of-type {\n",
       "        vertical-align: middle;\n",
       "    }\n",
       "\n",
       "    .dataframe tbody tr th {\n",
       "        vertical-align: top;\n",
       "    }\n",
       "\n",
       "    .dataframe thead th {\n",
       "        text-align: right;\n",
       "    }\n",
       "</style>\n",
       "<table border=\"1\" class=\"dataframe\">\n",
       "  <thead>\n",
       "    <tr style=\"text-align: right;\">\n",
       "      <th></th>\n",
       "      <th>label</th>\n",
       "      <th>area</th>\n",
       "      <th>centroid-0</th>\n",
       "      <th>centroid-1</th>\n",
       "      <th>orientation</th>\n",
       "      <th>eccentricity</th>\n",
       "      <th>mean_intensity</th>\n",
       "    </tr>\n",
       "  </thead>\n",
       "  <tbody>\n",
       "    <tr>\n",
       "      <th>0</th>\n",
       "      <td>1</td>\n",
       "      <td>14404.0</td>\n",
       "      <td>179.556651</td>\n",
       "      <td>463.463968</td>\n",
       "      <td>0.109041</td>\n",
       "      <td>0.787659</td>\n",
       "      <td>65.834702</td>\n",
       "    </tr>\n",
       "    <tr>\n",
       "      <th>1</th>\n",
       "      <td>2</td>\n",
       "      <td>15433.0</td>\n",
       "      <td>171.781572</td>\n",
       "      <td>298.301173</td>\n",
       "      <td>-1.419267</td>\n",
       "      <td>0.549767</td>\n",
       "      <td>66.851036</td>\n",
       "    </tr>\n",
       "    <tr>\n",
       "      <th>2</th>\n",
       "      <td>3</td>\n",
       "      <td>14937.0</td>\n",
       "      <td>279.708040</td>\n",
       "      <td>140.079199</td>\n",
       "      <td>-0.609245</td>\n",
       "      <td>0.726105</td>\n",
       "      <td>73.726715</td>\n",
       "    </tr>\n",
       "    <tr>\n",
       "      <th>3</th>\n",
       "      <td>4</td>\n",
       "      <td>14258.0</td>\n",
       "      <td>408.910296</td>\n",
       "      <td>333.062141</td>\n",
       "      <td>-0.593316</td>\n",
       "      <td>0.736625</td>\n",
       "      <td>82.320663</td>\n",
       "    </tr>\n",
       "  </tbody>\n",
       "</table>\n",
       "</div>"
      ],
      "text/plain": [
       "   label     area  centroid-0  centroid-1  orientation  eccentricity  \\\n",
       "0      1  14404.0  179.556651  463.463968     0.109041      0.787659   \n",
       "1      2  15433.0  171.781572  298.301173    -1.419267      0.549767   \n",
       "2      3  14937.0  279.708040  140.079199    -0.609245      0.726105   \n",
       "3      4  14258.0  408.910296  333.062141    -0.593316      0.736625   \n",
       "\n",
       "   mean_intensity  \n",
       "0       65.834702  \n",
       "1       66.851036  \n",
       "2       73.726715  \n",
       "3       82.320663  "
      ]
     },
     "execution_count": 25,
     "metadata": {},
     "output_type": "execute_result"
    }
   ],
   "source": [
    "mito_results = pd.DataFrame.from_dict(results_dictionary)\n",
    "mito_results"
   ]
  },
  {
   "attachments": {},
   "cell_type": "markdown",
   "metadata": {},
   "source": [
    "Compare to the original image and mito_backsubbed, does this make sense?  Note a fun feature of napari label layers:  you can change the \"contour\" argument to 1, and it will show just the outline of the labels."
   ]
  },
  {
   "attachments": {},
   "cell_type": "markdown",
   "metadata": {},
   "source": [
    "Regionprops is a very powerful tool, we can write our own custom functions to perform some kind of analysis on each object.  For instance you could write something to take find the 90th percentile of intensity in each object and the 10th percentile, useful for looking at things like how punctate the signal is in an object."
   ]
  },
  {
   "cell_type": "markdown",
   "metadata": {},
   "source": [
    "# Spot finding of the lysosomes"
   ]
  },
  {
   "cell_type": "markdown",
   "metadata": {},
   "source": [
    "## Preprocessing"
   ]
  },
  {
   "cell_type": "markdown",
   "metadata": {},
   "source": [
    "There is a special kind of filter called \"gaussian laplace\" that when applied to an image enriches for peaks of a configurable size.  We will use this to enrich for the lysosome peaks.  **sigma** is the size of the peak we are trying to enhance."
   ]
  },
  {
   "cell_type": "code",
   "execution_count": 26,
   "metadata": {},
   "outputs": [
    {
     "data": {
      "text/plain": [
       "<Image layer 'LoG' at 0x1d9177fb610>"
      ]
     },
     "execution_count": 26,
     "metadata": {},
     "output_type": "execute_result"
    }
   ],
   "source": [
    "LoG = -ndi.gaussian_laplace(lyso_backsub, sigma=2)\n",
    "viewer.add_image(LoG, name='LoG', colormap='gray', blending='additive')"
   ]
  },
  {
   "cell_type": "markdown",
   "metadata": {},
   "source": [
    "## Peak finding"
   ]
  },
  {
   "cell_type": "markdown",
   "metadata": {},
   "source": [
    "Now that we have an image that is enriched for peaks (and removes fuzzy nebulous areas), we can have skimage find local intensity peaks.  ski.feature.peak_local_max() will do this and return a list of peak positions (it does NOT return an image).  This process is very similar to the \"Find Maxima\" command in Imagej, but it works on 3D images as well.\n",
    "\n",
    "Two very useful arguments to give it are **min_distance** (the minimum distance between peaks) and **threshold_rel** (the minimum intensity of a peak).  Specifically:  **threshold_rel** find the maximum intensity of the image, multiplies by **threshold_rel**, and then finds all peaks above that intensity.  This is very useful for finding peaks in images with different intensities."
   ]
  },
  {
   "cell_type": "code",
   "execution_count": 27,
   "metadata": {},
   "outputs": [
    {
     "data": {
      "text/plain": [
       "array([[350, 410],\n",
       "       [258,  85],\n",
       "       [323, 379],\n",
       "       [117, 506],\n",
       "       [249, 100],\n",
       "       [131, 522],\n",
       "       [211, 179],\n",
       "       [444, 441],\n",
       "       [398, 428],\n",
       "       [308, 543],\n",
       "       [406, 416],\n",
       "       [104, 484],\n",
       "       [281, 517],\n",
       "       [240, 546],\n",
       "       [257, 215],\n",
       "       [220, 548],\n",
       "       [304, 573],\n",
       "       [274, 207],\n",
       "       [431, 408],\n",
       "       [434, 237],\n",
       "       [183, 510],\n",
       "       [255, 489],\n",
       "       [347, 425],\n",
       "       [414, 254],\n",
       "       [316, 530],\n",
       "       [220, 126],\n",
       "       [473, 358],\n",
       "       [239, 115],\n",
       "       [259, 472],\n",
       "       [370, 415],\n",
       "       [352, 395],\n",
       "       [392, 457],\n",
       "       [357, 315],\n",
       "       [418, 404],\n",
       "       [ 83, 284],\n",
       "       [299, 487],\n",
       "       [ 89, 311],\n",
       "       [307, 337],\n",
       "       [398, 389],\n",
       "       [105, 304],\n",
       "       [357, 124],\n",
       "       [ 77, 258],\n",
       "       [210, 200],\n",
       "       [ 64, 505],\n",
       "       [291, 569],\n",
       "       [431, 381],\n",
       "       [175, 531],\n",
       "       [201, 536],\n",
       "       [444, 385],\n",
       "       [ 69, 364],\n",
       "       [270, 578],\n",
       "       [157, 372],\n",
       "       [336, 318],\n",
       "       [156, 506],\n",
       "       [138, 382],\n",
       "       [334,  51],\n",
       "       [273, 540],\n",
       "       [ 71, 281],\n",
       "       [183, 104],\n",
       "       [289,  64],\n",
       "       [272, 458],\n",
       "       [392, 409],\n",
       "       [109, 169],\n",
       "       [147, 142],\n",
       "       [179, 230],\n",
       "       [437, 476],\n",
       "       [218,  84],\n",
       "       [124, 137],\n",
       "       [376, 338],\n",
       "       [374, 462],\n",
       "       [362,  81],\n",
       "       [209, 522],\n",
       "       [176, 168],\n",
       "       [ 61, 645],\n",
       "       [316, 598],\n",
       "       [393, 360],\n",
       "       [386, 471],\n",
       "       [ 38, 433],\n",
       "       [144, 517]], dtype=int64)"
      ]
     },
     "execution_count": 27,
     "metadata": {},
     "output_type": "execute_result"
    }
   ],
   "source": [
    "peaks = ski.feature.peak_local_max(LoG, min_distance=10, threshold_rel=.3)\n",
    "peaks"
   ]
  },
  {
   "cell_type": "markdown",
   "metadata": {},
   "source": [
    "peaks is just an array like any other numpy array, so we can get its shape and slice it in the same way as an image.  The rows are the peaks, and the columns are the X,Y values"
   ]
  },
  {
   "cell_type": "code",
   "execution_count": 28,
   "metadata": {},
   "outputs": [
    {
     "data": {
      "text/plain": [
       "(79, 2)"
      ]
     },
     "execution_count": 28,
     "metadata": {},
     "output_type": "execute_result"
    }
   ],
   "source": [
    "peaks.shape"
   ]
  },
  {
   "cell_type": "code",
   "execution_count": 17,
   "metadata": {},
   "outputs": [
    {
     "data": {
      "text/plain": [
       "array([350, 410], dtype=int64)"
      ]
     },
     "execution_count": 17,
     "metadata": {},
     "output_type": "execute_result"
    }
   ],
   "source": [
    "peaks[0]"
   ]
  },
  {
   "cell_type": "markdown",
   "metadata": {},
   "source": [
    "Napari has a very handy function:  add_points() for taking a list of peaks and adding them to the image as a \"points\" layer.  This is very useful for visualizing the peaks, and can even be manually edited."
   ]
  },
  {
   "cell_type": "code",
   "execution_count": 31,
   "metadata": {},
   "outputs": [
    {
     "data": {
      "text/plain": [
       "<Points layer 'peaks [1]' at 0x1d9181ab490>"
      ]
     },
     "execution_count": 31,
     "metadata": {},
     "output_type": "execute_result"
    }
   ],
   "source": [
    "viewer.add_points(peaks, name='peaks', size=3)"
   ]
  },
  {
   "cell_type": "markdown",
   "metadata": {},
   "source": [
    "We can see this did OK, but it missed a lot of peaks, tweak the code below until you get a decent result."
   ]
  },
  {
   "cell_type": "code",
   "execution_count": 33,
   "metadata": {},
   "outputs": [
    {
     "data": {
      "text/plain": [
       "<Points layer 'peaks [2]' at 0x1d9842bcc10>"
      ]
     },
     "execution_count": 33,
     "metadata": {},
     "output_type": "execute_result"
    }
   ],
   "source": [
    "peaks = ski.feature.peak_local_max(LoG, min_distance=2, threshold_rel=.1)\n",
    "viewer.add_points(peaks, name='peaks', size=2)"
   ]
  },
  {
   "cell_type": "markdown",
   "metadata": {},
   "source": [
    "## Quantifying peaks"
   ]
  },
  {
   "cell_type": "markdown",
   "metadata": {},
   "source": [
    "Increasingly common in image analysis is counting the number of peaks in a nucleus, this makes more sense for an RNA transcription image, but we can do it for the lysosomes here.\n",
    "\n",
    "How can we count the number of peaks?  First we will make a image where the position of each peak is 1 and everywhere else is 0."
   ]
  },
  {
   "cell_type": "code",
   "execution_count": 34,
   "metadata": {},
   "outputs": [
    {
     "data": {
      "text/plain": [
       "<Image layer 'peak_img' at 0x1d983580730>"
      ]
     },
     "execution_count": 34,
     "metadata": {},
     "output_type": "execute_result"
    }
   ],
   "source": [
    "peak_img = np.zeros_like(nucleii_backsub)  ## zeros_like returns an array of zeros with the same shape and type as a given array\n",
    "peak_img[peaks[:,0], peaks[:,1]] = 1\n",
    "viewer.add_image(peak_img, name='peak_img', colormap='gray', blending='additive')"
   ]
  },
  {
   "cell_type": "markdown",
   "metadata": {},
   "source": [
    "We will quantify as before using regionprops_table."
   ]
  },
  {
   "cell_type": "code",
   "execution_count": 35,
   "metadata": {},
   "outputs": [
    {
     "data": {
      "text/html": [
       "<div>\n",
       "<style scoped>\n",
       "    .dataframe tbody tr th:only-of-type {\n",
       "        vertical-align: middle;\n",
       "    }\n",
       "\n",
       "    .dataframe tbody tr th {\n",
       "        vertical-align: top;\n",
       "    }\n",
       "\n",
       "    .dataframe thead th {\n",
       "        text-align: right;\n",
       "    }\n",
       "</style>\n",
       "<table border=\"1\" class=\"dataframe\">\n",
       "  <thead>\n",
       "    <tr style=\"text-align: right;\">\n",
       "      <th></th>\n",
       "      <th>label</th>\n",
       "      <th>area</th>\n",
       "      <th>centroid-0</th>\n",
       "      <th>centroid-1</th>\n",
       "      <th>mean_intensity</th>\n",
       "      <th>orientation</th>\n",
       "    </tr>\n",
       "  </thead>\n",
       "  <tbody>\n",
       "    <tr>\n",
       "      <th>0</th>\n",
       "      <td>1</td>\n",
       "      <td>14404.0</td>\n",
       "      <td>179.556651</td>\n",
       "      <td>463.463968</td>\n",
       "      <td>0.000694</td>\n",
       "      <td>0.109041</td>\n",
       "    </tr>\n",
       "    <tr>\n",
       "      <th>1</th>\n",
       "      <td>2</td>\n",
       "      <td>15433.0</td>\n",
       "      <td>171.781572</td>\n",
       "      <td>298.301173</td>\n",
       "      <td>0.000518</td>\n",
       "      <td>-1.419267</td>\n",
       "    </tr>\n",
       "    <tr>\n",
       "      <th>2</th>\n",
       "      <td>3</td>\n",
       "      <td>14937.0</td>\n",
       "      <td>279.708040</td>\n",
       "      <td>140.079199</td>\n",
       "      <td>0.000803</td>\n",
       "      <td>-0.609245</td>\n",
       "    </tr>\n",
       "    <tr>\n",
       "      <th>3</th>\n",
       "      <td>4</td>\n",
       "      <td>14258.0</td>\n",
       "      <td>408.910296</td>\n",
       "      <td>333.062141</td>\n",
       "      <td>0.000912</td>\n",
       "      <td>-0.593316</td>\n",
       "    </tr>\n",
       "  </tbody>\n",
       "</table>\n",
       "</div>"
      ],
      "text/plain": [
       "   label     area  centroid-0  centroid-1  mean_intensity  orientation\n",
       "0      1  14404.0  179.556651  463.463968        0.000694     0.109041\n",
       "1      2  15433.0  171.781572  298.301173        0.000518    -1.419267\n",
       "2      3  14937.0  279.708040  140.079199        0.000803    -0.609245\n",
       "3      4  14258.0  408.910296  333.062141        0.000912    -0.593316"
      ]
     },
     "execution_count": 35,
     "metadata": {},
     "output_type": "execute_result"
    }
   ],
   "source": [
    "results_dictionary = ski.measure.regionprops_table(label_img, peak_img, properties=['label', 'area', 'centroid', 'mean_intensity', 'orientation'])\n",
    "results = pd.DataFrame.from_dict(results_dictionary)\n",
    "results"
   ]
  },
  {
   "cell_type": "markdown",
   "metadata": {},
   "source": [
    "However, we are interested in the COUNTS, which would be the sum_intensity (which is not an option in regionprops), but we can easily get it by finding  mean_intensity * area."
   ]
  },
  {
   "cell_type": "code",
   "execution_count": 37,
   "metadata": {},
   "outputs": [
    {
     "data": {
      "text/html": [
       "<div>\n",
       "<style scoped>\n",
       "    .dataframe tbody tr th:only-of-type {\n",
       "        vertical-align: middle;\n",
       "    }\n",
       "\n",
       "    .dataframe tbody tr th {\n",
       "        vertical-align: top;\n",
       "    }\n",
       "\n",
       "    .dataframe thead th {\n",
       "        text-align: right;\n",
       "    }\n",
       "</style>\n",
       "<table border=\"1\" class=\"dataframe\">\n",
       "  <thead>\n",
       "    <tr style=\"text-align: right;\">\n",
       "      <th></th>\n",
       "      <th>label</th>\n",
       "      <th>area</th>\n",
       "      <th>centroid-0</th>\n",
       "      <th>centroid-1</th>\n",
       "      <th>mean_intensity</th>\n",
       "      <th>orientation</th>\n",
       "      <th>counts</th>\n",
       "    </tr>\n",
       "  </thead>\n",
       "  <tbody>\n",
       "    <tr>\n",
       "      <th>0</th>\n",
       "      <td>1</td>\n",
       "      <td>14404.0</td>\n",
       "      <td>179.556651</td>\n",
       "      <td>463.463968</td>\n",
       "      <td>0.000694</td>\n",
       "      <td>0.109041</td>\n",
       "      <td>10.0</td>\n",
       "    </tr>\n",
       "    <tr>\n",
       "      <th>1</th>\n",
       "      <td>2</td>\n",
       "      <td>15433.0</td>\n",
       "      <td>171.781572</td>\n",
       "      <td>298.301173</td>\n",
       "      <td>0.000518</td>\n",
       "      <td>-1.419267</td>\n",
       "      <td>8.0</td>\n",
       "    </tr>\n",
       "    <tr>\n",
       "      <th>2</th>\n",
       "      <td>3</td>\n",
       "      <td>14937.0</td>\n",
       "      <td>279.708040</td>\n",
       "      <td>140.079199</td>\n",
       "      <td>0.000803</td>\n",
       "      <td>-0.609245</td>\n",
       "      <td>12.0</td>\n",
       "    </tr>\n",
       "    <tr>\n",
       "      <th>3</th>\n",
       "      <td>4</td>\n",
       "      <td>14258.0</td>\n",
       "      <td>408.910296</td>\n",
       "      <td>333.062141</td>\n",
       "      <td>0.000912</td>\n",
       "      <td>-0.593316</td>\n",
       "      <td>13.0</td>\n",
       "    </tr>\n",
       "  </tbody>\n",
       "</table>\n",
       "</div>"
      ],
      "text/plain": [
       "   label     area  centroid-0  centroid-1  mean_intensity  orientation  counts\n",
       "0      1  14404.0  179.556651  463.463968        0.000694     0.109041    10.0\n",
       "1      2  15433.0  171.781572  298.301173        0.000518    -1.419267     8.0\n",
       "2      3  14937.0  279.708040  140.079199        0.000803    -0.609245    12.0\n",
       "3      4  14258.0  408.910296  333.062141        0.000912    -0.593316    13.0"
      ]
     },
     "execution_count": 37,
     "metadata": {},
     "output_type": "execute_result"
    }
   ],
   "source": [
    "results['counts'] = results['mean_intensity'] * results['area']\n",
    "results"
   ]
  },
  {
   "attachments": {},
   "cell_type": "markdown",
   "metadata": {},
   "source": [
    "# Visualizing results"
   ]
  },
  {
   "attachments": {},
   "cell_type": "markdown",
   "metadata": {},
   "source": [
    "### Plotting"
   ]
  },
  {
   "attachments": {},
   "cell_type": "markdown",
   "metadata": {},
   "source": [
    "Obviously we can plot results using plotly.  For those that don't know:  plotly functions take a DataFrame, and you specify which columns you want to plot on which axis.  You can also specify which column you want to use to color the points, and which column you want to use to size the points."
   ]
  },
  {
   "cell_type": "code",
   "execution_count": 38,
   "metadata": {},
   "outputs": [
    {
     "data": {
      "text/plain": [
       "pandas.core.frame.DataFrame"
      ]
     },
     "execution_count": 38,
     "metadata": {},
     "output_type": "execute_result"
    }
   ],
   "source": [
    "type(results)"
   ]
  },
  {
   "cell_type": "code",
   "execution_count": 39,
   "metadata": {},
   "outputs": [
    {
     "data": {
      "application/vnd.plotly.v1+json": {
       "config": {
        "plotlyServerURL": "https://plot.ly"
       },
       "data": [
        {
         "alignmentgroup": "True",
         "hovertemplate": "label=%{x}<br>counts=%{y}<extra></extra>",
         "legendgroup": "",
         "marker": {
          "color": "#636efa",
          "pattern": {
           "shape": ""
          }
         },
         "name": "",
         "offsetgroup": "",
         "orientation": "v",
         "showlegend": false,
         "textposition": "auto",
         "type": "bar",
         "x": [
          1,
          2,
          3,
          4
         ],
         "xaxis": "x",
         "y": [
          10.000000324100256,
          7.999999908031896,
          11.999999849998858,
          12.999999791034497
         ],
         "yaxis": "y"
        }
       ],
       "layout": {
        "barmode": "relative",
        "legend": {
         "tracegroupgap": 0
        },
        "margin": {
         "t": 60
        },
        "template": {
         "data": {
          "bar": [
           {
            "error_x": {
             "color": "#2a3f5f"
            },
            "error_y": {
             "color": "#2a3f5f"
            },
            "marker": {
             "line": {
              "color": "#E5ECF6",
              "width": 0.5
             },
             "pattern": {
              "fillmode": "overlay",
              "size": 10,
              "solidity": 0.2
             }
            },
            "type": "bar"
           }
          ],
          "barpolar": [
           {
            "marker": {
             "line": {
              "color": "#E5ECF6",
              "width": 0.5
             },
             "pattern": {
              "fillmode": "overlay",
              "size": 10,
              "solidity": 0.2
             }
            },
            "type": "barpolar"
           }
          ],
          "carpet": [
           {
            "aaxis": {
             "endlinecolor": "#2a3f5f",
             "gridcolor": "white",
             "linecolor": "white",
             "minorgridcolor": "white",
             "startlinecolor": "#2a3f5f"
            },
            "baxis": {
             "endlinecolor": "#2a3f5f",
             "gridcolor": "white",
             "linecolor": "white",
             "minorgridcolor": "white",
             "startlinecolor": "#2a3f5f"
            },
            "type": "carpet"
           }
          ],
          "choropleth": [
           {
            "colorbar": {
             "outlinewidth": 0,
             "ticks": ""
            },
            "type": "choropleth"
           }
          ],
          "contour": [
           {
            "colorbar": {
             "outlinewidth": 0,
             "ticks": ""
            },
            "colorscale": [
             [
              0,
              "#0d0887"
             ],
             [
              0.1111111111111111,
              "#46039f"
             ],
             [
              0.2222222222222222,
              "#7201a8"
             ],
             [
              0.3333333333333333,
              "#9c179e"
             ],
             [
              0.4444444444444444,
              "#bd3786"
             ],
             [
              0.5555555555555556,
              "#d8576b"
             ],
             [
              0.6666666666666666,
              "#ed7953"
             ],
             [
              0.7777777777777778,
              "#fb9f3a"
             ],
             [
              0.8888888888888888,
              "#fdca26"
             ],
             [
              1,
              "#f0f921"
             ]
            ],
            "type": "contour"
           }
          ],
          "contourcarpet": [
           {
            "colorbar": {
             "outlinewidth": 0,
             "ticks": ""
            },
            "type": "contourcarpet"
           }
          ],
          "heatmap": [
           {
            "colorbar": {
             "outlinewidth": 0,
             "ticks": ""
            },
            "colorscale": [
             [
              0,
              "#0d0887"
             ],
             [
              0.1111111111111111,
              "#46039f"
             ],
             [
              0.2222222222222222,
              "#7201a8"
             ],
             [
              0.3333333333333333,
              "#9c179e"
             ],
             [
              0.4444444444444444,
              "#bd3786"
             ],
             [
              0.5555555555555556,
              "#d8576b"
             ],
             [
              0.6666666666666666,
              "#ed7953"
             ],
             [
              0.7777777777777778,
              "#fb9f3a"
             ],
             [
              0.8888888888888888,
              "#fdca26"
             ],
             [
              1,
              "#f0f921"
             ]
            ],
            "type": "heatmap"
           }
          ],
          "heatmapgl": [
           {
            "colorbar": {
             "outlinewidth": 0,
             "ticks": ""
            },
            "colorscale": [
             [
              0,
              "#0d0887"
             ],
             [
              0.1111111111111111,
              "#46039f"
             ],
             [
              0.2222222222222222,
              "#7201a8"
             ],
             [
              0.3333333333333333,
              "#9c179e"
             ],
             [
              0.4444444444444444,
              "#bd3786"
             ],
             [
              0.5555555555555556,
              "#d8576b"
             ],
             [
              0.6666666666666666,
              "#ed7953"
             ],
             [
              0.7777777777777778,
              "#fb9f3a"
             ],
             [
              0.8888888888888888,
              "#fdca26"
             ],
             [
              1,
              "#f0f921"
             ]
            ],
            "type": "heatmapgl"
           }
          ],
          "histogram": [
           {
            "marker": {
             "pattern": {
              "fillmode": "overlay",
              "size": 10,
              "solidity": 0.2
             }
            },
            "type": "histogram"
           }
          ],
          "histogram2d": [
           {
            "colorbar": {
             "outlinewidth": 0,
             "ticks": ""
            },
            "colorscale": [
             [
              0,
              "#0d0887"
             ],
             [
              0.1111111111111111,
              "#46039f"
             ],
             [
              0.2222222222222222,
              "#7201a8"
             ],
             [
              0.3333333333333333,
              "#9c179e"
             ],
             [
              0.4444444444444444,
              "#bd3786"
             ],
             [
              0.5555555555555556,
              "#d8576b"
             ],
             [
              0.6666666666666666,
              "#ed7953"
             ],
             [
              0.7777777777777778,
              "#fb9f3a"
             ],
             [
              0.8888888888888888,
              "#fdca26"
             ],
             [
              1,
              "#f0f921"
             ]
            ],
            "type": "histogram2d"
           }
          ],
          "histogram2dcontour": [
           {
            "colorbar": {
             "outlinewidth": 0,
             "ticks": ""
            },
            "colorscale": [
             [
              0,
              "#0d0887"
             ],
             [
              0.1111111111111111,
              "#46039f"
             ],
             [
              0.2222222222222222,
              "#7201a8"
             ],
             [
              0.3333333333333333,
              "#9c179e"
             ],
             [
              0.4444444444444444,
              "#bd3786"
             ],
             [
              0.5555555555555556,
              "#d8576b"
             ],
             [
              0.6666666666666666,
              "#ed7953"
             ],
             [
              0.7777777777777778,
              "#fb9f3a"
             ],
             [
              0.8888888888888888,
              "#fdca26"
             ],
             [
              1,
              "#f0f921"
             ]
            ],
            "type": "histogram2dcontour"
           }
          ],
          "mesh3d": [
           {
            "colorbar": {
             "outlinewidth": 0,
             "ticks": ""
            },
            "type": "mesh3d"
           }
          ],
          "parcoords": [
           {
            "line": {
             "colorbar": {
              "outlinewidth": 0,
              "ticks": ""
             }
            },
            "type": "parcoords"
           }
          ],
          "pie": [
           {
            "automargin": true,
            "type": "pie"
           }
          ],
          "scatter": [
           {
            "fillpattern": {
             "fillmode": "overlay",
             "size": 10,
             "solidity": 0.2
            },
            "type": "scatter"
           }
          ],
          "scatter3d": [
           {
            "line": {
             "colorbar": {
              "outlinewidth": 0,
              "ticks": ""
             }
            },
            "marker": {
             "colorbar": {
              "outlinewidth": 0,
              "ticks": ""
             }
            },
            "type": "scatter3d"
           }
          ],
          "scattercarpet": [
           {
            "marker": {
             "colorbar": {
              "outlinewidth": 0,
              "ticks": ""
             }
            },
            "type": "scattercarpet"
           }
          ],
          "scattergeo": [
           {
            "marker": {
             "colorbar": {
              "outlinewidth": 0,
              "ticks": ""
             }
            },
            "type": "scattergeo"
           }
          ],
          "scattergl": [
           {
            "marker": {
             "colorbar": {
              "outlinewidth": 0,
              "ticks": ""
             }
            },
            "type": "scattergl"
           }
          ],
          "scattermapbox": [
           {
            "marker": {
             "colorbar": {
              "outlinewidth": 0,
              "ticks": ""
             }
            },
            "type": "scattermapbox"
           }
          ],
          "scatterpolar": [
           {
            "marker": {
             "colorbar": {
              "outlinewidth": 0,
              "ticks": ""
             }
            },
            "type": "scatterpolar"
           }
          ],
          "scatterpolargl": [
           {
            "marker": {
             "colorbar": {
              "outlinewidth": 0,
              "ticks": ""
             }
            },
            "type": "scatterpolargl"
           }
          ],
          "scatterternary": [
           {
            "marker": {
             "colorbar": {
              "outlinewidth": 0,
              "ticks": ""
             }
            },
            "type": "scatterternary"
           }
          ],
          "surface": [
           {
            "colorbar": {
             "outlinewidth": 0,
             "ticks": ""
            },
            "colorscale": [
             [
              0,
              "#0d0887"
             ],
             [
              0.1111111111111111,
              "#46039f"
             ],
             [
              0.2222222222222222,
              "#7201a8"
             ],
             [
              0.3333333333333333,
              "#9c179e"
             ],
             [
              0.4444444444444444,
              "#bd3786"
             ],
             [
              0.5555555555555556,
              "#d8576b"
             ],
             [
              0.6666666666666666,
              "#ed7953"
             ],
             [
              0.7777777777777778,
              "#fb9f3a"
             ],
             [
              0.8888888888888888,
              "#fdca26"
             ],
             [
              1,
              "#f0f921"
             ]
            ],
            "type": "surface"
           }
          ],
          "table": [
           {
            "cells": {
             "fill": {
              "color": "#EBF0F8"
             },
             "line": {
              "color": "white"
             }
            },
            "header": {
             "fill": {
              "color": "#C8D4E3"
             },
             "line": {
              "color": "white"
             }
            },
            "type": "table"
           }
          ]
         },
         "layout": {
          "annotationdefaults": {
           "arrowcolor": "#2a3f5f",
           "arrowhead": 0,
           "arrowwidth": 1
          },
          "autotypenumbers": "strict",
          "coloraxis": {
           "colorbar": {
            "outlinewidth": 0,
            "ticks": ""
           }
          },
          "colorscale": {
           "diverging": [
            [
             0,
             "#8e0152"
            ],
            [
             0.1,
             "#c51b7d"
            ],
            [
             0.2,
             "#de77ae"
            ],
            [
             0.3,
             "#f1b6da"
            ],
            [
             0.4,
             "#fde0ef"
            ],
            [
             0.5,
             "#f7f7f7"
            ],
            [
             0.6,
             "#e6f5d0"
            ],
            [
             0.7,
             "#b8e186"
            ],
            [
             0.8,
             "#7fbc41"
            ],
            [
             0.9,
             "#4d9221"
            ],
            [
             1,
             "#276419"
            ]
           ],
           "sequential": [
            [
             0,
             "#0d0887"
            ],
            [
             0.1111111111111111,
             "#46039f"
            ],
            [
             0.2222222222222222,
             "#7201a8"
            ],
            [
             0.3333333333333333,
             "#9c179e"
            ],
            [
             0.4444444444444444,
             "#bd3786"
            ],
            [
             0.5555555555555556,
             "#d8576b"
            ],
            [
             0.6666666666666666,
             "#ed7953"
            ],
            [
             0.7777777777777778,
             "#fb9f3a"
            ],
            [
             0.8888888888888888,
             "#fdca26"
            ],
            [
             1,
             "#f0f921"
            ]
           ],
           "sequentialminus": [
            [
             0,
             "#0d0887"
            ],
            [
             0.1111111111111111,
             "#46039f"
            ],
            [
             0.2222222222222222,
             "#7201a8"
            ],
            [
             0.3333333333333333,
             "#9c179e"
            ],
            [
             0.4444444444444444,
             "#bd3786"
            ],
            [
             0.5555555555555556,
             "#d8576b"
            ],
            [
             0.6666666666666666,
             "#ed7953"
            ],
            [
             0.7777777777777778,
             "#fb9f3a"
            ],
            [
             0.8888888888888888,
             "#fdca26"
            ],
            [
             1,
             "#f0f921"
            ]
           ]
          },
          "colorway": [
           "#636efa",
           "#EF553B",
           "#00cc96",
           "#ab63fa",
           "#FFA15A",
           "#19d3f3",
           "#FF6692",
           "#B6E880",
           "#FF97FF",
           "#FECB52"
          ],
          "font": {
           "color": "#2a3f5f"
          },
          "geo": {
           "bgcolor": "white",
           "lakecolor": "white",
           "landcolor": "#E5ECF6",
           "showlakes": true,
           "showland": true,
           "subunitcolor": "white"
          },
          "hoverlabel": {
           "align": "left"
          },
          "hovermode": "closest",
          "mapbox": {
           "style": "light"
          },
          "paper_bgcolor": "white",
          "plot_bgcolor": "#E5ECF6",
          "polar": {
           "angularaxis": {
            "gridcolor": "white",
            "linecolor": "white",
            "ticks": ""
           },
           "bgcolor": "#E5ECF6",
           "radialaxis": {
            "gridcolor": "white",
            "linecolor": "white",
            "ticks": ""
           }
          },
          "scene": {
           "xaxis": {
            "backgroundcolor": "#E5ECF6",
            "gridcolor": "white",
            "gridwidth": 2,
            "linecolor": "white",
            "showbackground": true,
            "ticks": "",
            "zerolinecolor": "white"
           },
           "yaxis": {
            "backgroundcolor": "#E5ECF6",
            "gridcolor": "white",
            "gridwidth": 2,
            "linecolor": "white",
            "showbackground": true,
            "ticks": "",
            "zerolinecolor": "white"
           },
           "zaxis": {
            "backgroundcolor": "#E5ECF6",
            "gridcolor": "white",
            "gridwidth": 2,
            "linecolor": "white",
            "showbackground": true,
            "ticks": "",
            "zerolinecolor": "white"
           }
          },
          "shapedefaults": {
           "line": {
            "color": "#2a3f5f"
           }
          },
          "ternary": {
           "aaxis": {
            "gridcolor": "white",
            "linecolor": "white",
            "ticks": ""
           },
           "baxis": {
            "gridcolor": "white",
            "linecolor": "white",
            "ticks": ""
           },
           "bgcolor": "#E5ECF6",
           "caxis": {
            "gridcolor": "white",
            "linecolor": "white",
            "ticks": ""
           }
          },
          "title": {
           "x": 0.05
          },
          "xaxis": {
           "automargin": true,
           "gridcolor": "white",
           "linecolor": "white",
           "ticks": "",
           "title": {
            "standoff": 15
           },
           "zerolinecolor": "white",
           "zerolinewidth": 2
          },
          "yaxis": {
           "automargin": true,
           "gridcolor": "white",
           "linecolor": "white",
           "ticks": "",
           "title": {
            "standoff": 15
           },
           "zerolinecolor": "white",
           "zerolinewidth": 2
          }
         }
        },
        "width": 400,
        "xaxis": {
         "anchor": "y",
         "domain": [
          0,
          1
         ],
         "title": {
          "text": "label"
         }
        },
        "yaxis": {
         "anchor": "x",
         "domain": [
          0,
          1
         ],
         "title": {
          "text": "counts"
         }
        }
       }
      }
     },
     "metadata": {},
     "output_type": "display_data"
    }
   ],
   "source": [
    "px.bar(results, x='label', y='counts', width=400)"
   ]
  },
  {
   "attachments": {},
   "cell_type": "markdown",
   "metadata": {},
   "source": [
    "### With images"
   ]
  },
  {
   "attachments": {},
   "cell_type": "markdown",
   "metadata": {},
   "source": [
    "But this is boring!  We can visualize this in a much more exciting way using napari.\n",
    "\n",
    "The ski.util.map_array() function lets us take a label image (in this case label_img), and map intensities onto each object.  We can use this to visualize the lysosome intensity of each cell."
   ]
  },
  {
   "cell_type": "code",
   "execution_count": 40,
   "metadata": {},
   "outputs": [
    {
     "data": {
      "text/html": [
       "<div>\n",
       "<style scoped>\n",
       "    .dataframe tbody tr th:only-of-type {\n",
       "        vertical-align: middle;\n",
       "    }\n",
       "\n",
       "    .dataframe tbody tr th {\n",
       "        vertical-align: top;\n",
       "    }\n",
       "\n",
       "    .dataframe thead th {\n",
       "        text-align: right;\n",
       "    }\n",
       "</style>\n",
       "<table border=\"1\" class=\"dataframe\">\n",
       "  <thead>\n",
       "    <tr style=\"text-align: right;\">\n",
       "      <th></th>\n",
       "      <th>label</th>\n",
       "      <th>area</th>\n",
       "      <th>centroid-0</th>\n",
       "      <th>centroid-1</th>\n",
       "      <th>mean_intensity</th>\n",
       "      <th>orientation</th>\n",
       "      <th>counts</th>\n",
       "    </tr>\n",
       "  </thead>\n",
       "  <tbody>\n",
       "    <tr>\n",
       "      <th>0</th>\n",
       "      <td>1</td>\n",
       "      <td>14404.0</td>\n",
       "      <td>179.556651</td>\n",
       "      <td>463.463968</td>\n",
       "      <td>0.000694</td>\n",
       "      <td>0.109041</td>\n",
       "      <td>10.0</td>\n",
       "    </tr>\n",
       "    <tr>\n",
       "      <th>1</th>\n",
       "      <td>2</td>\n",
       "      <td>15433.0</td>\n",
       "      <td>171.781572</td>\n",
       "      <td>298.301173</td>\n",
       "      <td>0.000518</td>\n",
       "      <td>-1.419267</td>\n",
       "      <td>8.0</td>\n",
       "    </tr>\n",
       "    <tr>\n",
       "      <th>2</th>\n",
       "      <td>3</td>\n",
       "      <td>14937.0</td>\n",
       "      <td>279.708040</td>\n",
       "      <td>140.079199</td>\n",
       "      <td>0.000803</td>\n",
       "      <td>-0.609245</td>\n",
       "      <td>12.0</td>\n",
       "    </tr>\n",
       "    <tr>\n",
       "      <th>3</th>\n",
       "      <td>4</td>\n",
       "      <td>14258.0</td>\n",
       "      <td>408.910296</td>\n",
       "      <td>333.062141</td>\n",
       "      <td>0.000912</td>\n",
       "      <td>-0.593316</td>\n",
       "      <td>13.0</td>\n",
       "    </tr>\n",
       "  </tbody>\n",
       "</table>\n",
       "</div>"
      ],
      "text/plain": [
       "   label     area  centroid-0  centroid-1  mean_intensity  orientation  counts\n",
       "0      1  14404.0  179.556651  463.463968        0.000694     0.109041    10.0\n",
       "1      2  15433.0  171.781572  298.301173        0.000518    -1.419267     8.0\n",
       "2      3  14937.0  279.708040  140.079199        0.000803    -0.609245    12.0\n",
       "3      4  14258.0  408.910296  333.062141        0.000912    -0.593316    13.0"
      ]
     },
     "execution_count": 40,
     "metadata": {},
     "output_type": "execute_result"
    }
   ],
   "source": [
    "results"
   ]
  },
  {
   "cell_type": "code",
   "execution_count": 41,
   "metadata": {},
   "outputs": [
    {
     "data": {
      "text/plain": [
       "<Image layer 'count_img' at 0x1d984cf3e80>"
      ]
     },
     "execution_count": 41,
     "metadata": {},
     "output_type": "execute_result"
    }
   ],
   "source": [
    "intensity_img = ski.util.map_array(label_img, results['label'].values, results['counts'].values)\n",
    "viewer.add_image(intensity_img, name='count_img', colormap='blue', blending='additive')"
   ]
  },
  {
   "attachments": {},
   "cell_type": "markdown",
   "metadata": {},
   "source": [
    "We can do this for any quantity."
   ]
  },
  {
   "cell_type": "code",
   "execution_count": 42,
   "metadata": {},
   "outputs": [
    {
     "data": {
      "text/plain": [
       "<Image layer 'angle_img' at 0x1d984514b20>"
      ]
     },
     "execution_count": 42,
     "metadata": {},
     "output_type": "execute_result"
    }
   ],
   "source": [
    "results['angle'] = (90+results['orientation']/np.pi*180)\n",
    "results\n",
    "\n",
    "intensity_img = ski.util.map_array(label_img, results['label'].values, results['angle'].values)\n",
    "viewer.add_image(intensity_img, name='angle_img', colormap='blue', blending='additive')"
   ]
  },
  {
   "cell_type": "code",
   "execution_count": null,
   "metadata": {},
   "outputs": [],
   "source": []
  },
  {
   "cell_type": "code",
   "execution_count": null,
   "metadata": {},
   "outputs": [],
   "source": []
  },
  {
   "cell_type": "code",
   "execution_count": null,
   "metadata": {},
   "outputs": [],
   "source": []
  },
  {
   "attachments": {},
   "cell_type": "markdown",
   "metadata": {},
   "source": [
    "# HOMEWORK 2"
   ]
  },
  {
   "attachments": {},
   "cell_type": "markdown",
   "metadata": {},
   "source": [
    "## Part 1:  Quantify nucleii in \"Easy.tif\""
   ]
  },
  {
   "attachments": {},
   "cell_type": "markdown",
   "metadata": {},
   "source": [
    "Use similar analysis (rolling ball background subtraction, gaussian blur, threshold, label, regionprops_table) to make a label image of the nucleii in \"Easy.tif\".  "
   ]
  },
  {
   "cell_type": "code",
   "execution_count": 28,
   "metadata": {},
   "outputs": [
    {
     "data": {
      "text/plain": [
       "<Labels layer 'label_img' at 0x1b50eb30c40>"
      ]
     },
     "execution_count": 28,
     "metadata": {},
     "output_type": "execute_result"
    }
   ],
   "source": [
    "easy_img = ski.io.imread('files/Easy.tif')\n",
    "backsub_img = sutils.backsub_2D(easy_img, radius=10)\n",
    "blurred_img = ndi.gaussian_filter(backsub_img, 2)\n",
    "thresholded_img = blurred_img>10\n",
    "label_img, number_objects = ndi.label(thresholded_img)\n",
    "\n",
    "viewer.layers.clear()\n",
    "viewer.add_image(easy_img, name='easy_img', colormap='gray', blending='additive')\n",
    "viewer.add_image(backsub_img, name='backsub_img', colormap='gray', blending='additive')\n",
    "viewer.add_image(blurred_img, name='blurred_img', colormap='gray', blending='additive')\n",
    "viewer.add_image(thresholded_img, name='thresholded_img', colormap='gray', blending='additive')\n",
    "viewer.add_labels(label_img, name='label_img')"
   ]
  },
  {
   "attachments": {},
   "cell_type": "markdown",
   "metadata": {},
   "source": [
    "Note that a lot of objects are merged that are single objects, we will find ways using watershed to clean this up later, but for now let's filter objects on size. \n",
    "\n",
    "Use the ski.measure.regionprops_table() to generate a results table and the ski.util.map_array() function to make \"area_img\" and then visualize this in napari."
   ]
  },
  {
   "cell_type": "code",
   "execution_count": 29,
   "metadata": {},
   "outputs": [],
   "source": [
    "results = pd.DataFrame(ski.measure.regionprops_table(label_img, easy_img, properties=('label', 'area', 'centroid', 'mean_intensity')))\n",
    "area_img = ski.util.map_array(label_img, results['label'].values, results['area'].values)\n"
   ]
  },
  {
   "attachments": {},
   "cell_type": "markdown",
   "metadata": {},
   "source": [
    "## Part 2:  Filter the nucleii by size"
   ]
  },
  {
   "attachments": {},
   "cell_type": "markdown",
   "metadata": {},
   "source": [
    "### Finding a minimum size"
   ]
  },
  {
   "attachments": {},
   "cell_type": "markdown",
   "metadata": {},
   "source": [
    "We want to find area limits that let through objects that are single nucleii, but filter out objects that are multiple nucleii and garbage.  \n",
    "\n",
    "To find the low end (ie the MINIMUM size threshold) we can use our area_img.  Let's just adjust the contrast until the objects that are too small disappear and we are left only with the good ones.\n",
    "\n",
    "To see the VALUE of \"contrast\" being used (which for us is the object's area), we can right click on the \"contrast limits\" slider.\n",
    "\n",
    "Set a variable called \"min_area\" to the value you found."
   ]
  },
  {
   "cell_type": "code",
   "execution_count": 30,
   "metadata": {},
   "outputs": [],
   "source": [
    "min_area = 35"
   ]
  },
  {
   "attachments": {},
   "cell_type": "markdown",
   "metadata": {},
   "source": [
    "### Finding a maximum size"
   ]
  },
  {
   "attachments": {},
   "cell_type": "markdown",
   "metadata": {},
   "source": [
    "Now we want to find a \"max_area\" that filters out the double nucleii.\n",
    "\n",
    "To do this we can play a trick, we can use napari's \"gray_r\" colormap to visualize the inverse of the area_img.  First we have to play another trick, where we set the area_img's intensity values to be high wherever there is no object (otherwise the background will show as bright).  We will do this using area_img[area_img==0] = np.max(area_img)\n",
    "\n",
    "area_img==0 returns a binary image, where only the pixels that had value equal to 0 are True and all others are false.  When we ask area_img[..] on a binary image, numpy is smart and returns only the pixels that are True.  We then set all of these pixels to the maximum value in the image."
   ]
  },
  {
   "cell_type": "code",
   "execution_count": 31,
   "metadata": {},
   "outputs": [
    {
     "data": {
      "text/plain": [
       "<Image layer 'area_img' at 0x1b498c27b80>"
      ]
     },
     "execution_count": 31,
     "metadata": {},
     "output_type": "execute_result"
    }
   ],
   "source": [
    "### THIS CODE STAYS IN THE STUDENT VERSION\n",
    "area_img[area_img==0] = np.max(area_img)\n",
    "viewer.add_image(area_img, name='area_img', colormap='gray_r', blending='additive')"
   ]
  },
  {
   "attachments": {},
   "cell_type": "markdown",
   "metadata": {},
   "source": [
    "We want to find a contrast that lets through all the single nucleii, but filters out the double nucleii.  By right clicking on \"contrast limits\" we can see the actual values of the contrast limits.  Adjusting the upper level is effectively adjusting the area of objects that we are allowing to be display.\n",
    "\n",
    "\n",
    "Once you find this contrast, use it to filter the results table to only include objects that are smaller than the best max area."
   ]
  },
  {
   "cell_type": "code",
   "execution_count": 32,
   "metadata": {},
   "outputs": [],
   "source": [
    "max_area = 175"
   ]
  },
  {
   "attachments": {},
   "cell_type": "markdown",
   "metadata": {},
   "source": [
    "Alternatively, you can just guess a max_area, and see what results you get below."
   ]
  },
  {
   "attachments": {},
   "cell_type": "markdown",
   "metadata": {},
   "source": [
    "### Filtering the objects"
   ]
  },
  {
   "attachments": {},
   "cell_type": "markdown",
   "metadata": {},
   "source": [
    "Finally, use the \"sutils.remove_objects\" function to keep only the objects that are small enough to be single nucleii, then show this new labeled image in napari."
   ]
  },
  {
   "cell_type": "code",
   "execution_count": 33,
   "metadata": {},
   "outputs": [
    {
     "data": {
      "text/plain": [
       "<Labels layer 'filtered_labels' at 0x1b498b59e40>"
      ]
     },
     "execution_count": 33,
     "metadata": {},
     "output_type": "execute_result"
    }
   ],
   "source": [
    "filtered_labels = sutils.remove_objects(label_img, min_area, max_area)\n",
    "viewer.add_labels(filtered_labels, name='filtered_labels')"
   ]
  },
  {
   "attachments": {},
   "cell_type": "markdown",
   "metadata": {},
   "source": [
    "## Part 3 (extra credit): Looking at object standard deviations"
   ]
  },
  {
   "attachments": {},
   "cell_type": "markdown",
   "metadata": {},
   "source": [
    "### Standard deviation of original labels"
   ]
  },
  {
   "attachments": {},
   "cell_type": "markdown",
   "metadata": {},
   "source": [
    "Recall we can create our own functions for quantifying objects with regionprops, this function finds the standard deviation of the intensity of each object."
   ]
  },
  {
   "cell_type": "code",
   "execution_count": 34,
   "metadata": {},
   "outputs": [],
   "source": [
    "### DO NOT REMOVE FROM STUDENT VERSION\n",
    "\n",
    "def object_stdeviation(mask_img, intensity_img):\n",
    "    return np.std(intensity_img[mask_img])\n"
   ]
  },
  {
   "attachments": {},
   "cell_type": "markdown",
   "metadata": {},
   "source": [
    "Use this function and the \"extra_properties\" argument of ski.measure.regionprops_table to find the standard deviation of the intensities of each nucleii (in addition to the usual 'label', 'area', 'centroid', 'mean_intensity').  Recall that if you want to quantify intensities, regionprops_table needs both the label image and the intensity image."
   ]
  },
  {
   "cell_type": "code",
   "execution_count": 35,
   "metadata": {},
   "outputs": [],
   "source": [
    "results = pd.DataFrame(ski.measure.regionprops_table(filtered_labels, easy_img, properties=('label', 'area', 'centroid', 'mean_intensity'), extra_properties=[object_stdeviation]))"
   ]
  },
  {
   "cell_type": "code",
   "execution_count": 36,
   "metadata": {},
   "outputs": [],
   "source": [
    "### DO NOT REMOVE FROM STUDENT VERSION\n",
    "results['SNR'] = results['mean_intensity']/results['object_stdeviation']\n",
    "results['Type'] = 'Regular'"
   ]
  },
  {
   "attachments": {},
   "cell_type": "markdown",
   "metadata": {},
   "source": [
    "SNR is a quick way of evaluating how strong our signal to noise is.  Looking at our labels we can see that a lot of pixels that are associated with a nucleus are on the edge where there really is not nucleus.  Including these pixels is going to make our standard deviation much higher that it probably actually is."
   ]
  },
  {
   "attachments": {},
   "cell_type": "markdown",
   "metadata": {},
   "source": [
    "### Shrinking the labels"
   ]
  },
  {
   "attachments": {},
   "cell_type": "markdown",
   "metadata": {},
   "source": [
    "Create a new variable:  shrunk_labels, takes the filtered_labels and shrinks them by 1 pixel.  Add it to napari to make sure it worked."
   ]
  },
  {
   "cell_type": "code",
   "execution_count": 37,
   "metadata": {},
   "outputs": [
    {
     "data": {
      "text/plain": [
       "<Labels layer 'shrunk_labels' at 0x1b512fa5990>"
      ]
     },
     "execution_count": 37,
     "metadata": {},
     "output_type": "execute_result"
    }
   ],
   "source": [
    "shrunk_labels = sutils.shrink_labels(filtered_labels)\n",
    "viewer.add_labels(shrunk_labels, name='shrunk_labels')"
   ]
  },
  {
   "attachments": {},
   "cell_type": "markdown",
   "metadata": {},
   "source": [
    "Create a new shrunk_results table that is the regionprops_table of the shrunk_labels, including the object_stdeviation as well."
   ]
  },
  {
   "cell_type": "code",
   "execution_count": 38,
   "metadata": {},
   "outputs": [],
   "source": [
    "shrunk_results = pd.DataFrame(ski.measure.regionprops_table(shrunk_labels, easy_img, properties=('label', 'area', 'centroid', 'mean_intensity'), extra_properties=[object_stdeviation]))"
   ]
  },
  {
   "cell_type": "code",
   "execution_count": 39,
   "metadata": {},
   "outputs": [],
   "source": [
    "### DO NOT REMOVE FROM STUDENT VERSION\n",
    "shrunk_results['SNR'] = shrunk_results['mean_intensity']/shrunk_results['object_stdeviation']\n",
    "shrunk_results['Type'] = 'Shrunk'"
   ]
  },
  {
   "attachments": {},
   "cell_type": "markdown",
   "metadata": {},
   "source": [
    "### Plotting results of SNR"
   ]
  },
  {
   "attachments": {},
   "cell_type": "markdown",
   "metadata": {},
   "source": [
    "If all went well we should get a nice plot of the SNR in shrunk vs unshrunk labels."
   ]
  },
  {
   "cell_type": "code",
   "execution_count": 40,
   "metadata": {},
   "outputs": [
    {
     "data": {
      "application/vnd.plotly.v1+json": {
       "config": {
        "plotlyServerURL": "https://plot.ly"
       },
       "data": [
        {
         "alignmentgroup": "True",
         "boxpoints": "all",
         "hovertemplate": "Type=%{x}<br>SNR=%{y}<extra></extra>",
         "legendgroup": "",
         "marker": {
          "color": "#636efa"
         },
         "name": "",
         "notched": false,
         "offsetgroup": "",
         "orientation": "v",
         "showlegend": false,
         "type": "box",
         "x": [
          "Regular",
          "Regular",
          "Regular",
          "Regular",
          "Regular",
          "Regular",
          "Regular",
          "Regular",
          "Regular",
          "Regular",
          "Regular",
          "Regular",
          "Regular",
          "Regular",
          "Regular",
          "Regular",
          "Regular",
          "Regular",
          "Regular",
          "Regular",
          "Regular",
          "Regular",
          "Regular",
          "Regular",
          "Regular",
          "Regular",
          "Regular",
          "Regular",
          "Regular",
          "Regular",
          "Regular",
          "Regular",
          "Regular",
          "Regular",
          "Regular",
          "Regular",
          "Regular",
          "Regular",
          "Regular",
          "Regular",
          "Regular",
          "Regular",
          "Regular",
          "Regular",
          "Regular",
          "Regular",
          "Regular",
          "Regular",
          "Regular",
          "Regular",
          "Regular",
          "Regular",
          "Regular",
          "Regular",
          "Regular",
          "Regular",
          "Regular",
          "Regular",
          "Regular",
          "Regular",
          "Regular",
          "Regular",
          "Regular",
          "Regular",
          "Regular",
          "Regular",
          "Regular",
          "Regular",
          "Regular",
          "Regular",
          "Regular",
          "Regular",
          "Regular",
          "Regular",
          "Regular",
          "Regular",
          "Regular",
          "Regular",
          "Regular",
          "Regular",
          "Regular",
          "Regular",
          "Regular",
          "Regular",
          "Regular",
          "Regular",
          "Regular",
          "Regular",
          "Regular",
          "Regular",
          "Regular",
          "Regular",
          "Regular",
          "Regular",
          "Regular",
          "Regular",
          "Regular",
          "Regular",
          "Regular",
          "Regular",
          "Regular",
          "Regular",
          "Regular",
          "Regular",
          "Regular",
          "Regular",
          "Regular",
          "Regular",
          "Regular",
          "Regular",
          "Regular",
          "Regular",
          "Regular",
          "Regular",
          "Regular",
          "Regular",
          "Regular",
          "Regular",
          "Regular",
          "Regular",
          "Regular",
          "Regular",
          "Regular",
          "Regular",
          "Regular",
          "Regular",
          "Regular",
          "Regular",
          "Regular",
          "Regular",
          "Regular",
          "Regular",
          "Regular",
          "Regular",
          "Regular",
          "Regular",
          "Regular",
          "Regular",
          "Regular",
          "Regular",
          "Regular",
          "Regular",
          "Regular",
          "Regular",
          "Regular",
          "Regular",
          "Regular",
          "Regular",
          "Regular",
          "Regular",
          "Regular",
          "Regular",
          "Regular",
          "Regular",
          "Regular",
          "Regular",
          "Regular",
          "Regular",
          "Regular",
          "Regular",
          "Regular",
          "Regular",
          "Regular",
          "Regular",
          "Regular",
          "Regular",
          "Regular",
          "Regular",
          "Regular",
          "Regular",
          "Regular",
          "Regular",
          "Regular",
          "Regular",
          "Regular",
          "Regular",
          "Regular",
          "Regular",
          "Regular",
          "Regular",
          "Regular",
          "Regular",
          "Regular",
          "Regular",
          "Regular",
          "Regular",
          "Regular",
          "Regular",
          "Regular",
          "Regular",
          "Regular",
          "Regular",
          "Regular",
          "Regular",
          "Regular",
          "Regular",
          "Regular",
          "Regular",
          "Regular",
          "Regular",
          "Regular",
          "Shrunk",
          "Shrunk",
          "Shrunk",
          "Shrunk",
          "Shrunk",
          "Shrunk",
          "Shrunk",
          "Shrunk",
          "Shrunk",
          "Shrunk",
          "Shrunk",
          "Shrunk",
          "Shrunk",
          "Shrunk",
          "Shrunk",
          "Shrunk",
          "Shrunk",
          "Shrunk",
          "Shrunk",
          "Shrunk",
          "Shrunk",
          "Shrunk",
          "Shrunk",
          "Shrunk",
          "Shrunk",
          "Shrunk",
          "Shrunk",
          "Shrunk",
          "Shrunk",
          "Shrunk",
          "Shrunk",
          "Shrunk",
          "Shrunk",
          "Shrunk",
          "Shrunk",
          "Shrunk",
          "Shrunk",
          "Shrunk",
          "Shrunk",
          "Shrunk",
          "Shrunk",
          "Shrunk",
          "Shrunk",
          "Shrunk",
          "Shrunk",
          "Shrunk",
          "Shrunk",
          "Shrunk",
          "Shrunk",
          "Shrunk",
          "Shrunk",
          "Shrunk",
          "Shrunk",
          "Shrunk",
          "Shrunk",
          "Shrunk",
          "Shrunk",
          "Shrunk",
          "Shrunk",
          "Shrunk",
          "Shrunk",
          "Shrunk",
          "Shrunk",
          "Shrunk",
          "Shrunk",
          "Shrunk",
          "Shrunk",
          "Shrunk",
          "Shrunk",
          "Shrunk",
          "Shrunk",
          "Shrunk",
          "Shrunk",
          "Shrunk",
          "Shrunk",
          "Shrunk",
          "Shrunk",
          "Shrunk",
          "Shrunk",
          "Shrunk",
          "Shrunk",
          "Shrunk",
          "Shrunk",
          "Shrunk",
          "Shrunk",
          "Shrunk",
          "Shrunk",
          "Shrunk",
          "Shrunk",
          "Shrunk",
          "Shrunk",
          "Shrunk",
          "Shrunk",
          "Shrunk",
          "Shrunk",
          "Shrunk",
          "Shrunk",
          "Shrunk",
          "Shrunk",
          "Shrunk",
          "Shrunk",
          "Shrunk",
          "Shrunk",
          "Shrunk",
          "Shrunk",
          "Shrunk",
          "Shrunk",
          "Shrunk",
          "Shrunk",
          "Shrunk",
          "Shrunk",
          "Shrunk",
          "Shrunk",
          "Shrunk",
          "Shrunk",
          "Shrunk",
          "Shrunk",
          "Shrunk",
          "Shrunk",
          "Shrunk",
          "Shrunk",
          "Shrunk",
          "Shrunk",
          "Shrunk",
          "Shrunk",
          "Shrunk",
          "Shrunk",
          "Shrunk",
          "Shrunk",
          "Shrunk",
          "Shrunk",
          "Shrunk",
          "Shrunk",
          "Shrunk",
          "Shrunk",
          "Shrunk",
          "Shrunk",
          "Shrunk",
          "Shrunk",
          "Shrunk",
          "Shrunk",
          "Shrunk",
          "Shrunk",
          "Shrunk",
          "Shrunk",
          "Shrunk",
          "Shrunk",
          "Shrunk",
          "Shrunk",
          "Shrunk",
          "Shrunk",
          "Shrunk",
          "Shrunk",
          "Shrunk",
          "Shrunk",
          "Shrunk",
          "Shrunk",
          "Shrunk",
          "Shrunk",
          "Shrunk",
          "Shrunk",
          "Shrunk",
          "Shrunk",
          "Shrunk",
          "Shrunk",
          "Shrunk",
          "Shrunk",
          "Shrunk",
          "Shrunk",
          "Shrunk",
          "Shrunk",
          "Shrunk",
          "Shrunk",
          "Shrunk",
          "Shrunk",
          "Shrunk",
          "Shrunk",
          "Shrunk",
          "Shrunk",
          "Shrunk",
          "Shrunk",
          "Shrunk",
          "Shrunk",
          "Shrunk",
          "Shrunk",
          "Shrunk",
          "Shrunk",
          "Shrunk",
          "Shrunk",
          "Shrunk",
          "Shrunk",
          "Shrunk",
          "Shrunk",
          "Shrunk",
          "Shrunk",
          "Shrunk",
          "Shrunk",
          "Shrunk",
          "Shrunk",
          "Shrunk",
          "Shrunk"
         ],
         "x0": " ",
         "xaxis": "x",
         "y": [
          9.728624535315985,
          1.915546943709241,
          6.6163882706242,
          3.5802583109249473,
          9.78411367843103,
          11.364392969377045,
          6.750859634700084,
          3.3773976370302274,
          7.4981746499858035,
          2.9224482359020705,
          9.657675646620659,
          5.13044040381122,
          7.252154852180144,
          2.2084453159624626,
          11.689164717909517,
          2.792875628495383,
          9.744466740171568,
          7.919102559930075,
          10.433005514229764,
          9.502647645305174,
          7.170441182742889,
          5.332254552556533,
          2.243686089064996,
          2.892990369873432,
          9.130820296615045,
          4.045318056654393,
          10.024841136949838,
          10.960537825208522,
          5.958510145135674,
          1.2711798304031363,
          10.77290890668409,
          2.1889227763334453,
          11.182034644768235,
          4.7243184427811,
          3.2947860452674864,
          2.5919517986482306,
          12.843291292873324,
          3.9738887795094033,
          2.990737930321478,
          1.7566090365202254,
          2.290763159654021,
          10.928254736798403,
          2.0783138115457094,
          11.297073010769559,
          1.733066165637806,
          6.341845170493428,
          3.7698892198349325,
          2.4675987863816924,
          3.644840480720828,
          1.8075162712196315,
          3.4182386607178143,
          2.059231712234971,
          9.438995300139437,
          2.898189626944379,
          12.663541728892424,
          4.394094677299309,
          9.864001259259421,
          11.41621961992854,
          3.845128048465256,
          11.704367712590443,
          2.5888567605205703,
          6.053612478513733,
          10.147207510471489,
          2.872946938682018,
          1.319521714370572,
          4.411623485116915,
          13.13960778061673,
          8.914098041487154,
          10.384664329297504,
          1.8269036962611551,
          9.131736410670728,
          9.504007479250674,
          2.2631116336244865,
          1.7126278559103023,
          1.8065563134542804,
          1.597116352447138,
          3.5653721980123017,
          5.582384756228448,
          5.193964233978278,
          2.6376387097303624,
          7.899405811038833,
          2.835653362824212,
          2.397742880216685,
          2.9400960268782104,
          5.7037916428447275,
          12.043731750199962,
          2.487523445491091,
          2.306045606361826,
          1.8752413403061683,
          2.047356154646385,
          3.62062245597285,
          1.8873157962336193,
          2.342046955096343,
          2.541890325800614,
          1.8893831402074952,
          2.4429957530129807,
          5.176893796609125,
          4.2287729472116045,
          9.564029442534624,
          2.2939589586478775,
          6.855866943498714,
          1.7017662364055806,
          16.628364865686105,
          1.721136404256174,
          5.657124692421122,
          7.970597817255282,
          7.554980124714507,
          6.898172115205525,
          2.770862264616264,
          1.3827797933346029,
          4.923086884505278,
          5.393977020901342,
          5.611668523898613,
          4.732256968739592,
          1.9041309908550836,
          8.93498212037099,
          3.0356768239539234,
          6.608132473971592,
          1.995036108040264,
          3.5869816691418692,
          4.516557752904043,
          2.5931091595904183,
          3.4719323750926265,
          3.021047908166297,
          6.277845133970222,
          7.489481109464335,
          3.1799114418791143,
          2.6153656428497536,
          2.2648946827174967,
          8.460682766599772,
          7.021236725787037,
          1.5577089679097151,
          7.090802837333717,
          2.426080536848767,
          1.8883788749864145,
          2.1677376994619793,
          4.146730406628127,
          5.062678168001515,
          12.57167504302046,
          7.262210795919614,
          11.288078265486545,
          2.645889474618456,
          8.541390147389144,
          8.051577685072802,
          6.8625665996108545,
          2.9605126823507066,
          9.454399357293822,
          2.8277444672309575,
          3.6670594263816048,
          5.540259195454519,
          2.2570418521657323,
          3.628445429743318,
          4.959176751041243,
          3.97951985682265,
          1.2057731884528073,
          4.215423255046829,
          8.12787370823423,
          9.522647269478517,
          9.959367555925274,
          4.177686600374755,
          10.52906481873569,
          2.302741842424048,
          4.7116862940918365,
          9.58734590230152,
          2.8522042530677734,
          10.877731942597958,
          5.366305794336379,
          2.5266674478364637,
          10.501570817438408,
          1.2171899323442474,
          11.049832817153867,
          2.4801504331057207,
          6.734528640396463,
          4.090293965962254,
          9.263137880177055,
          7.99315670195475,
          3.2673970533594434,
          2.299695884025948,
          3.7617426742690494,
          2.062631123267157,
          2.9350040023515485,
          4.523489904949622,
          3.2435202519247706,
          6.195357919030539,
          1.8137533114828348,
          6.115468395335955,
          4.976659581847661,
          3.979605748292934,
          3.3158077678218225,
          4.914868416168081,
          11.842300421996503,
          2.1051282108067473,
          1.7388761235528543,
          9.283542871720705,
          3.4318887954921724,
          3.38175349057618,
          3.344502837676725,
          1.8373166216135188,
          1.756086576606888,
          2.2918076656206585,
          5.1134116723208685,
          13.701242647439516,
          2.8441741231392115,
          16.62585303209378,
          9.816736500822019,
          13.00036077936787,
          13.292176532796741,
          16.080109143200374,
          7.0860374673714945,
          11.197729124333351,
          6.20253754328237,
          9.221244663022098,
          12.228696744102484,
          11.615391906938653,
          3.98513003781484,
          14.11824931026695,
          5.6171365129256,
          12.127395447717527,
          10.74987566467806,
          11.267087365805152,
          12.404778027449526,
          14.32283666245862,
          11.157420486604133,
          4.181214734580161,
          5.834564673523356,
          10.640704676964496,
          7.387472112099093,
          11.571362778234171,
          12.70394284041436,
          9.553906454826702,
          1.6506274137641839,
          9.387888787938818,
          3.9679273375846944,
          13.76441326952418,
          9.472802055995368,
          7.162990417075739,
          5.219058902305754,
          12.41678537215699,
          8.537163159965006,
          6.7310875214250165,
          2.5900090648504026,
          3.967705479007625,
          13.045217527831111,
          3.0199672375071223,
          12.964285714285715,
          2.511640682145108,
          10.04251427797122,
          7.763840605028816,
          4.9587163790994735,
          8.573919189848143,
          2.760811804113726,
          7.5242610558487435,
          3.4937792374004615,
          14.746255425228194,
          5.426709933586595,
          14.187148404669454,
          9.505678245246594,
          13.876782637592507,
          14.703452045351257,
          5.863100694661685,
          11.769397567243296,
          5.027836241826362,
          12.458708011636862,
          13.582702214461953,
          5.699956033459253,
          1.7279001982833775,
          7.873372677539265,
          15.525045153783838,
          15.604907836432735,
          15.619354097140798,
          2.865340849292136,
          12.597812585365684,
          14.859452338183845,
          4.036796289530224,
          2.6592462340671394,
          2.7780600381596723,
          2.3427403685738364,
          7.1504501295718255,
          11.032842837353638,
          8.880430992651517,
          4.280537928274234,
          11.777382110836845,
          6.708271039257771,
          4.860880427227724,
          6.330539796004496,
          9.838493151031312,
          13.057529849718378,
          5.513010157186769,
          4.529797388449162,
          3.1359522386218432,
          3.700537163267636,
          7.153126884389119,
          3.241820223898185,
          4.739031464492937,
          4.98219542152117,
          3.3546373236091696,
          4.3770445260774675,
          10.374215859781566,
          9.993702162912562,
          13.702359635788419,
          4.816762957678805,
          10.794009370844197,
          2.283593444990593,
          18.784968573583726,
          2.8171932982221644,
          10.381288401287595,
          11.771622714420326,
          12.205484104329217,
          11.422674511503232,
          5.87183056902076,
          1.9011994567943673,
          8.705646779273321,
          10.305071317141705,
          8.865713026425762,
          9.136656854186162,
          3.1693331927542197,
          9.926225873224583,
          6.512073932386899,
          11.796241013617223,
          3.3424542922938407,
          7.78861187649805,
          9.869075572620993,
          5.319390340401439,
          8.184706373891348,
          5.941885487917744,
          11.144718351684551,
          9.495268370817836,
          5.827850928133939,
          5.499538227998379,
          3.827930739671918,
          15.188883496449543,
          10.312141232673646,
          2.1980750918732523,
          14.056124635526409,
          4.664569613291614,
          3.15118887372503,
          3.9395938893419395,
          8.250551796927049,
          7.852624021821854,
          12.954174207212866,
          13.322904550423765,
          12.437298319445214,
          5.349637994334891,
          12.00170478272066,
          12.631653067507715,
          13.982039252686318,
          6.426121567735779,
          10.21764857369638,
          6.145733650834645,
          5.58049369568752,
          13.259156093038095,
          3.7080124145742035,
          8.268969566241044,
          7.825565029172164,
          8.434281067750431,
          1.5144639902105512,
          8.771718122469396,
          10.858688419854937,
          10.9892317079337,
          10.29279730332733,
          6.646765015810793,
          14.530821792353573,
          4.33047915667261,
          10.79675437328845,
          13.540099685161708,
          5.983308934433508,
          12.135310442702629,
          8.160786013961507,
          4.955141509222454,
          10.891061218052288,
          1.5365212589027564,
          12.010576191646324,
          4.549147093226263,
          17.624075031007358,
          9.643266018590401,
          15.890672889958784,
          11.305786112395236,
          7.078428296943579,
          4.141255260791098,
          5.873567051991374,
          3.420336305717779,
          5.5295972497816335,
          5.846576462839692,
          6.200778566560728,
          11.60305850617682,
          2.8488693907358615,
          8.581172369212652,
          8.738852010317412,
          7.798946729393567,
          7.166397184138658,
          13.642263316826366,
          14.871961944258684,
          3.6426043637390406,
          2.686855155088893,
          12.176035835022727,
          7.732464221263593,
          7.051147041618836,
          3.8000360531544186,
          2.531500997960414,
          2.503928552379081,
          4.441890242815621,
          9.197842217618101
         ],
         "y0": " ",
         "yaxis": "y"
        }
       ],
       "layout": {
        "boxmode": "group",
        "legend": {
         "tracegroupgap": 0
        },
        "margin": {
         "t": 60
        },
        "template": {
         "data": {
          "bar": [
           {
            "error_x": {
             "color": "#2a3f5f"
            },
            "error_y": {
             "color": "#2a3f5f"
            },
            "marker": {
             "line": {
              "color": "#E5ECF6",
              "width": 0.5
             },
             "pattern": {
              "fillmode": "overlay",
              "size": 10,
              "solidity": 0.2
             }
            },
            "type": "bar"
           }
          ],
          "barpolar": [
           {
            "marker": {
             "line": {
              "color": "#E5ECF6",
              "width": 0.5
             },
             "pattern": {
              "fillmode": "overlay",
              "size": 10,
              "solidity": 0.2
             }
            },
            "type": "barpolar"
           }
          ],
          "carpet": [
           {
            "aaxis": {
             "endlinecolor": "#2a3f5f",
             "gridcolor": "white",
             "linecolor": "white",
             "minorgridcolor": "white",
             "startlinecolor": "#2a3f5f"
            },
            "baxis": {
             "endlinecolor": "#2a3f5f",
             "gridcolor": "white",
             "linecolor": "white",
             "minorgridcolor": "white",
             "startlinecolor": "#2a3f5f"
            },
            "type": "carpet"
           }
          ],
          "choropleth": [
           {
            "colorbar": {
             "outlinewidth": 0,
             "ticks": ""
            },
            "type": "choropleth"
           }
          ],
          "contour": [
           {
            "colorbar": {
             "outlinewidth": 0,
             "ticks": ""
            },
            "colorscale": [
             [
              0,
              "#0d0887"
             ],
             [
              0.1111111111111111,
              "#46039f"
             ],
             [
              0.2222222222222222,
              "#7201a8"
             ],
             [
              0.3333333333333333,
              "#9c179e"
             ],
             [
              0.4444444444444444,
              "#bd3786"
             ],
             [
              0.5555555555555556,
              "#d8576b"
             ],
             [
              0.6666666666666666,
              "#ed7953"
             ],
             [
              0.7777777777777778,
              "#fb9f3a"
             ],
             [
              0.8888888888888888,
              "#fdca26"
             ],
             [
              1,
              "#f0f921"
             ]
            ],
            "type": "contour"
           }
          ],
          "contourcarpet": [
           {
            "colorbar": {
             "outlinewidth": 0,
             "ticks": ""
            },
            "type": "contourcarpet"
           }
          ],
          "heatmap": [
           {
            "colorbar": {
             "outlinewidth": 0,
             "ticks": ""
            },
            "colorscale": [
             [
              0,
              "#0d0887"
             ],
             [
              0.1111111111111111,
              "#46039f"
             ],
             [
              0.2222222222222222,
              "#7201a8"
             ],
             [
              0.3333333333333333,
              "#9c179e"
             ],
             [
              0.4444444444444444,
              "#bd3786"
             ],
             [
              0.5555555555555556,
              "#d8576b"
             ],
             [
              0.6666666666666666,
              "#ed7953"
             ],
             [
              0.7777777777777778,
              "#fb9f3a"
             ],
             [
              0.8888888888888888,
              "#fdca26"
             ],
             [
              1,
              "#f0f921"
             ]
            ],
            "type": "heatmap"
           }
          ],
          "heatmapgl": [
           {
            "colorbar": {
             "outlinewidth": 0,
             "ticks": ""
            },
            "colorscale": [
             [
              0,
              "#0d0887"
             ],
             [
              0.1111111111111111,
              "#46039f"
             ],
             [
              0.2222222222222222,
              "#7201a8"
             ],
             [
              0.3333333333333333,
              "#9c179e"
             ],
             [
              0.4444444444444444,
              "#bd3786"
             ],
             [
              0.5555555555555556,
              "#d8576b"
             ],
             [
              0.6666666666666666,
              "#ed7953"
             ],
             [
              0.7777777777777778,
              "#fb9f3a"
             ],
             [
              0.8888888888888888,
              "#fdca26"
             ],
             [
              1,
              "#f0f921"
             ]
            ],
            "type": "heatmapgl"
           }
          ],
          "histogram": [
           {
            "marker": {
             "pattern": {
              "fillmode": "overlay",
              "size": 10,
              "solidity": 0.2
             }
            },
            "type": "histogram"
           }
          ],
          "histogram2d": [
           {
            "colorbar": {
             "outlinewidth": 0,
             "ticks": ""
            },
            "colorscale": [
             [
              0,
              "#0d0887"
             ],
             [
              0.1111111111111111,
              "#46039f"
             ],
             [
              0.2222222222222222,
              "#7201a8"
             ],
             [
              0.3333333333333333,
              "#9c179e"
             ],
             [
              0.4444444444444444,
              "#bd3786"
             ],
             [
              0.5555555555555556,
              "#d8576b"
             ],
             [
              0.6666666666666666,
              "#ed7953"
             ],
             [
              0.7777777777777778,
              "#fb9f3a"
             ],
             [
              0.8888888888888888,
              "#fdca26"
             ],
             [
              1,
              "#f0f921"
             ]
            ],
            "type": "histogram2d"
           }
          ],
          "histogram2dcontour": [
           {
            "colorbar": {
             "outlinewidth": 0,
             "ticks": ""
            },
            "colorscale": [
             [
              0,
              "#0d0887"
             ],
             [
              0.1111111111111111,
              "#46039f"
             ],
             [
              0.2222222222222222,
              "#7201a8"
             ],
             [
              0.3333333333333333,
              "#9c179e"
             ],
             [
              0.4444444444444444,
              "#bd3786"
             ],
             [
              0.5555555555555556,
              "#d8576b"
             ],
             [
              0.6666666666666666,
              "#ed7953"
             ],
             [
              0.7777777777777778,
              "#fb9f3a"
             ],
             [
              0.8888888888888888,
              "#fdca26"
             ],
             [
              1,
              "#f0f921"
             ]
            ],
            "type": "histogram2dcontour"
           }
          ],
          "mesh3d": [
           {
            "colorbar": {
             "outlinewidth": 0,
             "ticks": ""
            },
            "type": "mesh3d"
           }
          ],
          "parcoords": [
           {
            "line": {
             "colorbar": {
              "outlinewidth": 0,
              "ticks": ""
             }
            },
            "type": "parcoords"
           }
          ],
          "pie": [
           {
            "automargin": true,
            "type": "pie"
           }
          ],
          "scatter": [
           {
            "fillpattern": {
             "fillmode": "overlay",
             "size": 10,
             "solidity": 0.2
            },
            "type": "scatter"
           }
          ],
          "scatter3d": [
           {
            "line": {
             "colorbar": {
              "outlinewidth": 0,
              "ticks": ""
             }
            },
            "marker": {
             "colorbar": {
              "outlinewidth": 0,
              "ticks": ""
             }
            },
            "type": "scatter3d"
           }
          ],
          "scattercarpet": [
           {
            "marker": {
             "colorbar": {
              "outlinewidth": 0,
              "ticks": ""
             }
            },
            "type": "scattercarpet"
           }
          ],
          "scattergeo": [
           {
            "marker": {
             "colorbar": {
              "outlinewidth": 0,
              "ticks": ""
             }
            },
            "type": "scattergeo"
           }
          ],
          "scattergl": [
           {
            "marker": {
             "colorbar": {
              "outlinewidth": 0,
              "ticks": ""
             }
            },
            "type": "scattergl"
           }
          ],
          "scattermapbox": [
           {
            "marker": {
             "colorbar": {
              "outlinewidth": 0,
              "ticks": ""
             }
            },
            "type": "scattermapbox"
           }
          ],
          "scatterpolar": [
           {
            "marker": {
             "colorbar": {
              "outlinewidth": 0,
              "ticks": ""
             }
            },
            "type": "scatterpolar"
           }
          ],
          "scatterpolargl": [
           {
            "marker": {
             "colorbar": {
              "outlinewidth": 0,
              "ticks": ""
             }
            },
            "type": "scatterpolargl"
           }
          ],
          "scatterternary": [
           {
            "marker": {
             "colorbar": {
              "outlinewidth": 0,
              "ticks": ""
             }
            },
            "type": "scatterternary"
           }
          ],
          "surface": [
           {
            "colorbar": {
             "outlinewidth": 0,
             "ticks": ""
            },
            "colorscale": [
             [
              0,
              "#0d0887"
             ],
             [
              0.1111111111111111,
              "#46039f"
             ],
             [
              0.2222222222222222,
              "#7201a8"
             ],
             [
              0.3333333333333333,
              "#9c179e"
             ],
             [
              0.4444444444444444,
              "#bd3786"
             ],
             [
              0.5555555555555556,
              "#d8576b"
             ],
             [
              0.6666666666666666,
              "#ed7953"
             ],
             [
              0.7777777777777778,
              "#fb9f3a"
             ],
             [
              0.8888888888888888,
              "#fdca26"
             ],
             [
              1,
              "#f0f921"
             ]
            ],
            "type": "surface"
           }
          ],
          "table": [
           {
            "cells": {
             "fill": {
              "color": "#EBF0F8"
             },
             "line": {
              "color": "white"
             }
            },
            "header": {
             "fill": {
              "color": "#C8D4E3"
             },
             "line": {
              "color": "white"
             }
            },
            "type": "table"
           }
          ]
         },
         "layout": {
          "annotationdefaults": {
           "arrowcolor": "#2a3f5f",
           "arrowhead": 0,
           "arrowwidth": 1
          },
          "autotypenumbers": "strict",
          "coloraxis": {
           "colorbar": {
            "outlinewidth": 0,
            "ticks": ""
           }
          },
          "colorscale": {
           "diverging": [
            [
             0,
             "#8e0152"
            ],
            [
             0.1,
             "#c51b7d"
            ],
            [
             0.2,
             "#de77ae"
            ],
            [
             0.3,
             "#f1b6da"
            ],
            [
             0.4,
             "#fde0ef"
            ],
            [
             0.5,
             "#f7f7f7"
            ],
            [
             0.6,
             "#e6f5d0"
            ],
            [
             0.7,
             "#b8e186"
            ],
            [
             0.8,
             "#7fbc41"
            ],
            [
             0.9,
             "#4d9221"
            ],
            [
             1,
             "#276419"
            ]
           ],
           "sequential": [
            [
             0,
             "#0d0887"
            ],
            [
             0.1111111111111111,
             "#46039f"
            ],
            [
             0.2222222222222222,
             "#7201a8"
            ],
            [
             0.3333333333333333,
             "#9c179e"
            ],
            [
             0.4444444444444444,
             "#bd3786"
            ],
            [
             0.5555555555555556,
             "#d8576b"
            ],
            [
             0.6666666666666666,
             "#ed7953"
            ],
            [
             0.7777777777777778,
             "#fb9f3a"
            ],
            [
             0.8888888888888888,
             "#fdca26"
            ],
            [
             1,
             "#f0f921"
            ]
           ],
           "sequentialminus": [
            [
             0,
             "#0d0887"
            ],
            [
             0.1111111111111111,
             "#46039f"
            ],
            [
             0.2222222222222222,
             "#7201a8"
            ],
            [
             0.3333333333333333,
             "#9c179e"
            ],
            [
             0.4444444444444444,
             "#bd3786"
            ],
            [
             0.5555555555555556,
             "#d8576b"
            ],
            [
             0.6666666666666666,
             "#ed7953"
            ],
            [
             0.7777777777777778,
             "#fb9f3a"
            ],
            [
             0.8888888888888888,
             "#fdca26"
            ],
            [
             1,
             "#f0f921"
            ]
           ]
          },
          "colorway": [
           "#636efa",
           "#EF553B",
           "#00cc96",
           "#ab63fa",
           "#FFA15A",
           "#19d3f3",
           "#FF6692",
           "#B6E880",
           "#FF97FF",
           "#FECB52"
          ],
          "font": {
           "color": "#2a3f5f"
          },
          "geo": {
           "bgcolor": "white",
           "lakecolor": "white",
           "landcolor": "#E5ECF6",
           "showlakes": true,
           "showland": true,
           "subunitcolor": "white"
          },
          "hoverlabel": {
           "align": "left"
          },
          "hovermode": "closest",
          "mapbox": {
           "style": "light"
          },
          "paper_bgcolor": "white",
          "plot_bgcolor": "#E5ECF6",
          "polar": {
           "angularaxis": {
            "gridcolor": "white",
            "linecolor": "white",
            "ticks": ""
           },
           "bgcolor": "#E5ECF6",
           "radialaxis": {
            "gridcolor": "white",
            "linecolor": "white",
            "ticks": ""
           }
          },
          "scene": {
           "xaxis": {
            "backgroundcolor": "#E5ECF6",
            "gridcolor": "white",
            "gridwidth": 2,
            "linecolor": "white",
            "showbackground": true,
            "ticks": "",
            "zerolinecolor": "white"
           },
           "yaxis": {
            "backgroundcolor": "#E5ECF6",
            "gridcolor": "white",
            "gridwidth": 2,
            "linecolor": "white",
            "showbackground": true,
            "ticks": "",
            "zerolinecolor": "white"
           },
           "zaxis": {
            "backgroundcolor": "#E5ECF6",
            "gridcolor": "white",
            "gridwidth": 2,
            "linecolor": "white",
            "showbackground": true,
            "ticks": "",
            "zerolinecolor": "white"
           }
          },
          "shapedefaults": {
           "line": {
            "color": "#2a3f5f"
           }
          },
          "ternary": {
           "aaxis": {
            "gridcolor": "white",
            "linecolor": "white",
            "ticks": ""
           },
           "baxis": {
            "gridcolor": "white",
            "linecolor": "white",
            "ticks": ""
           },
           "bgcolor": "#E5ECF6",
           "caxis": {
            "gridcolor": "white",
            "linecolor": "white",
            "ticks": ""
           }
          },
          "title": {
           "x": 0.05
          },
          "xaxis": {
           "automargin": true,
           "gridcolor": "white",
           "linecolor": "white",
           "ticks": "",
           "title": {
            "standoff": 15
           },
           "zerolinecolor": "white",
           "zerolinewidth": 2
          },
          "yaxis": {
           "automargin": true,
           "gridcolor": "white",
           "linecolor": "white",
           "ticks": "",
           "title": {
            "standoff": 15
           },
           "zerolinecolor": "white",
           "zerolinewidth": 2
          }
         }
        },
        "width": 400,
        "xaxis": {
         "anchor": "y",
         "domain": [
          0,
          1
         ],
         "title": {
          "text": "Type"
         }
        },
        "yaxis": {
         "anchor": "x",
         "domain": [
          0,
          1
         ],
         "title": {
          "text": "SNR"
         }
        }
       }
      }
     },
     "metadata": {},
     "output_type": "display_data"
    }
   ],
   "source": [
    "### DO NOT REMOVE FROM STUDENT VERSION\n",
    "\n",
    "stapled_results = pd.concat([results, shrunk_results])\n",
    "px.box(stapled_results, x='Type', y='SNR', points='all', width=400)\n"
   ]
  },
  {
   "attachments": {},
   "cell_type": "markdown",
   "metadata": {},
   "source": [
    "By shrinking our objects so that they only included pixels from the nucleus and not the borders, we drastically increased the signal to noise ratio."
   ]
  },
  {
   "cell_type": "code",
   "execution_count": null,
   "metadata": {},
   "outputs": [],
   "source": []
  }
 ],
 "metadata": {
  "kernelspec": {
   "display_name": "napari",
   "language": "python",
   "name": "python3"
  },
  "language_info": {
   "codemirror_mode": {
    "name": "ipython",
    "version": 3
   },
   "file_extension": ".py",
   "mimetype": "text/x-python",
   "name": "python",
   "nbconvert_exporter": "python",
   "pygments_lexer": "ipython3",
   "version": "3.10.13"
  }
 },
 "nbformat": 4,
 "nbformat_minor": 2
}
