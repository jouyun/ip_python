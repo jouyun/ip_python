{
 "cells": [
  {
   "cell_type": "markdown",
   "metadata": {},
   "source": [
    "# Homework 4"
   ]
  },
  {
   "cell_type": "markdown",
   "metadata": {},
   "source": [
    "# Setup"
   ]
  },
  {
   "cell_type": "code",
   "execution_count": 1,
   "metadata": {},
   "outputs": [],
   "source": [
    "import numpy as np\n",
    "import pandas as pd\n",
    "import napari\n",
    "import tifffile\n",
    "import skimage as ski\n",
    "import scipy.ndimage as ndi\n",
    "import glob\n",
    "import cellpose.models as models\n",
    "import matplotlib.pyplot as plt\n",
    "import cv2\n",
    "import dask\n",
    "import cellpose.models as models\n",
    "import sutils\n",
    "import plotly.graph_objs as go\n",
    "import plotly.express as px\n",
    "from scipy.stats import ttest_ind\n",
    "\n",
    "import glob"
   ]
  },
  {
   "cell_type": "code",
   "execution_count": 2,
   "metadata": {},
   "outputs": [],
   "source": [
    "viewer = napari.Viewer()"
   ]
  },
  {
   "cell_type": "code",
   "execution_count": 3,
   "metadata": {},
   "outputs": [],
   "source": [
    "model = models.Cellpose(gpu=True, model_type='cyto')"
   ]
  },
  {
   "cell_type": "markdown",
   "metadata": {},
   "source": [
    "# Homework"
   ]
  },
  {
   "cell_type": "markdown",
   "metadata": {},
   "source": [
    "## Part 1:  Find in situ spots in image"
   ]
  },
  {
   "cell_type": "markdown",
   "metadata": {},
   "source": [
    "Choose one of the files in files/batch_homework.  Use our peak finding tricks to find what you think are real peaks in the first channel of the image.  "
   ]
  },
  {
   "cell_type": "code",
   "execution_count": 4,
   "metadata": {},
   "outputs": [
    {
     "data": {
      "text/plain": [
       "(3072, 3072, 3)"
      ]
     },
     "execution_count": 4,
     "metadata": {},
     "output_type": "execute_result"
    }
   ],
   "source": [
    "fname = 'files/batch_homework/chamber1KLF5in488SOX8in647-1.tif'\n",
    "img = ski.io.imread(fname)\n",
    "img.shape"
   ]
  },
  {
   "cell_type": "code",
   "execution_count": 5,
   "metadata": {},
   "outputs": [
    {
     "data": {
      "text/plain": [
       "[<Image layer 'Image' at 0x230b75b1d50>,\n",
       " <Image layer 'Image [1]' at 0x230b75b2ec0>,\n",
       " <Image layer 'Image [2]' at 0x230b763ec20>]"
      ]
     },
     "execution_count": 5,
     "metadata": {},
     "output_type": "execute_result"
    }
   ],
   "source": [
    "viewer.layers.clear()\n",
    "viewer.add_image(img, channel_axis=2)"
   ]
  },
  {
   "cell_type": "code",
   "execution_count": 6,
   "metadata": {},
   "outputs": [
    {
     "data": {
      "text/plain": [
       "<Points layer 'peaks' at 0x230c167c820>"
      ]
     },
     "execution_count": 6,
     "metadata": {},
     "output_type": "execute_result"
    }
   ],
   "source": [
    "h3p = img[:,:,0]\n",
    "LoG = -1000.0 * ndi.gaussian_laplace(h3p/1000.0, sigma=5)\n",
    "peaks = ski.feature.peak_local_max(LoG, min_distance=3, threshold_abs=5.5, num_peaks=1000000)  # I found threshold_abs needed to be above 5.5, but this is true only if a similar sigma is used for LoG\n",
    "#peak_img = np.zeros_like(LoG)\n",
    "#peak_img[peaks[:,0], peaks[:,1]] = 1\n",
    "\n",
    "viewer.add_image(LoG, colormap='gray', blending='additive', contrast_limits=[0,1.5])\n",
    "viewer.add_points(peaks, size=5)"
   ]
  },
  {
   "cell_type": "markdown",
   "metadata": {},
   "source": [
    "If you chose an image from \"chamber1\", try your settings on an image from \"chamber2\", if the settings don't work well, adjust them until they work well for both."
   ]
  },
  {
   "cell_type": "code",
   "execution_count": 7,
   "metadata": {},
   "outputs": [
    {
     "data": {
      "text/plain": [
       "(3072, 3072, 3)"
      ]
     },
     "execution_count": 7,
     "metadata": {},
     "output_type": "execute_result"
    }
   ],
   "source": [
    "fnameB = 'files/batch_homework/chamber2KLF5in488SOX8in647-1.tif'\n",
    "img = ski.io.imread(fnameB)\n",
    "img.shape"
   ]
  },
  {
   "cell_type": "code",
   "execution_count": 8,
   "metadata": {},
   "outputs": [
    {
     "data": {
      "text/plain": [
       "[<Image layer 'Image' at 0x230c17dffd0>,\n",
       " <Image layer 'Image [1]' at 0x230ad076b60>,\n",
       " <Image layer 'Image [2]' at 0x2311c58eaa0>]"
      ]
     },
     "execution_count": 8,
     "metadata": {},
     "output_type": "execute_result"
    }
   ],
   "source": [
    "viewer.layers.clear()\n",
    "viewer.add_image(img, channel_axis=2)"
   ]
  },
  {
   "cell_type": "code",
   "execution_count": 9,
   "metadata": {},
   "outputs": [
    {
     "data": {
      "text/plain": [
       "<Points layer 'peaks' at 0x230c1559900>"
      ]
     },
     "execution_count": 9,
     "metadata": {},
     "output_type": "execute_result"
    }
   ],
   "source": [
    "h3p = img[:,:,0]\n",
    "LoG = -1000.0 * ndi.gaussian_laplace(h3p/1000.0, sigma=5)\n",
    "peaks = ski.feature.peak_local_max(LoG, min_distance=3, threshold_abs=5.5, num_peaks=1000000)  # I found threshold_abs needed to be above 5.5, but this is true only if a similar sigma is used for LoG\n",
    "peak_img = np.zeros_like(LoG)\n",
    "peak_img[peaks[:,0], peaks[:,1]] = 1\n",
    "\n",
    "viewer.add_image(LoG, colormap='gray', blending='additive', contrast_limits=[0,1.5])\n",
    "viewer.add_points(peaks, size=5)"
   ]
  },
  {
   "cell_type": "markdown",
   "metadata": {},
   "source": [
    "## Part 2:  Segment cells using cellpose"
   ]
  },
  {
   "cell_type": "markdown",
   "metadata": {},
   "source": [
    "Use cellpose to segment the cells in one of the images (should be able to use last week's homework to do so)."
   ]
  },
  {
   "cell_type": "code",
   "execution_count": 10,
   "metadata": {},
   "outputs": [],
   "source": [
    "model = models.Cellpose(gpu=True, model_type='cyto')"
   ]
  },
  {
   "cell_type": "code",
   "execution_count": 12,
   "metadata": {},
   "outputs": [
    {
     "data": {
      "text/plain": [
       "<Labels layer 'Shrunk cells' at 0x230ad4f5fc0>"
      ]
     },
     "execution_count": 12,
     "metadata": {},
     "output_type": "execute_result"
    }
   ],
   "source": [
    "cells, flows, styles, diams = model.eval(img, diameter=300, channels=[2,3], channel_axis=2, cellprob_threshold=-2, flow_threshold=1.0)\n",
    "filtered_cells = sutils.remove_objects(cells, 50000, 10000000000)\n",
    "shrunk_cells = sutils.shrink_labels(filtered_cells, shrinkage=40)\n",
    "viewer.add_labels(shrunk_cells, name='Shrunk cells')"
   ]
  },
  {
   "cell_type": "markdown",
   "metadata": {},
   "source": [
    "## Part 3:  Create a table of spots per cell in an image"
   ]
  },
  {
   "cell_type": "markdown",
   "metadata": {},
   "source": [
    "Use regionprops to calculate the number of spots per cell, and then pd.DataFrame to make a dataframe out of it."
   ]
  },
  {
   "cell_type": "code",
   "execution_count": 13,
   "metadata": {},
   "outputs": [
    {
     "data": {
      "text/html": [
       "<div>\n",
       "<style scoped>\n",
       "    .dataframe tbody tr th:only-of-type {\n",
       "        vertical-align: middle;\n",
       "    }\n",
       "\n",
       "    .dataframe tbody tr th {\n",
       "        vertical-align: top;\n",
       "    }\n",
       "\n",
       "    .dataframe thead th {\n",
       "        text-align: right;\n",
       "    }\n",
       "</style>\n",
       "<table border=\"1\" class=\"dataframe\">\n",
       "  <thead>\n",
       "    <tr style=\"text-align: right;\">\n",
       "      <th></th>\n",
       "      <th>label</th>\n",
       "      <th>area</th>\n",
       "      <th>mean_intensity</th>\n",
       "      <th>counts</th>\n",
       "    </tr>\n",
       "  </thead>\n",
       "  <tbody>\n",
       "    <tr>\n",
       "      <th>0</th>\n",
       "      <td>1</td>\n",
       "      <td>57769.0</td>\n",
       "      <td>0.000260</td>\n",
       "      <td>15.0</td>\n",
       "    </tr>\n",
       "    <tr>\n",
       "      <th>1</th>\n",
       "      <td>2</td>\n",
       "      <td>173090.0</td>\n",
       "      <td>0.000023</td>\n",
       "      <td>4.0</td>\n",
       "    </tr>\n",
       "    <tr>\n",
       "      <th>2</th>\n",
       "      <td>4</td>\n",
       "      <td>64750.0</td>\n",
       "      <td>0.000031</td>\n",
       "      <td>2.0</td>\n",
       "    </tr>\n",
       "    <tr>\n",
       "      <th>3</th>\n",
       "      <td>6</td>\n",
       "      <td>107958.0</td>\n",
       "      <td>0.000389</td>\n",
       "      <td>42.0</td>\n",
       "    </tr>\n",
       "    <tr>\n",
       "      <th>4</th>\n",
       "      <td>21</td>\n",
       "      <td>115401.0</td>\n",
       "      <td>0.000087</td>\n",
       "      <td>10.0</td>\n",
       "    </tr>\n",
       "  </tbody>\n",
       "</table>\n",
       "</div>"
      ],
      "text/plain": [
       "   label      area  mean_intensity  counts\n",
       "0      1   57769.0        0.000260    15.0\n",
       "1      2  173090.0        0.000023     4.0\n",
       "2      4   64750.0        0.000031     2.0\n",
       "3      6  107958.0        0.000389    42.0\n",
       "4     21  115401.0        0.000087    10.0"
      ]
     },
     "execution_count": 13,
     "metadata": {},
     "output_type": "execute_result"
    }
   ],
   "source": [
    "results = pd.DataFrame(ski.measure.regionprops_table(shrunk_cells, intensity_image=peak_img, properties=['label', 'area', 'mean_intensity']))\n",
    "results['counts'] = results['mean_intensity'] * results['area']\n",
    "results.head()"
   ]
  },
  {
   "cell_type": "markdown",
   "metadata": {},
   "source": [
    "## Part 4:  Process all 8 images using glob"
   ]
  },
  {
   "cell_type": "markdown",
   "metadata": {},
   "source": [
    "Use glob and a for loop to apply your in situ spot finder, cell segmenter, and table maker to all cells, and put together a master dataframe at the end that contains all the values.\n",
    "\n",
    "MAKE SURE you are reasonably happy with your values above, as this will take a while to run."
   ]
  },
  {
   "cell_type": "code",
   "execution_count": 14,
   "metadata": {},
   "outputs": [],
   "source": [
    "all_results = []\n",
    "for f in glob.glob('files/batch_homework/*'):\n",
    "    img = ski.io.imread(f)\n",
    "    h3p = img[:,:,0]\n",
    "    LoG = -1000.0 * ndi.gaussian_laplace(h3p/1000.0, sigma=5)\n",
    "    peaks = ski.feature.peak_local_max(LoG, min_distance=3, threshold_abs=5.5, num_peaks=1000000)  # I found threshold_abs needed to be above 5.5, but this is true only if a similar sigma is used for LoG\n",
    "    peak_img = np.zeros_like(LoG)\n",
    "    peak_img[peaks[:,0], peaks[:,1]] = 1\n",
    "\n",
    "    cells, flows, styles, diams = model.eval(img, diameter=300, channels=[2,3], channel_axis=2, cellprob_threshold=-2, flow_threshold=1.0)\n",
    "    filtered_cells = sutils.remove_objects(cells, 50000, 10000000000)\n",
    "    shrunk_cells = sutils.shrink_labels(filtered_cells, shrinkage=40)\n",
    "\n",
    "    results = pd.DataFrame(ski.measure.regionprops_table(shrunk_cells, intensity_image=peak_img, properties=['label', 'area', 'mean_intensity']))\n",
    "    results['counts'] = results['mean_intensity'] * results['area']\n",
    "\n",
    "    results['file'] = f\n",
    "    all_results.append(results)"
   ]
  },
  {
   "cell_type": "code",
   "execution_count": 15,
   "metadata": {},
   "outputs": [],
   "source": [
    "df = pd.concat(all_results)"
   ]
  },
  {
   "cell_type": "code",
   "execution_count": 17,
   "metadata": {},
   "outputs": [
    {
     "data": {
      "text/html": [
       "<div>\n",
       "<style scoped>\n",
       "    .dataframe tbody tr th:only-of-type {\n",
       "        vertical-align: middle;\n",
       "    }\n",
       "\n",
       "    .dataframe tbody tr th {\n",
       "        vertical-align: top;\n",
       "    }\n",
       "\n",
       "    .dataframe thead th {\n",
       "        text-align: right;\n",
       "    }\n",
       "</style>\n",
       "<table border=\"1\" class=\"dataframe\">\n",
       "  <thead>\n",
       "    <tr style=\"text-align: right;\">\n",
       "      <th></th>\n",
       "      <th>label</th>\n",
       "      <th>area</th>\n",
       "      <th>mean_intensity</th>\n",
       "      <th>counts</th>\n",
       "      <th>file</th>\n",
       "    </tr>\n",
       "  </thead>\n",
       "  <tbody>\n",
       "    <tr>\n",
       "      <th>0</th>\n",
       "      <td>1</td>\n",
       "      <td>133282.0</td>\n",
       "      <td>0.000128</td>\n",
       "      <td>17.0</td>\n",
       "      <td>files/batch_homework\\chamber1KLF5in488SOX8in64...</td>\n",
       "    </tr>\n",
       "    <tr>\n",
       "      <th>1</th>\n",
       "      <td>3</td>\n",
       "      <td>134508.0</td>\n",
       "      <td>0.000074</td>\n",
       "      <td>10.0</td>\n",
       "      <td>files/batch_homework\\chamber1KLF5in488SOX8in64...</td>\n",
       "    </tr>\n",
       "    <tr>\n",
       "      <th>2</th>\n",
       "      <td>4</td>\n",
       "      <td>193714.0</td>\n",
       "      <td>0.000129</td>\n",
       "      <td>25.0</td>\n",
       "      <td>files/batch_homework\\chamber1KLF5in488SOX8in64...</td>\n",
       "    </tr>\n",
       "    <tr>\n",
       "      <th>3</th>\n",
       "      <td>5</td>\n",
       "      <td>182534.0</td>\n",
       "      <td>0.000077</td>\n",
       "      <td>14.0</td>\n",
       "      <td>files/batch_homework\\chamber1KLF5in488SOX8in64...</td>\n",
       "    </tr>\n",
       "    <tr>\n",
       "      <th>4</th>\n",
       "      <td>7</td>\n",
       "      <td>123346.0</td>\n",
       "      <td>0.000073</td>\n",
       "      <td>9.0</td>\n",
       "      <td>files/batch_homework\\chamber1KLF5in488SOX8in64...</td>\n",
       "    </tr>\n",
       "    <tr>\n",
       "      <th>...</th>\n",
       "      <td>...</td>\n",
       "      <td>...</td>\n",
       "      <td>...</td>\n",
       "      <td>...</td>\n",
       "      <td>...</td>\n",
       "    </tr>\n",
       "    <tr>\n",
       "      <th>34</th>\n",
       "      <td>80</td>\n",
       "      <td>141012.0</td>\n",
       "      <td>0.000057</td>\n",
       "      <td>8.0</td>\n",
       "      <td>files/batch_homework\\chamber2KLF5in488SOX8in64...</td>\n",
       "    </tr>\n",
       "    <tr>\n",
       "      <th>35</th>\n",
       "      <td>81</td>\n",
       "      <td>53999.0</td>\n",
       "      <td>0.000204</td>\n",
       "      <td>11.0</td>\n",
       "      <td>files/batch_homework\\chamber2KLF5in488SOX8in64...</td>\n",
       "    </tr>\n",
       "    <tr>\n",
       "      <th>36</th>\n",
       "      <td>83</td>\n",
       "      <td>127399.0</td>\n",
       "      <td>0.000495</td>\n",
       "      <td>63.0</td>\n",
       "      <td>files/batch_homework\\chamber2KLF5in488SOX8in64...</td>\n",
       "    </tr>\n",
       "    <tr>\n",
       "      <th>37</th>\n",
       "      <td>84</td>\n",
       "      <td>99566.0</td>\n",
       "      <td>0.000131</td>\n",
       "      <td>13.0</td>\n",
       "      <td>files/batch_homework\\chamber2KLF5in488SOX8in64...</td>\n",
       "    </tr>\n",
       "    <tr>\n",
       "      <th>38</th>\n",
       "      <td>85</td>\n",
       "      <td>49888.0</td>\n",
       "      <td>0.000020</td>\n",
       "      <td>1.0</td>\n",
       "      <td>files/batch_homework\\chamber2KLF5in488SOX8in64...</td>\n",
       "    </tr>\n",
       "  </tbody>\n",
       "</table>\n",
       "<p>275 rows × 5 columns</p>\n",
       "</div>"
      ],
      "text/plain": [
       "    label      area  mean_intensity  counts  \\\n",
       "0       1  133282.0        0.000128    17.0   \n",
       "1       3  134508.0        0.000074    10.0   \n",
       "2       4  193714.0        0.000129    25.0   \n",
       "3       5  182534.0        0.000077    14.0   \n",
       "4       7  123346.0        0.000073     9.0   \n",
       "..    ...       ...             ...     ...   \n",
       "34     80  141012.0        0.000057     8.0   \n",
       "35     81   53999.0        0.000204    11.0   \n",
       "36     83  127399.0        0.000495    63.0   \n",
       "37     84   99566.0        0.000131    13.0   \n",
       "38     85   49888.0        0.000020     1.0   \n",
       "\n",
       "                                                 file  \n",
       "0   files/batch_homework\\chamber1KLF5in488SOX8in64...  \n",
       "1   files/batch_homework\\chamber1KLF5in488SOX8in64...  \n",
       "2   files/batch_homework\\chamber1KLF5in488SOX8in64...  \n",
       "3   files/batch_homework\\chamber1KLF5in488SOX8in64...  \n",
       "4   files/batch_homework\\chamber1KLF5in488SOX8in64...  \n",
       "..                                                ...  \n",
       "34  files/batch_homework\\chamber2KLF5in488SOX8in64...  \n",
       "35  files/batch_homework\\chamber2KLF5in488SOX8in64...  \n",
       "36  files/batch_homework\\chamber2KLF5in488SOX8in64...  \n",
       "37  files/batch_homework\\chamber2KLF5in488SOX8in64...  \n",
       "38  files/batch_homework\\chamber2KLF5in488SOX8in64...  \n",
       "\n",
       "[275 rows x 5 columns]"
      ]
     },
     "execution_count": 17,
     "metadata": {},
     "output_type": "execute_result"
    }
   ],
   "source": [
    "df"
   ]
  },
  {
   "cell_type": "markdown",
   "metadata": {},
   "source": [
    "## Part 5:  Plot results"
   ]
  },
  {
   "cell_type": "markdown",
   "metadata": {},
   "source": [
    "First create two new columns based on df['file']:  one that has just the filename without the path (eg we just want chamber1KLF5in488SOX8in647-1.tif).  The second one should just contain which chamber.  You will want to make use of df['file'].str.split('???').str[???] for both of these."
   ]
  },
  {
   "cell_type": "code",
   "execution_count": 24,
   "metadata": {},
   "outputs": [],
   "source": [
    "df['short_file'] = df['file'].str.split('\\\\').str[-1]\n",
    "df['chamber'] = df['short_file'].str.split('chamber').str[1].str[0]"
   ]
  },
  {
   "cell_type": "markdown",
   "metadata": {},
   "source": [
    "Make violin plots for the spots/area of all 8 files using the shortened name you created above, make sure you use points='all to visualize the individual cells."
   ]
  },
  {
   "cell_type": "code",
   "execution_count": 25,
   "metadata": {},
   "outputs": [
    {
     "data": {
      "application/vnd.plotly.v1+json": {
       "config": {
        "plotlyServerURL": "https://plot.ly"
       },
       "data": [
        {
         "alignmentgroup": "True",
         "box": {
          "visible": false
         },
         "hovertemplate": "short_file=%{x}<br>mean_intensity=%{y}<extra></extra>",
         "legendgroup": "",
         "marker": {
          "color": "#636efa"
         },
         "name": "",
         "offsetgroup": "",
         "orientation": "v",
         "points": "all",
         "scalegroup": "True",
         "showlegend": false,
         "type": "violin",
         "x": [
          "chamber1KLF5in488SOX8in647-1.tif",
          "chamber1KLF5in488SOX8in647-1.tif",
          "chamber1KLF5in488SOX8in647-1.tif",
          "chamber1KLF5in488SOX8in647-1.tif",
          "chamber1KLF5in488SOX8in647-1.tif",
          "chamber1KLF5in488SOX8in647-1.tif",
          "chamber1KLF5in488SOX8in647-1.tif",
          "chamber1KLF5in488SOX8in647-1.tif",
          "chamber1KLF5in488SOX8in647-1.tif",
          "chamber1KLF5in488SOX8in647-1.tif",
          "chamber1KLF5in488SOX8in647-1.tif",
          "chamber1KLF5in488SOX8in647-1.tif",
          "chamber1KLF5in488SOX8in647-1.tif",
          "chamber1KLF5in488SOX8in647-1.tif",
          "chamber1KLF5in488SOX8in647-1.tif",
          "chamber1KLF5in488SOX8in647-1.tif",
          "chamber1KLF5in488SOX8in647-1.tif",
          "chamber1KLF5in488SOX8in647-1.tif",
          "chamber1KLF5in488SOX8in647-1.tif",
          "chamber1KLF5in488SOX8in647-1.tif",
          "chamber1KLF5in488SOX8in647-1.tif",
          "chamber1KLF5in488SOX8in647-1.tif",
          "chamber1KLF5in488SOX8in647-1.tif",
          "chamber1KLF5in488SOX8in647-1.tif",
          "chamber1KLF5in488SOX8in647-1.tif",
          "chamber1KLF5in488SOX8in647-1.tif",
          "chamber1KLF5in488SOX8in647-1.tif",
          "chamber1KLF5in488SOX8in647-1.tif",
          "chamber1KLF5in488SOX8in647-1.tif",
          "chamber1KLF5in488SOX8in647-1.tif",
          "chamber1KLF5in488SOX8in647-1.tif",
          "chamber1KLF5in488SOX8in647-1.tif",
          "chamber1KLF5in488SOX8in647-2.tif",
          "chamber1KLF5in488SOX8in647-2.tif",
          "chamber1KLF5in488SOX8in647-2.tif",
          "chamber1KLF5in488SOX8in647-2.tif",
          "chamber1KLF5in488SOX8in647-2.tif",
          "chamber1KLF5in488SOX8in647-2.tif",
          "chamber1KLF5in488SOX8in647-2.tif",
          "chamber1KLF5in488SOX8in647-2.tif",
          "chamber1KLF5in488SOX8in647-2.tif",
          "chamber1KLF5in488SOX8in647-2.tif",
          "chamber1KLF5in488SOX8in647-2.tif",
          "chamber1KLF5in488SOX8in647-2.tif",
          "chamber1KLF5in488SOX8in647-2.tif",
          "chamber1KLF5in488SOX8in647-2.tif",
          "chamber1KLF5in488SOX8in647-2.tif",
          "chamber1KLF5in488SOX8in647-2.tif",
          "chamber1KLF5in488SOX8in647-2.tif",
          "chamber1KLF5in488SOX8in647-2.tif",
          "chamber1KLF5in488SOX8in647-2.tif",
          "chamber1KLF5in488SOX8in647-2.tif",
          "chamber1KLF5in488SOX8in647-2.tif",
          "chamber1KLF5in488SOX8in647-2.tif",
          "chamber1KLF5in488SOX8in647-2.tif",
          "chamber1KLF5in488SOX8in647-2.tif",
          "chamber1KLF5in488SOX8in647-2.tif",
          "chamber1KLF5in488SOX8in647-2.tif",
          "chamber1KLF5in488SOX8in647-2.tif",
          "chamber1KLF5in488SOX8in647-2.tif",
          "chamber1KLF5in488SOX8in647-2.tif",
          "chamber1KLF5in488SOX8in647-2.tif",
          "chamber1KLF5in488SOX8in647-2.tif",
          "chamber1KLF5in488SOX8in647-2.tif",
          "chamber1KLF5in488SOX8in647-2.tif",
          "chamber1KLF5in488SOX8in647-3.tif",
          "chamber1KLF5in488SOX8in647-3.tif",
          "chamber1KLF5in488SOX8in647-3.tif",
          "chamber1KLF5in488SOX8in647-3.tif",
          "chamber1KLF5in488SOX8in647-3.tif",
          "chamber1KLF5in488SOX8in647-3.tif",
          "chamber1KLF5in488SOX8in647-3.tif",
          "chamber1KLF5in488SOX8in647-3.tif",
          "chamber1KLF5in488SOX8in647-3.tif",
          "chamber1KLF5in488SOX8in647-3.tif",
          "chamber1KLF5in488SOX8in647-3.tif",
          "chamber1KLF5in488SOX8in647-3.tif",
          "chamber1KLF5in488SOX8in647-3.tif",
          "chamber1KLF5in488SOX8in647-3.tif",
          "chamber1KLF5in488SOX8in647-3.tif",
          "chamber1KLF5in488SOX8in647-3.tif",
          "chamber1KLF5in488SOX8in647-3.tif",
          "chamber1KLF5in488SOX8in647-3.tif",
          "chamber1KLF5in488SOX8in647-3.tif",
          "chamber1KLF5in488SOX8in647-3.tif",
          "chamber1KLF5in488SOX8in647-3.tif",
          "chamber1KLF5in488SOX8in647-3.tif",
          "chamber1KLF5in488SOX8in647-3.tif",
          "chamber1KLF5in488SOX8in647-3.tif",
          "chamber1KLF5in488SOX8in647-3.tif",
          "chamber1KLF5in488SOX8in647-3.tif",
          "chamber1KLF5in488SOX8in647-3.tif",
          "chamber1KLF5in488SOX8in647-3.tif",
          "chamber1KLF5in488SOX8in647-4.tif",
          "chamber1KLF5in488SOX8in647-4.tif",
          "chamber1KLF5in488SOX8in647-4.tif",
          "chamber1KLF5in488SOX8in647-4.tif",
          "chamber1KLF5in488SOX8in647-4.tif",
          "chamber1KLF5in488SOX8in647-4.tif",
          "chamber1KLF5in488SOX8in647-4.tif",
          "chamber1KLF5in488SOX8in647-4.tif",
          "chamber1KLF5in488SOX8in647-4.tif",
          "chamber1KLF5in488SOX8in647-4.tif",
          "chamber1KLF5in488SOX8in647-4.tif",
          "chamber1KLF5in488SOX8in647-4.tif",
          "chamber1KLF5in488SOX8in647-4.tif",
          "chamber1KLF5in488SOX8in647-4.tif",
          "chamber1KLF5in488SOX8in647-4.tif",
          "chamber1KLF5in488SOX8in647-4.tif",
          "chamber1KLF5in488SOX8in647-4.tif",
          "chamber1KLF5in488SOX8in647-4.tif",
          "chamber1KLF5in488SOX8in647-4.tif",
          "chamber1KLF5in488SOX8in647-4.tif",
          "chamber1KLF5in488SOX8in647-4.tif",
          "chamber1KLF5in488SOX8in647-4.tif",
          "chamber1KLF5in488SOX8in647-4.tif",
          "chamber1KLF5in488SOX8in647-4.tif",
          "chamber1KLF5in488SOX8in647-4.tif",
          "chamber1KLF5in488SOX8in647-4.tif",
          "chamber2KLF5in488SOX8in647-1.tif",
          "chamber2KLF5in488SOX8in647-1.tif",
          "chamber2KLF5in488SOX8in647-1.tif",
          "chamber2KLF5in488SOX8in647-1.tif",
          "chamber2KLF5in488SOX8in647-1.tif",
          "chamber2KLF5in488SOX8in647-1.tif",
          "chamber2KLF5in488SOX8in647-1.tif",
          "chamber2KLF5in488SOX8in647-1.tif",
          "chamber2KLF5in488SOX8in647-1.tif",
          "chamber2KLF5in488SOX8in647-1.tif",
          "chamber2KLF5in488SOX8in647-1.tif",
          "chamber2KLF5in488SOX8in647-1.tif",
          "chamber2KLF5in488SOX8in647-1.tif",
          "chamber2KLF5in488SOX8in647-1.tif",
          "chamber2KLF5in488SOX8in647-1.tif",
          "chamber2KLF5in488SOX8in647-1.tif",
          "chamber2KLF5in488SOX8in647-1.tif",
          "chamber2KLF5in488SOX8in647-1.tif",
          "chamber2KLF5in488SOX8in647-1.tif",
          "chamber2KLF5in488SOX8in647-1.tif",
          "chamber2KLF5in488SOX8in647-1.tif",
          "chamber2KLF5in488SOX8in647-1.tif",
          "chamber2KLF5in488SOX8in647-1.tif",
          "chamber2KLF5in488SOX8in647-1.tif",
          "chamber2KLF5in488SOX8in647-1.tif",
          "chamber2KLF5in488SOX8in647-1.tif",
          "chamber2KLF5in488SOX8in647-1.tif",
          "chamber2KLF5in488SOX8in647-1.tif",
          "chamber2KLF5in488SOX8in647-1.tif",
          "chamber2KLF5in488SOX8in647-1.tif",
          "chamber2KLF5in488SOX8in647-1.tif",
          "chamber2KLF5in488SOX8in647-1.tif",
          "chamber2KLF5in488SOX8in647-1.tif",
          "chamber2KLF5in488SOX8in647-1.tif",
          "chamber2KLF5in488SOX8in647-1.tif",
          "chamber2KLF5in488SOX8in647-1.tif",
          "chamber2KLF5in488SOX8in647-1.tif",
          "chamber2KLF5in488SOX8in647-1.tif",
          "chamber2KLF5in488SOX8in647-1.tif",
          "chamber2KLF5in488SOX8in647-1.tif",
          "chamber2KLF5in488SOX8in647-1.tif",
          "chamber2KLF5in488SOX8in647-2.tif",
          "chamber2KLF5in488SOX8in647-2.tif",
          "chamber2KLF5in488SOX8in647-2.tif",
          "chamber2KLF5in488SOX8in647-2.tif",
          "chamber2KLF5in488SOX8in647-2.tif",
          "chamber2KLF5in488SOX8in647-2.tif",
          "chamber2KLF5in488SOX8in647-2.tif",
          "chamber2KLF5in488SOX8in647-2.tif",
          "chamber2KLF5in488SOX8in647-2.tif",
          "chamber2KLF5in488SOX8in647-2.tif",
          "chamber2KLF5in488SOX8in647-2.tif",
          "chamber2KLF5in488SOX8in647-2.tif",
          "chamber2KLF5in488SOX8in647-2.tif",
          "chamber2KLF5in488SOX8in647-2.tif",
          "chamber2KLF5in488SOX8in647-2.tif",
          "chamber2KLF5in488SOX8in647-2.tif",
          "chamber2KLF5in488SOX8in647-2.tif",
          "chamber2KLF5in488SOX8in647-2.tif",
          "chamber2KLF5in488SOX8in647-2.tif",
          "chamber2KLF5in488SOX8in647-2.tif",
          "chamber2KLF5in488SOX8in647-2.tif",
          "chamber2KLF5in488SOX8in647-2.tif",
          "chamber2KLF5in488SOX8in647-2.tif",
          "chamber2KLF5in488SOX8in647-2.tif",
          "chamber2KLF5in488SOX8in647-2.tif",
          "chamber2KLF5in488SOX8in647-2.tif",
          "chamber2KLF5in488SOX8in647-2.tif",
          "chamber2KLF5in488SOX8in647-2.tif",
          "chamber2KLF5in488SOX8in647-2.tif",
          "chamber2KLF5in488SOX8in647-2.tif",
          "chamber2KLF5in488SOX8in647-2.tif",
          "chamber2KLF5in488SOX8in647-2.tif",
          "chamber2KLF5in488SOX8in647-2.tif",
          "chamber2KLF5in488SOX8in647-2.tif",
          "chamber2KLF5in488SOX8in647-3.tif",
          "chamber2KLF5in488SOX8in647-3.tif",
          "chamber2KLF5in488SOX8in647-3.tif",
          "chamber2KLF5in488SOX8in647-3.tif",
          "chamber2KLF5in488SOX8in647-3.tif",
          "chamber2KLF5in488SOX8in647-3.tif",
          "chamber2KLF5in488SOX8in647-3.tif",
          "chamber2KLF5in488SOX8in647-3.tif",
          "chamber2KLF5in488SOX8in647-3.tif",
          "chamber2KLF5in488SOX8in647-3.tif",
          "chamber2KLF5in488SOX8in647-3.tif",
          "chamber2KLF5in488SOX8in647-3.tif",
          "chamber2KLF5in488SOX8in647-3.tif",
          "chamber2KLF5in488SOX8in647-3.tif",
          "chamber2KLF5in488SOX8in647-3.tif",
          "chamber2KLF5in488SOX8in647-3.tif",
          "chamber2KLF5in488SOX8in647-3.tif",
          "chamber2KLF5in488SOX8in647-3.tif",
          "chamber2KLF5in488SOX8in647-3.tif",
          "chamber2KLF5in488SOX8in647-3.tif",
          "chamber2KLF5in488SOX8in647-3.tif",
          "chamber2KLF5in488SOX8in647-3.tif",
          "chamber2KLF5in488SOX8in647-3.tif",
          "chamber2KLF5in488SOX8in647-3.tif",
          "chamber2KLF5in488SOX8in647-3.tif",
          "chamber2KLF5in488SOX8in647-3.tif",
          "chamber2KLF5in488SOX8in647-3.tif",
          "chamber2KLF5in488SOX8in647-3.tif",
          "chamber2KLF5in488SOX8in647-3.tif",
          "chamber2KLF5in488SOX8in647-3.tif",
          "chamber2KLF5in488SOX8in647-3.tif",
          "chamber2KLF5in488SOX8in647-3.tif",
          "chamber2KLF5in488SOX8in647-3.tif",
          "chamber2KLF5in488SOX8in647-3.tif",
          "chamber2KLF5in488SOX8in647-3.tif",
          "chamber2KLF5in488SOX8in647-3.tif",
          "chamber2KLF5in488SOX8in647-3.tif",
          "chamber2KLF5in488SOX8in647-3.tif",
          "chamber2KLF5in488SOX8in647-3.tif",
          "chamber2KLF5in488SOX8in647-3.tif",
          "chamber2KLF5in488SOX8in647-3.tif",
          "chamber2KLF5in488SOX8in647-3.tif",
          "chamber2KLF5in488SOX8in647-4.tif",
          "chamber2KLF5in488SOX8in647-4.tif",
          "chamber2KLF5in488SOX8in647-4.tif",
          "chamber2KLF5in488SOX8in647-4.tif",
          "chamber2KLF5in488SOX8in647-4.tif",
          "chamber2KLF5in488SOX8in647-4.tif",
          "chamber2KLF5in488SOX8in647-4.tif",
          "chamber2KLF5in488SOX8in647-4.tif",
          "chamber2KLF5in488SOX8in647-4.tif",
          "chamber2KLF5in488SOX8in647-4.tif",
          "chamber2KLF5in488SOX8in647-4.tif",
          "chamber2KLF5in488SOX8in647-4.tif",
          "chamber2KLF5in488SOX8in647-4.tif",
          "chamber2KLF5in488SOX8in647-4.tif",
          "chamber2KLF5in488SOX8in647-4.tif",
          "chamber2KLF5in488SOX8in647-4.tif",
          "chamber2KLF5in488SOX8in647-4.tif",
          "chamber2KLF5in488SOX8in647-4.tif",
          "chamber2KLF5in488SOX8in647-4.tif",
          "chamber2KLF5in488SOX8in647-4.tif",
          "chamber2KLF5in488SOX8in647-4.tif",
          "chamber2KLF5in488SOX8in647-4.tif",
          "chamber2KLF5in488SOX8in647-4.tif",
          "chamber2KLF5in488SOX8in647-4.tif",
          "chamber2KLF5in488SOX8in647-4.tif",
          "chamber2KLF5in488SOX8in647-4.tif",
          "chamber2KLF5in488SOX8in647-4.tif",
          "chamber2KLF5in488SOX8in647-4.tif",
          "chamber2KLF5in488SOX8in647-4.tif",
          "chamber2KLF5in488SOX8in647-4.tif",
          "chamber2KLF5in488SOX8in647-4.tif",
          "chamber2KLF5in488SOX8in647-4.tif",
          "chamber2KLF5in488SOX8in647-4.tif",
          "chamber2KLF5in488SOX8in647-4.tif",
          "chamber2KLF5in488SOX8in647-4.tif",
          "chamber2KLF5in488SOX8in647-4.tif",
          "chamber2KLF5in488SOX8in647-4.tif",
          "chamber2KLF5in488SOX8in647-4.tif",
          "chamber2KLF5in488SOX8in647-4.tif"
         ],
         "x0": " ",
         "xaxis": "x",
         "y": [
          0.0001275491064059663,
          0.00007434502037053559,
          0.00012905623754607307,
          0.00007669803981723953,
          0.00007296547922105297,
          0.00011289766717767716,
          0.00010963443008368762,
          0.00010805437296047371,
          0.0001073594932631918,
          0.00008735150244584206,
          0.00007791163999901585,
          0.00011314457047492434,
          0.00007328116412363579,
          0.00006955070246209486,
          0.000026966776930821228,
          0.00007747673760953274,
          0.00005430650591940915,
          0.00008895016566968356,
          0.000020557519940794344,
          0.00007909033941923355,
          0.00005896524420034705,
          0.00007551372933991562,
          0.0000780100744438996,
          0.00011450717871928124,
          0.00009432071400780503,
          0.00010269211324570273,
          0.0000865859767825888,
          0.00005828185103158876,
          0.00006353805293990571,
          0.0000625224690123013,
          0.00007746375511668488,
          0.0000895867223047363,
          0.00004543096953474901,
          0.00007591861524445795,
          0.00008182684271127398,
          0.000029718565187672738,
          0.00007780843563147531,
          0.00007589758380041972,
          0.000031521379375561475,
          0.000030315891590371672,
          0.000033315935011716105,
          0.00007717580648717779,
          0.00011123573633422631,
          0.00011860486788264896,
          0.00008653377177111031,
          0.00008558126797206627,
          0.0000771366862079605,
          0.000054791518272971344,
          0.00007486021294851345,
          0.00007647328729249268,
          0.00009460469428493041,
          0.00006295405612983645,
          0.000048557439404362074,
          0.000046965996618448245,
          0.00008181576453422967,
          0.00006608075067732769,
          0.00009814222540382639,
          0.00008929614034605689,
          0.00009570599119504881,
          0.00007270876504162576,
          0.00012468004899192513,
          0.00006167129201356769,
          0.00006547139403706687,
          0.0000973457070543189,
          0.00003771805752003772,
          0.000040231966021230987,
          0.000055518543193426606,
          0.00010837216669306502,
          0.0000441120445932669,
          0.000051761173943425034,
          0.0000796918581484925,
          0.00008350963144415989,
          0.00006202665905806316,
          0.00007459569135286746,
          0.00006289590727346241,
          0.00005801574547332146,
          0.00007740008559538878,
          0.00007598892461423747,
          0.00006341039205739546,
          0.00005692940316089563,
          0.00003460666639750371,
          0.00007379461114852087,
          0.000037011448874851956,
          0.00006037462454530361,
          0.00010026354990260113,
          0.000035482103221380726,
          0.00004594680279172774,
          0.00007708317274339012,
          0.00009534356687617804,
          0.00007989478471428395,
          0.00007987943530564534,
          0.00010604453870625662,
          0.00009724998649305743,
          0.00006448118439039489,
          0.000029203901641259272,
          0.00008349196807267141,
          0.0000951412848079398,
          0.000057261353085773414,
          0.00006978042426497953,
          0.00010687795250343791,
          0.00010920762744055306,
          0,
          0.00013785972772703775,
          0.00007260154006016852,
          0.00007315199765913608,
          0.00007624583451065872,
          0.0000713339902004931,
          0.00004728668974257126,
          0.00006111460822480398,
          0.00006130631495914955,
          0.00007553725875287986,
          0.00005207345332544793,
          0.000041465263956023126,
          0.00011568718186024989,
          0.0001274666794133346,
          0.00007808229874287499,
          0.00010991426687183997,
          0.00002714440825190011,
          0.00005598163802272855,
          0.0002596548321764268,
          0.000023109365070194698,
          0.00003088803088803089,
          0.000389040182293114,
          0.00008665436174729855,
          0.00010272002629632673,
          0.00011024547993532266,
          0.000031124206332738515,
          0.00004272104581120146,
          0.00006716980045771421,
          0.00023894101342848494,
          0.00024988925362623383,
          0.0005350619951638628,
          0.00010352408152825903,
          0.00003387396176307196,
          0.00034459410441805915,
          0.00006085480719168588,
          0.00003534130868866074,
          0.00003586071697526806,
          0.00011358473421172194,
          0.000060873535230558514,
          0.000012712618545167933,
          0.00024246996066598417,
          0.00018298407242986936,
          0.00006059724646112081,
          0.000019419612513998304,
          0.0006329405266065182,
          0.00027016074564365796,
          0.00010909289259804724,
          0.00003487810103687612,
          0.00004808559235439082,
          0.0000371860106228037,
          0.00028004013908660243,
          0.00008590748990586993,
          0.0005289852817624545,
          0.00000645644482322254,
          0.00010248248755139196,
          0.00008707983977309482,
          0.00004216503394285233,
          0.00011099148695295071,
          0.000023302418791070512,
          0.000021524818115286927,
          0,
          0.00037367328020465796,
          0.0000578882371102192,
          0.0000735352346905298,
          0.00007266429700320329,
          0.00003779289493575208,
          0.00017267305077307162,
          0.00017696400552127698,
          0.000018065704968972152,
          0.0001627676417928116,
          0.00003510578543343943,
          0.000362468409871223,
          0.00021427368872155135,
          0.00043833878925230596,
          0.00006719357629410629,
          0.00019613308145716556,
          0.000041767168916872895,
          0.0001246416552411816,
          0.00006969543096667562,
          0.00008732544008383242,
          0.0000528854290066001,
          0.000250101334161255,
          0.000043240625432406256,
          0.000017614937466971992,
          0.000029521540180924867,
          0.00007428255432943487,
          0.000060054289077325904,
          0.000024285107158035336,
          0.00002666157134414312,
          0.0003018599215164204,
          0.00046367300353104823,
          0.0001419305391941184,
          0.000047523547917993365,
          0.0001225295872915195,
          0.000023539381385057202,
          0.00005335182863392643,
          0.00007586102260658473,
          0.00015847617489635148,
          0.00023974695096014786,
          0.00019636506447319617,
          0.0002781309599491418,
          0.0003604807582405022,
          0.00010268614884659293,
          0.0003876306275660752,
          0.00003044937182945916,
          0.00000749928756768107,
          0.00012113104799422784,
          0.0001436687781623457,
          0.00021857525363836724,
          0.00020294495681782307,
          0.00020838639468383154,
          0,
          0.00033883603046813585,
          0.0002697105427924674,
          0.00023276611905374448,
          0.0004580665519803744,
          0.0006804909432841731,
          0.00018590816136828406,
          0.0002186240349798456,
          0.00008608444884431627,
          0.00007825583397242264,
          0.000058999660751950674,
          0.00042455254396353315,
          0.000655856486108335,
          0.00013477088948787063,
          0.0005638965249876648,
          0.000254799455256337,
          0.00005739622045888278,
          0.00025022520268241417,
          0.0003626896024662893,
          0.00022739159105896264,
          0.0000730687028478527,
          0.00009454987505909367,
          0.000050055060566623285,
          0.00030275905644481886,
          0.00015359017022910533,
          0.0002745578613951557,
          0.00020492013237840553,
          0.00006319980618726102,
          0,
          0.00005339965061371456,
          0.0006731868411025022,
          0.00023712217371291478,
          0.00030954428202923474,
          0.00020618025308626067,
          0.00013758537663996855,
          0.00007721778384960351,
          0.00008579377627434398,
          0.000024413267797272223,
          0.00021377378233328458,
          0.00004165902917798404,
          0.00006463497398442297,
          0.00010836493977410078,
          0.00009319788573939208,
          0.000052483795628099827,
          0,
          0.0006179362166237201,
          0.0000801538954793203,
          0.0003871445874421357,
          0.0000460182692528934,
          0.00021797573203516675,
          0.00018900950800003287,
          0.00034477451131291367,
          0.00044542681133233044,
          0.00031357792411414236,
          0.00012223724721719266,
          0.00022549898525456636,
          0.00005308207816336009,
          0.0002699305121738661,
          0.00005673276033245398,
          0.00020370747606437156,
          0.0004945093760547571,
          0.00013056665930136793,
          0.000020044900577293135
         ],
         "y0": " ",
         "yaxis": "y"
        }
       ],
       "layout": {
        "legend": {
         "tracegroupgap": 0
        },
        "margin": {
         "t": 60
        },
        "template": {
         "data": {
          "bar": [
           {
            "error_x": {
             "color": "#2a3f5f"
            },
            "error_y": {
             "color": "#2a3f5f"
            },
            "marker": {
             "line": {
              "color": "#E5ECF6",
              "width": 0.5
             },
             "pattern": {
              "fillmode": "overlay",
              "size": 10,
              "solidity": 0.2
             }
            },
            "type": "bar"
           }
          ],
          "barpolar": [
           {
            "marker": {
             "line": {
              "color": "#E5ECF6",
              "width": 0.5
             },
             "pattern": {
              "fillmode": "overlay",
              "size": 10,
              "solidity": 0.2
             }
            },
            "type": "barpolar"
           }
          ],
          "carpet": [
           {
            "aaxis": {
             "endlinecolor": "#2a3f5f",
             "gridcolor": "white",
             "linecolor": "white",
             "minorgridcolor": "white",
             "startlinecolor": "#2a3f5f"
            },
            "baxis": {
             "endlinecolor": "#2a3f5f",
             "gridcolor": "white",
             "linecolor": "white",
             "minorgridcolor": "white",
             "startlinecolor": "#2a3f5f"
            },
            "type": "carpet"
           }
          ],
          "choropleth": [
           {
            "colorbar": {
             "outlinewidth": 0,
             "ticks": ""
            },
            "type": "choropleth"
           }
          ],
          "contour": [
           {
            "colorbar": {
             "outlinewidth": 0,
             "ticks": ""
            },
            "colorscale": [
             [
              0,
              "#0d0887"
             ],
             [
              0.1111111111111111,
              "#46039f"
             ],
             [
              0.2222222222222222,
              "#7201a8"
             ],
             [
              0.3333333333333333,
              "#9c179e"
             ],
             [
              0.4444444444444444,
              "#bd3786"
             ],
             [
              0.5555555555555556,
              "#d8576b"
             ],
             [
              0.6666666666666666,
              "#ed7953"
             ],
             [
              0.7777777777777778,
              "#fb9f3a"
             ],
             [
              0.8888888888888888,
              "#fdca26"
             ],
             [
              1,
              "#f0f921"
             ]
            ],
            "type": "contour"
           }
          ],
          "contourcarpet": [
           {
            "colorbar": {
             "outlinewidth": 0,
             "ticks": ""
            },
            "type": "contourcarpet"
           }
          ],
          "heatmap": [
           {
            "colorbar": {
             "outlinewidth": 0,
             "ticks": ""
            },
            "colorscale": [
             [
              0,
              "#0d0887"
             ],
             [
              0.1111111111111111,
              "#46039f"
             ],
             [
              0.2222222222222222,
              "#7201a8"
             ],
             [
              0.3333333333333333,
              "#9c179e"
             ],
             [
              0.4444444444444444,
              "#bd3786"
             ],
             [
              0.5555555555555556,
              "#d8576b"
             ],
             [
              0.6666666666666666,
              "#ed7953"
             ],
             [
              0.7777777777777778,
              "#fb9f3a"
             ],
             [
              0.8888888888888888,
              "#fdca26"
             ],
             [
              1,
              "#f0f921"
             ]
            ],
            "type": "heatmap"
           }
          ],
          "heatmapgl": [
           {
            "colorbar": {
             "outlinewidth": 0,
             "ticks": ""
            },
            "colorscale": [
             [
              0,
              "#0d0887"
             ],
             [
              0.1111111111111111,
              "#46039f"
             ],
             [
              0.2222222222222222,
              "#7201a8"
             ],
             [
              0.3333333333333333,
              "#9c179e"
             ],
             [
              0.4444444444444444,
              "#bd3786"
             ],
             [
              0.5555555555555556,
              "#d8576b"
             ],
             [
              0.6666666666666666,
              "#ed7953"
             ],
             [
              0.7777777777777778,
              "#fb9f3a"
             ],
             [
              0.8888888888888888,
              "#fdca26"
             ],
             [
              1,
              "#f0f921"
             ]
            ],
            "type": "heatmapgl"
           }
          ],
          "histogram": [
           {
            "marker": {
             "pattern": {
              "fillmode": "overlay",
              "size": 10,
              "solidity": 0.2
             }
            },
            "type": "histogram"
           }
          ],
          "histogram2d": [
           {
            "colorbar": {
             "outlinewidth": 0,
             "ticks": ""
            },
            "colorscale": [
             [
              0,
              "#0d0887"
             ],
             [
              0.1111111111111111,
              "#46039f"
             ],
             [
              0.2222222222222222,
              "#7201a8"
             ],
             [
              0.3333333333333333,
              "#9c179e"
             ],
             [
              0.4444444444444444,
              "#bd3786"
             ],
             [
              0.5555555555555556,
              "#d8576b"
             ],
             [
              0.6666666666666666,
              "#ed7953"
             ],
             [
              0.7777777777777778,
              "#fb9f3a"
             ],
             [
              0.8888888888888888,
              "#fdca26"
             ],
             [
              1,
              "#f0f921"
             ]
            ],
            "type": "histogram2d"
           }
          ],
          "histogram2dcontour": [
           {
            "colorbar": {
             "outlinewidth": 0,
             "ticks": ""
            },
            "colorscale": [
             [
              0,
              "#0d0887"
             ],
             [
              0.1111111111111111,
              "#46039f"
             ],
             [
              0.2222222222222222,
              "#7201a8"
             ],
             [
              0.3333333333333333,
              "#9c179e"
             ],
             [
              0.4444444444444444,
              "#bd3786"
             ],
             [
              0.5555555555555556,
              "#d8576b"
             ],
             [
              0.6666666666666666,
              "#ed7953"
             ],
             [
              0.7777777777777778,
              "#fb9f3a"
             ],
             [
              0.8888888888888888,
              "#fdca26"
             ],
             [
              1,
              "#f0f921"
             ]
            ],
            "type": "histogram2dcontour"
           }
          ],
          "mesh3d": [
           {
            "colorbar": {
             "outlinewidth": 0,
             "ticks": ""
            },
            "type": "mesh3d"
           }
          ],
          "parcoords": [
           {
            "line": {
             "colorbar": {
              "outlinewidth": 0,
              "ticks": ""
             }
            },
            "type": "parcoords"
           }
          ],
          "pie": [
           {
            "automargin": true,
            "type": "pie"
           }
          ],
          "scatter": [
           {
            "fillpattern": {
             "fillmode": "overlay",
             "size": 10,
             "solidity": 0.2
            },
            "type": "scatter"
           }
          ],
          "scatter3d": [
           {
            "line": {
             "colorbar": {
              "outlinewidth": 0,
              "ticks": ""
             }
            },
            "marker": {
             "colorbar": {
              "outlinewidth": 0,
              "ticks": ""
             }
            },
            "type": "scatter3d"
           }
          ],
          "scattercarpet": [
           {
            "marker": {
             "colorbar": {
              "outlinewidth": 0,
              "ticks": ""
             }
            },
            "type": "scattercarpet"
           }
          ],
          "scattergeo": [
           {
            "marker": {
             "colorbar": {
              "outlinewidth": 0,
              "ticks": ""
             }
            },
            "type": "scattergeo"
           }
          ],
          "scattergl": [
           {
            "marker": {
             "colorbar": {
              "outlinewidth": 0,
              "ticks": ""
             }
            },
            "type": "scattergl"
           }
          ],
          "scattermapbox": [
           {
            "marker": {
             "colorbar": {
              "outlinewidth": 0,
              "ticks": ""
             }
            },
            "type": "scattermapbox"
           }
          ],
          "scatterpolar": [
           {
            "marker": {
             "colorbar": {
              "outlinewidth": 0,
              "ticks": ""
             }
            },
            "type": "scatterpolar"
           }
          ],
          "scatterpolargl": [
           {
            "marker": {
             "colorbar": {
              "outlinewidth": 0,
              "ticks": ""
             }
            },
            "type": "scatterpolargl"
           }
          ],
          "scatterternary": [
           {
            "marker": {
             "colorbar": {
              "outlinewidth": 0,
              "ticks": ""
             }
            },
            "type": "scatterternary"
           }
          ],
          "surface": [
           {
            "colorbar": {
             "outlinewidth": 0,
             "ticks": ""
            },
            "colorscale": [
             [
              0,
              "#0d0887"
             ],
             [
              0.1111111111111111,
              "#46039f"
             ],
             [
              0.2222222222222222,
              "#7201a8"
             ],
             [
              0.3333333333333333,
              "#9c179e"
             ],
             [
              0.4444444444444444,
              "#bd3786"
             ],
             [
              0.5555555555555556,
              "#d8576b"
             ],
             [
              0.6666666666666666,
              "#ed7953"
             ],
             [
              0.7777777777777778,
              "#fb9f3a"
             ],
             [
              0.8888888888888888,
              "#fdca26"
             ],
             [
              1,
              "#f0f921"
             ]
            ],
            "type": "surface"
           }
          ],
          "table": [
           {
            "cells": {
             "fill": {
              "color": "#EBF0F8"
             },
             "line": {
              "color": "white"
             }
            },
            "header": {
             "fill": {
              "color": "#C8D4E3"
             },
             "line": {
              "color": "white"
             }
            },
            "type": "table"
           }
          ]
         },
         "layout": {
          "annotationdefaults": {
           "arrowcolor": "#2a3f5f",
           "arrowhead": 0,
           "arrowwidth": 1
          },
          "autotypenumbers": "strict",
          "coloraxis": {
           "colorbar": {
            "outlinewidth": 0,
            "ticks": ""
           }
          },
          "colorscale": {
           "diverging": [
            [
             0,
             "#8e0152"
            ],
            [
             0.1,
             "#c51b7d"
            ],
            [
             0.2,
             "#de77ae"
            ],
            [
             0.3,
             "#f1b6da"
            ],
            [
             0.4,
             "#fde0ef"
            ],
            [
             0.5,
             "#f7f7f7"
            ],
            [
             0.6,
             "#e6f5d0"
            ],
            [
             0.7,
             "#b8e186"
            ],
            [
             0.8,
             "#7fbc41"
            ],
            [
             0.9,
             "#4d9221"
            ],
            [
             1,
             "#276419"
            ]
           ],
           "sequential": [
            [
             0,
             "#0d0887"
            ],
            [
             0.1111111111111111,
             "#46039f"
            ],
            [
             0.2222222222222222,
             "#7201a8"
            ],
            [
             0.3333333333333333,
             "#9c179e"
            ],
            [
             0.4444444444444444,
             "#bd3786"
            ],
            [
             0.5555555555555556,
             "#d8576b"
            ],
            [
             0.6666666666666666,
             "#ed7953"
            ],
            [
             0.7777777777777778,
             "#fb9f3a"
            ],
            [
             0.8888888888888888,
             "#fdca26"
            ],
            [
             1,
             "#f0f921"
            ]
           ],
           "sequentialminus": [
            [
             0,
             "#0d0887"
            ],
            [
             0.1111111111111111,
             "#46039f"
            ],
            [
             0.2222222222222222,
             "#7201a8"
            ],
            [
             0.3333333333333333,
             "#9c179e"
            ],
            [
             0.4444444444444444,
             "#bd3786"
            ],
            [
             0.5555555555555556,
             "#d8576b"
            ],
            [
             0.6666666666666666,
             "#ed7953"
            ],
            [
             0.7777777777777778,
             "#fb9f3a"
            ],
            [
             0.8888888888888888,
             "#fdca26"
            ],
            [
             1,
             "#f0f921"
            ]
           ]
          },
          "colorway": [
           "#636efa",
           "#EF553B",
           "#00cc96",
           "#ab63fa",
           "#FFA15A",
           "#19d3f3",
           "#FF6692",
           "#B6E880",
           "#FF97FF",
           "#FECB52"
          ],
          "font": {
           "color": "#2a3f5f"
          },
          "geo": {
           "bgcolor": "white",
           "lakecolor": "white",
           "landcolor": "#E5ECF6",
           "showlakes": true,
           "showland": true,
           "subunitcolor": "white"
          },
          "hoverlabel": {
           "align": "left"
          },
          "hovermode": "closest",
          "mapbox": {
           "style": "light"
          },
          "paper_bgcolor": "white",
          "plot_bgcolor": "#E5ECF6",
          "polar": {
           "angularaxis": {
            "gridcolor": "white",
            "linecolor": "white",
            "ticks": ""
           },
           "bgcolor": "#E5ECF6",
           "radialaxis": {
            "gridcolor": "white",
            "linecolor": "white",
            "ticks": ""
           }
          },
          "scene": {
           "xaxis": {
            "backgroundcolor": "#E5ECF6",
            "gridcolor": "white",
            "gridwidth": 2,
            "linecolor": "white",
            "showbackground": true,
            "ticks": "",
            "zerolinecolor": "white"
           },
           "yaxis": {
            "backgroundcolor": "#E5ECF6",
            "gridcolor": "white",
            "gridwidth": 2,
            "linecolor": "white",
            "showbackground": true,
            "ticks": "",
            "zerolinecolor": "white"
           },
           "zaxis": {
            "backgroundcolor": "#E5ECF6",
            "gridcolor": "white",
            "gridwidth": 2,
            "linecolor": "white",
            "showbackground": true,
            "ticks": "",
            "zerolinecolor": "white"
           }
          },
          "shapedefaults": {
           "line": {
            "color": "#2a3f5f"
           }
          },
          "ternary": {
           "aaxis": {
            "gridcolor": "white",
            "linecolor": "white",
            "ticks": ""
           },
           "baxis": {
            "gridcolor": "white",
            "linecolor": "white",
            "ticks": ""
           },
           "bgcolor": "#E5ECF6",
           "caxis": {
            "gridcolor": "white",
            "linecolor": "white",
            "ticks": ""
           }
          },
          "title": {
           "x": 0.05
          },
          "xaxis": {
           "automargin": true,
           "gridcolor": "white",
           "linecolor": "white",
           "ticks": "",
           "title": {
            "standoff": 15
           },
           "zerolinecolor": "white",
           "zerolinewidth": 2
          },
          "yaxis": {
           "automargin": true,
           "gridcolor": "white",
           "linecolor": "white",
           "ticks": "",
           "title": {
            "standoff": 15
           },
           "zerolinecolor": "white",
           "zerolinewidth": 2
          }
         }
        },
        "violinmode": "group",
        "width": 1200,
        "xaxis": {
         "anchor": "y",
         "domain": [
          0,
          1
         ],
         "title": {
          "text": "short_file"
         }
        },
        "yaxis": {
         "anchor": "x",
         "domain": [
          0,
          1
         ],
         "title": {
          "text": "mean_intensity"
         }
        }
       }
      }
     },
     "metadata": {},
     "output_type": "display_data"
    }
   ],
   "source": [
    "px.violin(df, x='short_file', y='mean_intensity', points='all', width=1200)"
   ]
  },
  {
   "cell_type": "markdown",
   "metadata": {},
   "source": [
    "## Part 6:  Aggregating"
   ]
  },
  {
   "cell_type": "markdown",
   "metadata": {},
   "source": [
    "There is pretty clearly a difference between the two, but it is not being captured here.  The likely problem is that transfection sucks and should never be used for quantitative experiments:  only some of the cells appear to be different in some way.  One solution is to assume that only 20% of cells are transfected, and then take the most dense 20% as an upper bound."
   ]
  },
  {
   "cell_type": "markdown",
   "metadata": {},
   "source": [
    ".agg() takes names like 'mean' and 'median', but will also take whatever function we give it.  I have defined a function that returns the 80th percentile below, use this in .agg() to calculate the 80th percentile of each file's spot density."
   ]
  },
  {
   "cell_type": "code",
   "execution_count": 27,
   "metadata": {},
   "outputs": [],
   "source": [
    "## DO NOT DELETE IN STUDENT VERSION ###\n",
    "\n",
    "def ptile(x):\n",
    "    return np.percentile(x, 80)"
   ]
  },
  {
   "cell_type": "code",
   "execution_count": 28,
   "metadata": {},
   "outputs": [
    {
     "data": {
      "text/html": [
       "<div>\n",
       "<style scoped>\n",
       "    .dataframe tbody tr th:only-of-type {\n",
       "        vertical-align: middle;\n",
       "    }\n",
       "\n",
       "    .dataframe tbody tr th {\n",
       "        vertical-align: top;\n",
       "    }\n",
       "\n",
       "    .dataframe thead th {\n",
       "        text-align: right;\n",
       "    }\n",
       "</style>\n",
       "<table border=\"1\" class=\"dataframe\">\n",
       "  <thead>\n",
       "    <tr style=\"text-align: right;\">\n",
       "      <th></th>\n",
       "      <th>chamber</th>\n",
       "      <th>short_file</th>\n",
       "      <th>mean_intensity</th>\n",
       "    </tr>\n",
       "  </thead>\n",
       "  <tbody>\n",
       "    <tr>\n",
       "      <th>0</th>\n",
       "      <td>1</td>\n",
       "      <td>chamber1KLF5in488SOX8in647-1.tif</td>\n",
       "      <td>0.000108</td>\n",
       "    </tr>\n",
       "    <tr>\n",
       "      <th>1</th>\n",
       "      <td>1</td>\n",
       "      <td>chamber1KLF5in488SOX8in647-2.tif</td>\n",
       "      <td>0.000092</td>\n",
       "    </tr>\n",
       "    <tr>\n",
       "      <th>2</th>\n",
       "      <td>1</td>\n",
       "      <td>chamber1KLF5in488SOX8in647-3.tif</td>\n",
       "      <td>0.000082</td>\n",
       "    </tr>\n",
       "    <tr>\n",
       "      <th>3</th>\n",
       "      <td>1</td>\n",
       "      <td>chamber1KLF5in488SOX8in647-4.tif</td>\n",
       "      <td>0.000107</td>\n",
       "    </tr>\n",
       "    <tr>\n",
       "      <th>4</th>\n",
       "      <td>2</td>\n",
       "      <td>chamber2KLF5in488SOX8in647-1.tif</td>\n",
       "      <td>0.000250</td>\n",
       "    </tr>\n",
       "    <tr>\n",
       "      <th>5</th>\n",
       "      <td>2</td>\n",
       "      <td>chamber2KLF5in488SOX8in647-2.tif</td>\n",
       "      <td>0.000203</td>\n",
       "    </tr>\n",
       "    <tr>\n",
       "      <th>6</th>\n",
       "      <td>2</td>\n",
       "      <td>chamber2KLF5in488SOX8in647-3.tif</td>\n",
       "      <td>0.000332</td>\n",
       "    </tr>\n",
       "    <tr>\n",
       "      <th>7</th>\n",
       "      <td>2</td>\n",
       "      <td>chamber2KLF5in488SOX8in647-4.tif</td>\n",
       "      <td>0.000289</td>\n",
       "    </tr>\n",
       "  </tbody>\n",
       "</table>\n",
       "</div>"
      ],
      "text/plain": [
       "  chamber                        short_file  mean_intensity\n",
       "0       1  chamber1KLF5in488SOX8in647-1.tif        0.000108\n",
       "1       1  chamber1KLF5in488SOX8in647-2.tif        0.000092\n",
       "2       1  chamber1KLF5in488SOX8in647-3.tif        0.000082\n",
       "3       1  chamber1KLF5in488SOX8in647-4.tif        0.000107\n",
       "4       2  chamber2KLF5in488SOX8in647-1.tif        0.000250\n",
       "5       2  chamber2KLF5in488SOX8in647-2.tif        0.000203\n",
       "6       2  chamber2KLF5in488SOX8in647-3.tif        0.000332\n",
       "7       2  chamber2KLF5in488SOX8in647-4.tif        0.000289"
      ]
     },
     "execution_count": 28,
     "metadata": {},
     "output_type": "execute_result"
    }
   ],
   "source": [
    "agged = df.groupby(['chamber', 'short_file'])['mean_intensity'].agg(ptile).reset_index()\n",
    "agged"
   ]
  },
  {
   "cell_type": "markdown",
   "metadata": {},
   "source": [
    "Now plot the results of the agged version in a box or violin plot."
   ]
  },
  {
   "cell_type": "code",
   "execution_count": 29,
   "metadata": {},
   "outputs": [
    {
     "data": {
      "application/vnd.plotly.v1+json": {
       "config": {
        "plotlyServerURL": "https://plot.ly"
       },
       "data": [
        {
         "alignmentgroup": "True",
         "boxpoints": "all",
         "hovertemplate": "chamber=%{x}<br>mean_intensity=%{y}<extra></extra>",
         "legendgroup": "",
         "marker": {
          "color": "#636efa"
         },
         "name": "",
         "notched": false,
         "offsetgroup": "",
         "orientation": "v",
         "showlegend": false,
         "type": "box",
         "x": [
          "1",
          "1",
          "1",
          "1",
          "2",
          "2",
          "2",
          "2"
         ],
         "x0": " ",
         "xaxis": "x",
         "y": [
          0.00010791539702101733,
          0.00009248127270938101,
          0.00008206369275220952,
          0.00010687795250343791,
          0.00024988925362623383,
          0.0002033893243629199,
          0.0003316206356634726,
          0.0002885524296487874
         ],
         "y0": " ",
         "yaxis": "y"
        }
       ],
       "layout": {
        "boxmode": "group",
        "legend": {
         "tracegroupgap": 0
        },
        "margin": {
         "t": 60
        },
        "template": {
         "data": {
          "bar": [
           {
            "error_x": {
             "color": "#2a3f5f"
            },
            "error_y": {
             "color": "#2a3f5f"
            },
            "marker": {
             "line": {
              "color": "#E5ECF6",
              "width": 0.5
             },
             "pattern": {
              "fillmode": "overlay",
              "size": 10,
              "solidity": 0.2
             }
            },
            "type": "bar"
           }
          ],
          "barpolar": [
           {
            "marker": {
             "line": {
              "color": "#E5ECF6",
              "width": 0.5
             },
             "pattern": {
              "fillmode": "overlay",
              "size": 10,
              "solidity": 0.2
             }
            },
            "type": "barpolar"
           }
          ],
          "carpet": [
           {
            "aaxis": {
             "endlinecolor": "#2a3f5f",
             "gridcolor": "white",
             "linecolor": "white",
             "minorgridcolor": "white",
             "startlinecolor": "#2a3f5f"
            },
            "baxis": {
             "endlinecolor": "#2a3f5f",
             "gridcolor": "white",
             "linecolor": "white",
             "minorgridcolor": "white",
             "startlinecolor": "#2a3f5f"
            },
            "type": "carpet"
           }
          ],
          "choropleth": [
           {
            "colorbar": {
             "outlinewidth": 0,
             "ticks": ""
            },
            "type": "choropleth"
           }
          ],
          "contour": [
           {
            "colorbar": {
             "outlinewidth": 0,
             "ticks": ""
            },
            "colorscale": [
             [
              0,
              "#0d0887"
             ],
             [
              0.1111111111111111,
              "#46039f"
             ],
             [
              0.2222222222222222,
              "#7201a8"
             ],
             [
              0.3333333333333333,
              "#9c179e"
             ],
             [
              0.4444444444444444,
              "#bd3786"
             ],
             [
              0.5555555555555556,
              "#d8576b"
             ],
             [
              0.6666666666666666,
              "#ed7953"
             ],
             [
              0.7777777777777778,
              "#fb9f3a"
             ],
             [
              0.8888888888888888,
              "#fdca26"
             ],
             [
              1,
              "#f0f921"
             ]
            ],
            "type": "contour"
           }
          ],
          "contourcarpet": [
           {
            "colorbar": {
             "outlinewidth": 0,
             "ticks": ""
            },
            "type": "contourcarpet"
           }
          ],
          "heatmap": [
           {
            "colorbar": {
             "outlinewidth": 0,
             "ticks": ""
            },
            "colorscale": [
             [
              0,
              "#0d0887"
             ],
             [
              0.1111111111111111,
              "#46039f"
             ],
             [
              0.2222222222222222,
              "#7201a8"
             ],
             [
              0.3333333333333333,
              "#9c179e"
             ],
             [
              0.4444444444444444,
              "#bd3786"
             ],
             [
              0.5555555555555556,
              "#d8576b"
             ],
             [
              0.6666666666666666,
              "#ed7953"
             ],
             [
              0.7777777777777778,
              "#fb9f3a"
             ],
             [
              0.8888888888888888,
              "#fdca26"
             ],
             [
              1,
              "#f0f921"
             ]
            ],
            "type": "heatmap"
           }
          ],
          "heatmapgl": [
           {
            "colorbar": {
             "outlinewidth": 0,
             "ticks": ""
            },
            "colorscale": [
             [
              0,
              "#0d0887"
             ],
             [
              0.1111111111111111,
              "#46039f"
             ],
             [
              0.2222222222222222,
              "#7201a8"
             ],
             [
              0.3333333333333333,
              "#9c179e"
             ],
             [
              0.4444444444444444,
              "#bd3786"
             ],
             [
              0.5555555555555556,
              "#d8576b"
             ],
             [
              0.6666666666666666,
              "#ed7953"
             ],
             [
              0.7777777777777778,
              "#fb9f3a"
             ],
             [
              0.8888888888888888,
              "#fdca26"
             ],
             [
              1,
              "#f0f921"
             ]
            ],
            "type": "heatmapgl"
           }
          ],
          "histogram": [
           {
            "marker": {
             "pattern": {
              "fillmode": "overlay",
              "size": 10,
              "solidity": 0.2
             }
            },
            "type": "histogram"
           }
          ],
          "histogram2d": [
           {
            "colorbar": {
             "outlinewidth": 0,
             "ticks": ""
            },
            "colorscale": [
             [
              0,
              "#0d0887"
             ],
             [
              0.1111111111111111,
              "#46039f"
             ],
             [
              0.2222222222222222,
              "#7201a8"
             ],
             [
              0.3333333333333333,
              "#9c179e"
             ],
             [
              0.4444444444444444,
              "#bd3786"
             ],
             [
              0.5555555555555556,
              "#d8576b"
             ],
             [
              0.6666666666666666,
              "#ed7953"
             ],
             [
              0.7777777777777778,
              "#fb9f3a"
             ],
             [
              0.8888888888888888,
              "#fdca26"
             ],
             [
              1,
              "#f0f921"
             ]
            ],
            "type": "histogram2d"
           }
          ],
          "histogram2dcontour": [
           {
            "colorbar": {
             "outlinewidth": 0,
             "ticks": ""
            },
            "colorscale": [
             [
              0,
              "#0d0887"
             ],
             [
              0.1111111111111111,
              "#46039f"
             ],
             [
              0.2222222222222222,
              "#7201a8"
             ],
             [
              0.3333333333333333,
              "#9c179e"
             ],
             [
              0.4444444444444444,
              "#bd3786"
             ],
             [
              0.5555555555555556,
              "#d8576b"
             ],
             [
              0.6666666666666666,
              "#ed7953"
             ],
             [
              0.7777777777777778,
              "#fb9f3a"
             ],
             [
              0.8888888888888888,
              "#fdca26"
             ],
             [
              1,
              "#f0f921"
             ]
            ],
            "type": "histogram2dcontour"
           }
          ],
          "mesh3d": [
           {
            "colorbar": {
             "outlinewidth": 0,
             "ticks": ""
            },
            "type": "mesh3d"
           }
          ],
          "parcoords": [
           {
            "line": {
             "colorbar": {
              "outlinewidth": 0,
              "ticks": ""
             }
            },
            "type": "parcoords"
           }
          ],
          "pie": [
           {
            "automargin": true,
            "type": "pie"
           }
          ],
          "scatter": [
           {
            "fillpattern": {
             "fillmode": "overlay",
             "size": 10,
             "solidity": 0.2
            },
            "type": "scatter"
           }
          ],
          "scatter3d": [
           {
            "line": {
             "colorbar": {
              "outlinewidth": 0,
              "ticks": ""
             }
            },
            "marker": {
             "colorbar": {
              "outlinewidth": 0,
              "ticks": ""
             }
            },
            "type": "scatter3d"
           }
          ],
          "scattercarpet": [
           {
            "marker": {
             "colorbar": {
              "outlinewidth": 0,
              "ticks": ""
             }
            },
            "type": "scattercarpet"
           }
          ],
          "scattergeo": [
           {
            "marker": {
             "colorbar": {
              "outlinewidth": 0,
              "ticks": ""
             }
            },
            "type": "scattergeo"
           }
          ],
          "scattergl": [
           {
            "marker": {
             "colorbar": {
              "outlinewidth": 0,
              "ticks": ""
             }
            },
            "type": "scattergl"
           }
          ],
          "scattermapbox": [
           {
            "marker": {
             "colorbar": {
              "outlinewidth": 0,
              "ticks": ""
             }
            },
            "type": "scattermapbox"
           }
          ],
          "scatterpolar": [
           {
            "marker": {
             "colorbar": {
              "outlinewidth": 0,
              "ticks": ""
             }
            },
            "type": "scatterpolar"
           }
          ],
          "scatterpolargl": [
           {
            "marker": {
             "colorbar": {
              "outlinewidth": 0,
              "ticks": ""
             }
            },
            "type": "scatterpolargl"
           }
          ],
          "scatterternary": [
           {
            "marker": {
             "colorbar": {
              "outlinewidth": 0,
              "ticks": ""
             }
            },
            "type": "scatterternary"
           }
          ],
          "surface": [
           {
            "colorbar": {
             "outlinewidth": 0,
             "ticks": ""
            },
            "colorscale": [
             [
              0,
              "#0d0887"
             ],
             [
              0.1111111111111111,
              "#46039f"
             ],
             [
              0.2222222222222222,
              "#7201a8"
             ],
             [
              0.3333333333333333,
              "#9c179e"
             ],
             [
              0.4444444444444444,
              "#bd3786"
             ],
             [
              0.5555555555555556,
              "#d8576b"
             ],
             [
              0.6666666666666666,
              "#ed7953"
             ],
             [
              0.7777777777777778,
              "#fb9f3a"
             ],
             [
              0.8888888888888888,
              "#fdca26"
             ],
             [
              1,
              "#f0f921"
             ]
            ],
            "type": "surface"
           }
          ],
          "table": [
           {
            "cells": {
             "fill": {
              "color": "#EBF0F8"
             },
             "line": {
              "color": "white"
             }
            },
            "header": {
             "fill": {
              "color": "#C8D4E3"
             },
             "line": {
              "color": "white"
             }
            },
            "type": "table"
           }
          ]
         },
         "layout": {
          "annotationdefaults": {
           "arrowcolor": "#2a3f5f",
           "arrowhead": 0,
           "arrowwidth": 1
          },
          "autotypenumbers": "strict",
          "coloraxis": {
           "colorbar": {
            "outlinewidth": 0,
            "ticks": ""
           }
          },
          "colorscale": {
           "diverging": [
            [
             0,
             "#8e0152"
            ],
            [
             0.1,
             "#c51b7d"
            ],
            [
             0.2,
             "#de77ae"
            ],
            [
             0.3,
             "#f1b6da"
            ],
            [
             0.4,
             "#fde0ef"
            ],
            [
             0.5,
             "#f7f7f7"
            ],
            [
             0.6,
             "#e6f5d0"
            ],
            [
             0.7,
             "#b8e186"
            ],
            [
             0.8,
             "#7fbc41"
            ],
            [
             0.9,
             "#4d9221"
            ],
            [
             1,
             "#276419"
            ]
           ],
           "sequential": [
            [
             0,
             "#0d0887"
            ],
            [
             0.1111111111111111,
             "#46039f"
            ],
            [
             0.2222222222222222,
             "#7201a8"
            ],
            [
             0.3333333333333333,
             "#9c179e"
            ],
            [
             0.4444444444444444,
             "#bd3786"
            ],
            [
             0.5555555555555556,
             "#d8576b"
            ],
            [
             0.6666666666666666,
             "#ed7953"
            ],
            [
             0.7777777777777778,
             "#fb9f3a"
            ],
            [
             0.8888888888888888,
             "#fdca26"
            ],
            [
             1,
             "#f0f921"
            ]
           ],
           "sequentialminus": [
            [
             0,
             "#0d0887"
            ],
            [
             0.1111111111111111,
             "#46039f"
            ],
            [
             0.2222222222222222,
             "#7201a8"
            ],
            [
             0.3333333333333333,
             "#9c179e"
            ],
            [
             0.4444444444444444,
             "#bd3786"
            ],
            [
             0.5555555555555556,
             "#d8576b"
            ],
            [
             0.6666666666666666,
             "#ed7953"
            ],
            [
             0.7777777777777778,
             "#fb9f3a"
            ],
            [
             0.8888888888888888,
             "#fdca26"
            ],
            [
             1,
             "#f0f921"
            ]
           ]
          },
          "colorway": [
           "#636efa",
           "#EF553B",
           "#00cc96",
           "#ab63fa",
           "#FFA15A",
           "#19d3f3",
           "#FF6692",
           "#B6E880",
           "#FF97FF",
           "#FECB52"
          ],
          "font": {
           "color": "#2a3f5f"
          },
          "geo": {
           "bgcolor": "white",
           "lakecolor": "white",
           "landcolor": "#E5ECF6",
           "showlakes": true,
           "showland": true,
           "subunitcolor": "white"
          },
          "hoverlabel": {
           "align": "left"
          },
          "hovermode": "closest",
          "mapbox": {
           "style": "light"
          },
          "paper_bgcolor": "white",
          "plot_bgcolor": "#E5ECF6",
          "polar": {
           "angularaxis": {
            "gridcolor": "white",
            "linecolor": "white",
            "ticks": ""
           },
           "bgcolor": "#E5ECF6",
           "radialaxis": {
            "gridcolor": "white",
            "linecolor": "white",
            "ticks": ""
           }
          },
          "scene": {
           "xaxis": {
            "backgroundcolor": "#E5ECF6",
            "gridcolor": "white",
            "gridwidth": 2,
            "linecolor": "white",
            "showbackground": true,
            "ticks": "",
            "zerolinecolor": "white"
           },
           "yaxis": {
            "backgroundcolor": "#E5ECF6",
            "gridcolor": "white",
            "gridwidth": 2,
            "linecolor": "white",
            "showbackground": true,
            "ticks": "",
            "zerolinecolor": "white"
           },
           "zaxis": {
            "backgroundcolor": "#E5ECF6",
            "gridcolor": "white",
            "gridwidth": 2,
            "linecolor": "white",
            "showbackground": true,
            "ticks": "",
            "zerolinecolor": "white"
           }
          },
          "shapedefaults": {
           "line": {
            "color": "#2a3f5f"
           }
          },
          "ternary": {
           "aaxis": {
            "gridcolor": "white",
            "linecolor": "white",
            "ticks": ""
           },
           "baxis": {
            "gridcolor": "white",
            "linecolor": "white",
            "ticks": ""
           },
           "bgcolor": "#E5ECF6",
           "caxis": {
            "gridcolor": "white",
            "linecolor": "white",
            "ticks": ""
           }
          },
          "title": {
           "x": 0.05
          },
          "xaxis": {
           "automargin": true,
           "gridcolor": "white",
           "linecolor": "white",
           "ticks": "",
           "title": {
            "standoff": 15
           },
           "zerolinecolor": "white",
           "zerolinewidth": 2
          },
          "yaxis": {
           "automargin": true,
           "gridcolor": "white",
           "linecolor": "white",
           "ticks": "",
           "title": {
            "standoff": 15
           },
           "zerolinecolor": "white",
           "zerolinewidth": 2
          }
         }
        },
        "width": 600,
        "xaxis": {
         "anchor": "y",
         "domain": [
          0,
          1
         ],
         "title": {
          "text": "chamber"
         }
        },
        "yaxis": {
         "anchor": "x",
         "domain": [
          0,
          1
         ],
         "title": {
          "text": "mean_intensity"
         }
        }
       }
      }
     },
     "metadata": {},
     "output_type": "display_data"
    }
   ],
   "source": [
    "px.box(agged, x='chamber', y='mean_intensity', points='all', width=600)"
   ]
  },
  {
   "cell_type": "markdown",
   "metadata": {},
   "source": [
    "## Part 7: Statistics"
   ]
  },
  {
   "cell_type": "markdown",
   "metadata": {},
   "source": [
    "Calculate a p-value for our experiment, assuming each image is an independent experiment."
   ]
  },
  {
   "cell_type": "code",
   "execution_count": 30,
   "metadata": {},
   "outputs": [
    {
     "data": {
      "text/plain": [
       "TtestResult(statistic=-6.100448558151106, pvalue=0.0008839080892721419, df=6.0)"
      ]
     },
     "execution_count": 30,
     "metadata": {},
     "output_type": "execute_result"
    }
   ],
   "source": [
    "group1 = agged[agged['chamber']=='1']['mean_intensity']\n",
    "group2 = agged[agged['chamber']=='2']['mean_intensity']\n",
    "\n",
    "ttest_ind(group1, group2)\n"
   ]
  },
  {
   "cell_type": "code",
   "execution_count": null,
   "metadata": {},
   "outputs": [],
   "source": []
  }
 ],
 "metadata": {
  "kernelspec": {
   "display_name": "napari",
   "language": "python",
   "name": "python3"
  },
  "language_info": {
   "codemirror_mode": {
    "name": "ipython",
    "version": 3
   },
   "file_extension": ".py",
   "mimetype": "text/x-python",
   "name": "python",
   "nbconvert_exporter": "python",
   "pygments_lexer": "ipython3",
   "version": "3.10.13"
  }
 },
 "nbformat": 4,
 "nbformat_minor": 2
}
