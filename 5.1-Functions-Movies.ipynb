{
 "cells": [
  {
   "cell_type": "markdown",
   "metadata": {},
   "source": [
    "# Part 5A:  Functions and Movies"
   ]
  },
  {
   "cell_type": "code",
   "execution_count": 1,
   "metadata": {},
   "outputs": [],
   "source": [
    "import numpy as np\n",
    "import pandas as pd\n",
    "import napari\n",
    "import tifffile\n",
    "import skimage as ski\n",
    "import scipy.ndimage as ndi\n",
    "import glob\n",
    "import cellpose.models as models\n",
    "import matplotlib.pyplot as plt\n",
    "import cv2\n",
    "import dask\n",
    "import cellpose.models as models\n",
    "import sutils\n",
    "import plotly.graph_objs as go\n",
    "import plotly.express as px\n",
    "\n",
    "import glob"
   ]
  },
  {
   "cell_type": "code",
   "execution_count": 2,
   "metadata": {},
   "outputs": [],
   "source": [
    "viewer = napari.Viewer()"
   ]
  },
  {
   "cell_type": "code",
   "execution_count": null,
   "metadata": {},
   "outputs": [],
   "source": []
  },
  {
   "cell_type": "markdown",
   "metadata": {},
   "source": [
    "# Defining Functions"
   ]
  },
  {
   "cell_type": "markdown",
   "metadata": {},
   "source": [
    "We have used a lot of functions, but never written our own.  Sometimes it is handy if we are running the same thing multiple times in multiple places to have the code written only once, that way any changes/improvements made to it only need to happen once and not copy pasted at multiple locations."
   ]
  },
  {
   "cell_type": "markdown",
   "metadata": {},
   "source": [
    "First let's get an image from the worm datasets to work on."
   ]
  },
  {
   "cell_type": "code",
   "execution_count": 28,
   "metadata": {},
   "outputs": [],
   "source": [
    "file_names = glob.glob('files/*/*projection.tif')\n",
    "img = ski.io.imread(file_names[0])\n",
    "DAPI = img[:,:,2]\n",
    "h3p = img[:,:,0]\n"
   ]
  },
  {
   "cell_type": "markdown",
   "metadata": {},
   "source": [
    "### Thresholding function"
   ]
  },
  {
   "cell_type": "markdown",
   "metadata": {},
   "source": [
    "If we find ourselves doing the same gaussian blur/threshold/object size filtering step over and over again, we might want a function we can use to do that."
   ]
  },
  {
   "cell_type": "code",
   "execution_count": 4,
   "metadata": {},
   "outputs": [],
   "source": [
    "def find_objects(input_img, blur_radius, threshold, min_size):\n",
    "    # blur the image\n",
    "    img = ndi.gaussian_filter(input_img, blur_radius)\n",
    "    # find the threshold\n",
    "    mask = img > threshold\n",
    "    # label the thresholded image\n",
    "    label_img, num_features = ndi.label(mask)\n",
    "    # remove small objects\n",
    "    label_img = ski.morphology.remove_small_objects(label_img, min_size=min_size)\n",
    "    return label_img"
   ]
  },
  {
   "cell_type": "markdown",
   "metadata": {},
   "source": [
    "Making a function requires the 'def' keyword to show that you are defining a new function, the name of the function, parentheses, an argument list, a colon, and indentation.\n",
    "\n",
    "Frequently you will want to return something, for instance in this case a label_img with our filtered objects.  "
   ]
  },
  {
   "cell_type": "markdown",
   "metadata": {},
   "source": [
    "Now if we want to use this function on a loaded image..."
   ]
  },
  {
   "cell_type": "code",
   "execution_count": null,
   "metadata": {},
   "outputs": [],
   "source": [
    "label_img = find_objects(DAPI, 30, 150, 1000)\n",
    "\n",
    "viewer.layers.clear()\n",
    "viewer.add_image(DAPI, name='DAPI', colormap='blue', blending='additive')\n",
    "viewer.add_labels(label_img, name='segmentation', opacity=0.3, blending='additive')"
   ]
  },
  {
   "cell_type": "code",
   "execution_count": 13,
   "metadata": {},
   "outputs": [
    {
     "data": {
      "text/plain": [
       "<Labels layer 'segmentation' at 0x1faf4fce920>"
      ]
     },
     "execution_count": 13,
     "metadata": {},
     "output_type": "execute_result"
    }
   ],
   "source": []
  },
  {
   "cell_type": "markdown",
   "metadata": {},
   "source": [
    "Sometimes it is annoying trying to remember what order our input arguments are in, so we can use the argument names in our function call.  If we use the argument names, they can then be in any order."
   ]
  },
  {
   "cell_type": "code",
   "execution_count": 10,
   "metadata": {},
   "outputs": [
    {
     "name": "stderr",
     "output_type": "stream",
     "text": [
      "C:\\Users\\smc\\AppData\\Local\\Temp\\ipykernel_12068\\3237256436.py:9: UserWarning: Only one label was provided to `remove_small_objects`. Did you mean to use a boolean array?\n",
      "  lab = ski.morphology.remove_small_objects(lab, min_size=min_size)\n"
     ]
    }
   ],
   "source": [
    "label_img = find_objects(DAPI, blur_radius=30, threshold=150, min_size=1000)\n",
    "\n",
    "viewer.layers.clear()\n",
    "viewer.add_image(DAPI, name='DAPI', colormap='blue', blending='additive')\n",
    "viewer.add_labels(label_img, name='segmentation', opacity=0.3, blending='additive')"
   ]
  },
  {
   "cell_type": "markdown",
   "metadata": {},
   "source": [
    "Note that not all arguments have to be named, if we are reasonably certain the first argument is always our image we can just leave it at as the first and not bother."
   ]
  },
  {
   "cell_type": "markdown",
   "metadata": {},
   "source": [
    "## Optional arguments"
   ]
  },
  {
   "cell_type": "markdown",
   "metadata": {},
   "source": [
    "What if 9 times out of 10 you are using the same blur_radius and are tired of having to specify it?  Functions can have arguments be set to certain values by default, but once you define ONE default argument, all subsequent arguments must also have defaults so we will move it to the end."
   ]
  },
  {
   "cell_type": "code",
   "execution_count": 12,
   "metadata": {},
   "outputs": [],
   "source": [
    "def find_objects(input_img, threshold, min_size, blur_radius=30):\n",
    "    # blur the image\n",
    "    img = ndi.gaussian_filter(input_img, blur_radius)\n",
    "    # find the threshold\n",
    "    mask = img > threshold\n",
    "    # label the thresholded image\n",
    "    label_img, num_features = ndi.label(mask)\n",
    "    # remove small objects\n",
    "    label_img = ski.morphology.remove_small_objects(label_img, min_size=min_size)\n",
    "    return label_img"
   ]
  },
  {
   "cell_type": "markdown",
   "metadata": {},
   "source": [
    "Now we can simplify our function call"
   ]
  },
  {
   "cell_type": "code",
   "execution_count": 14,
   "metadata": {},
   "outputs": [
    {
     "name": "stderr",
     "output_type": "stream",
     "text": [
      "C:\\Users\\smc\\AppData\\Local\\Temp\\ipykernel_12068\\1734813326.py:9: UserWarning: Only one label was provided to `remove_small_objects`. Did you mean to use a boolean array?\n",
      "  label_img = ski.morphology.remove_small_objects(label_img, min_size=min_size)\n"
     ]
    }
   ],
   "source": [
    "label_img = find_objects(DAPI, threshold=150, min_size=1000)\n",
    "\n",
    "viewer.layers.clear()\n",
    "viewer.add_image(DAPI, name='DAPI', colormap='blue', blending='additive')\n",
    "viewer.add_labels(label_img, name='segmentation', opacity=0.3, blending='additive')"
   ]
  },
  {
   "cell_type": "code",
   "execution_count": 15,
   "metadata": {},
   "outputs": [
    {
     "data": {
      "text/plain": [
       "<Labels layer 'segmentation' at 0x1fa8971ed40>"
      ]
     },
     "execution_count": 15,
     "metadata": {},
     "output_type": "execute_result"
    }
   ],
   "source": []
  },
  {
   "cell_type": "markdown",
   "metadata": {},
   "source": [
    "### Displaying as option"
   ]
  },
  {
   "cell_type": "markdown",
   "metadata": {},
   "source": [
    "Now notice how it is getting annoying having to run viewer.layers.clear/add_image/add_labels every time we want to check the result?  Let's put that into the function as an option instead and make our lives easier.\n",
    "\n",
    "We should send the napari viewer object to the function, functions should not mess with any variables that are not sent to it by arguments."
   ]
  },
  {
   "cell_type": "code",
   "execution_count": 16,
   "metadata": {},
   "outputs": [],
   "source": [
    "def find_objects(input_img, threshold, min_size, blur_radius=30, display=False, viewer=None):\n",
    "    # blur the image\n",
    "    img = ndi.gaussian_filter(input_img, blur_radius)\n",
    "    # find the threshold\n",
    "    mask = img > threshold\n",
    "    # label the thresholded image\n",
    "    label_img, num_features = ndi.label(mask)\n",
    "    # remove small objects\n",
    "    label_img = ski.morphology.remove_small_objects(label_img, min_size=min_size)\n",
    "\n",
    "    # Optional: display the results\n",
    "    if display:\n",
    "        viewer.layers.clear()\n",
    "        viewer.add_image(input_img, name='DAPI', colormap='blue', blending='additive')\n",
    "        viewer.add_labels(label_img, name='segmentation', opacity=0.3, blending='additive')\n",
    "\n",
    "    return label_img"
   ]
  },
  {
   "cell_type": "code",
   "execution_count": 47,
   "metadata": {},
   "outputs": [
    {
     "name": "stderr",
     "output_type": "stream",
     "text": [
      "C:\\Users\\smc\\AppData\\Local\\Temp\\ipykernel_12068\\384114898.py:9: UserWarning: Only one label was provided to `remove_small_objects`. Did you mean to use a boolean array?\n",
      "  label_img = ski.morphology.remove_small_objects(label_img, min_size=min_size)\n"
     ]
    }
   ],
   "source": [
    "label_img = find_objects(DAPI, threshold=150, min_size=1000, display=True, viewer=viewer)"
   ]
  },
  {
   "cell_type": "markdown",
   "metadata": {},
   "source": [
    "## Multiple return values"
   ]
  },
  {
   "cell_type": "markdown",
   "metadata": {},
   "source": [
    "Let's do the same with a peak finding function, this time we will have it return two arguments though:  the list of peaks from ski.feature.peak_local_max and the peak_img which has 0 everywhere except at pixels that are centered on a found peak."
   ]
  },
  {
   "cell_type": "code",
   "execution_count": 48,
   "metadata": {},
   "outputs": [],
   "source": [
    "def find_peaks(input_img, sigma=8, min_distance=3, threshold_abs=0.5, display=False, viewer=None, clear=False):\n",
    "    # compute the Laplacian of Gaussian\n",
    "    LoG = -1000.0 * ndi.gaussian_laplace(input_img/1000.0, sigma=sigma)\n",
    "    # find the peaks\n",
    "    peaks = ski.feature.peak_local_max(LoG, min_distance=min_distance, threshold_abs=threshold_abs)\n",
    "    # create an image with the peaks\n",
    "    peak_img = np.zeros_like(LoG)\n",
    "    peak_img[peaks[:,0], peaks[:,1]] = 1\n",
    "\n",
    "    # Optional: display the results\n",
    "    if display:\n",
    "        if clear: \n",
    "            viewer.layers.clear()\n",
    "        viewer.add_image(input_img, name='h3p', colormap='blue', blending='additive')\n",
    "        viewer.add_image(LoG, name='LoG', colormap='blue', blending='additive', visible=False)\n",
    "        viewer.add_points(peaks, name='peaks', size=5, opacity=0.3)\n",
    "        viewer.add_image(peak_img, name='peaks_img', opacity=0.3, blending='additive')\n",
    "\n",
    "    return peaks, peak_img\n",
    "\n"
   ]
  },
  {
   "cell_type": "markdown",
   "metadata": {},
   "source": [
    "Putting both our functions together"
   ]
  },
  {
   "cell_type": "code",
   "execution_count": 50,
   "metadata": {},
   "outputs": [
    {
     "name": "stderr",
     "output_type": "stream",
     "text": [
      "C:\\Users\\smc\\AppData\\Local\\Temp\\ipykernel_12068\\384114898.py:9: UserWarning: Only one label was provided to `remove_small_objects`. Did you mean to use a boolean array?\n",
      "  label_img = ski.morphology.remove_small_objects(label_img, min_size=min_size)\n"
     ]
    }
   ],
   "source": [
    "label_img = find_objects(DAPI, threshold=150, min_size=1000, display=True, viewer=viewer)\n",
    "pks, pk_img = find_peaks(h3p, display=True, viewer=viewer)"
   ]
  },
  {
   "cell_type": "markdown",
   "metadata": {},
   "source": [
    "## Multiple layers of functions"
   ]
  },
  {
   "cell_type": "markdown",
   "metadata": {},
   "source": [
    "In our last class, the pipeline was to use regionprops on the results of label_img and pk_img, let's write a function to do that and return a table."
   ]
  },
  {
   "cell_type": "code",
   "execution_count": 51,
   "metadata": {},
   "outputs": [],
   "source": [
    "def get_table(DAPI, h3p, display=False, viewer=None):\n",
    "    # Call our first function for segmenting worm\n",
    "    label_img = find_objects(DAPI, threshold=150, min_size=1000, display=display, viewer=viewer)\n",
    "    # Then our second function for finding h3p spots\n",
    "    pks, pk_img = find_peaks(h3p, display=display, viewer=viewer, clear=True)\n",
    "\n",
    "    # Combine and calculate the counts\n",
    "    results = pd.DataFrame(ski.measure.regionprops_table(label_img, intensity_image=pk_img, properties=['label', 'area', 'mean_intensity']))\n",
    "    results['counts'] = results['mean_intensity'] * results['area']\n",
    "\n",
    "    return results\n",
    "    "
   ]
  },
  {
   "cell_type": "code",
   "execution_count": 52,
   "metadata": {},
   "outputs": [
    {
     "name": "stderr",
     "output_type": "stream",
     "text": [
      "C:\\Users\\smc\\AppData\\Local\\Temp\\ipykernel_12068\\384114898.py:9: UserWarning: Only one label was provided to `remove_small_objects`. Did you mean to use a boolean array?\n",
      "  label_img = ski.morphology.remove_small_objects(label_img, min_size=min_size)\n"
     ]
    },
    {
     "data": {
      "text/html": [
       "<div>\n",
       "<style scoped>\n",
       "    .dataframe tbody tr th:only-of-type {\n",
       "        vertical-align: middle;\n",
       "    }\n",
       "\n",
       "    .dataframe tbody tr th {\n",
       "        vertical-align: top;\n",
       "    }\n",
       "\n",
       "    .dataframe thead th {\n",
       "        text-align: right;\n",
       "    }\n",
       "</style>\n",
       "<table border=\"1\" class=\"dataframe\">\n",
       "  <thead>\n",
       "    <tr style=\"text-align: right;\">\n",
       "      <th></th>\n",
       "      <th>label</th>\n",
       "      <th>area</th>\n",
       "      <th>mean_intensity</th>\n",
       "      <th>counts</th>\n",
       "    </tr>\n",
       "  </thead>\n",
       "  <tbody>\n",
       "    <tr>\n",
       "      <th>0</th>\n",
       "      <td>1</td>\n",
       "      <td>1594637.0</td>\n",
       "      <td>0.00016</td>\n",
       "      <td>255.0</td>\n",
       "    </tr>\n",
       "  </tbody>\n",
       "</table>\n",
       "</div>"
      ],
      "text/plain": [
       "   label       area  mean_intensity  counts\n",
       "0      1  1594637.0         0.00016   255.0"
      ]
     },
     "execution_count": 52,
     "metadata": {},
     "output_type": "execute_result"
    }
   ],
   "source": [
    "get_table(DAPI, h3p, display=True, viewer=viewer)"
   ]
  },
  {
   "cell_type": "markdown",
   "metadata": {},
   "source": [
    "But finally, we would really like something that takes a filename and gives us back the table."
   ]
  },
  {
   "cell_type": "code",
   "execution_count": 53,
   "metadata": {},
   "outputs": [],
   "source": [
    "def process_file(fname, display=False, viewer=None):\n",
    "    img = ski.io.imread(fname)\n",
    "    DAPI = img[:,:,2]\n",
    "    h3p = img[:,:,0]\n",
    "    return get_table(DAPI, h3p, display, viewer)\n"
   ]
  },
  {
   "cell_type": "code",
   "execution_count": 54,
   "metadata": {},
   "outputs": [
    {
     "name": "stderr",
     "output_type": "stream",
     "text": [
      "C:\\Users\\smc\\AppData\\Local\\Temp\\ipykernel_12068\\384114898.py:9: UserWarning: Only one label was provided to `remove_small_objects`. Did you mean to use a boolean array?\n",
      "  label_img = ski.morphology.remove_small_objects(label_img, min_size=min_size)\n"
     ]
    },
    {
     "data": {
      "text/html": [
       "<div>\n",
       "<style scoped>\n",
       "    .dataframe tbody tr th:only-of-type {\n",
       "        vertical-align: middle;\n",
       "    }\n",
       "\n",
       "    .dataframe tbody tr th {\n",
       "        vertical-align: top;\n",
       "    }\n",
       "\n",
       "    .dataframe thead th {\n",
       "        text-align: right;\n",
       "    }\n",
       "</style>\n",
       "<table border=\"1\" class=\"dataframe\">\n",
       "  <thead>\n",
       "    <tr style=\"text-align: right;\">\n",
       "      <th></th>\n",
       "      <th>label</th>\n",
       "      <th>area</th>\n",
       "      <th>mean_intensity</th>\n",
       "      <th>counts</th>\n",
       "    </tr>\n",
       "  </thead>\n",
       "  <tbody>\n",
       "    <tr>\n",
       "      <th>0</th>\n",
       "      <td>1</td>\n",
       "      <td>5191331.0</td>\n",
       "      <td>0.000017</td>\n",
       "      <td>89.0</td>\n",
       "    </tr>\n",
       "  </tbody>\n",
       "</table>\n",
       "</div>"
      ],
      "text/plain": [
       "   label       area  mean_intensity  counts\n",
       "0      1  5191331.0        0.000017    89.0"
      ]
     },
     "execution_count": 54,
     "metadata": {},
     "output_type": "execute_result"
    }
   ],
   "source": [
    "process_file(file_names[5], display=True, viewer=viewer)"
   ]
  },
  {
   "cell_type": "markdown",
   "metadata": {},
   "source": [
    "### Looping over files"
   ]
  },
  {
   "cell_type": "code",
   "execution_count": 56,
   "metadata": {},
   "outputs": [
    {
     "name": "stderr",
     "output_type": "stream",
     "text": [
      "C:\\Users\\smc\\AppData\\Local\\Temp\\ipykernel_12068\\384114898.py:9: UserWarning: Only one label was provided to `remove_small_objects`. Did you mean to use a boolean array?\n",
      "  label_img = ski.morphology.remove_small_objects(label_img, min_size=min_size)\n",
      "C:\\Users\\smc\\AppData\\Local\\Temp\\ipykernel_12068\\384114898.py:9: UserWarning: Only one label was provided to `remove_small_objects`. Did you mean to use a boolean array?\n",
      "  label_img = ski.morphology.remove_small_objects(label_img, min_size=min_size)\n",
      "C:\\Users\\smc\\AppData\\Local\\Temp\\ipykernel_12068\\384114898.py:9: UserWarning: Only one label was provided to `remove_small_objects`. Did you mean to use a boolean array?\n",
      "  label_img = ski.morphology.remove_small_objects(label_img, min_size=min_size)\n",
      "C:\\Users\\smc\\AppData\\Local\\Temp\\ipykernel_12068\\384114898.py:9: UserWarning: Only one label was provided to `remove_small_objects`. Did you mean to use a boolean array?\n",
      "  label_img = ski.morphology.remove_small_objects(label_img, min_size=min_size)\n",
      "C:\\Users\\smc\\AppData\\Local\\Temp\\ipykernel_12068\\384114898.py:9: UserWarning: Only one label was provided to `remove_small_objects`. Did you mean to use a boolean array?\n",
      "  label_img = ski.morphology.remove_small_objects(label_img, min_size=min_size)\n",
      "C:\\Users\\smc\\AppData\\Local\\Temp\\ipykernel_12068\\384114898.py:9: UserWarning: Only one label was provided to `remove_small_objects`. Did you mean to use a boolean array?\n",
      "  label_img = ski.morphology.remove_small_objects(label_img, min_size=min_size)\n"
     ]
    }
   ],
   "source": [
    "all_results = []\n",
    "for fname in file_names:\n",
    "    current_results = process_file(fname)\n",
    "    current_results['file'] = fname\n",
    "    all_results.append(current_results)\n",
    "\n",
    "df = pd.concat(all_results)"
   ]
  },
  {
   "cell_type": "markdown",
   "metadata": {},
   "source": [
    "Compare this with the loop we had before"
   ]
  },
  {
   "cell_type": "code",
   "execution_count": null,
   "metadata": {},
   "outputs": [],
   "source": [
    "all_results = []\n",
    "\n",
    "for fname in file_names:\n",
    "    print(fname)\n",
    "    img = ski.io.imread(fname)\n",
    "\n",
    "    DAPI = img[:, :, 2]\n",
    "    smoothed = ndi.gaussian_filter(DAPI, 30)\n",
    "    thresholded = smoothed > 150\n",
    "    labeled_img, object_count = ndi.label(thresholded)\n",
    "    labeled_img = sutils.remove_objects(labeled_img, area_min=1000, area_max=100000000)\n",
    "\n",
    "    h3p = img[:,:,0]\n",
    "    LoG = -1000.0 * ndi.gaussian_laplace(h3p/1000.0, sigma=8)\n",
    "    peaks = ski.feature.peak_local_max(LoG, min_distance=3, threshold_abs=0.5)\n",
    "    peak_img = np.zeros_like(LoG)\n",
    "    peak_img[peaks[:,0], peaks[:,1]] = 1\n",
    "\n",
    "    results = pd.DataFrame(ski.measure.regionprops_table(labeled_img, intensity_image=peak_img, properties=['label', 'area', 'mean_intensity']))\n",
    "    results['counts'] = results['mean_intensity'] * results['area']\n",
    "    \n",
    "    results['file'] = fname\n",
    "    all_results.append(results)\n",
    "\n",
    "    # New stuff for saving our intermediate files\n",
    "    combined_img = np.array([DAPI, labeled_img, h3p, LoG, peak_img])\n",
    "    combined_img = combined_img.astype(np.single)\n",
    "    output_filename = fname + 'f'\n",
    "    ski.io.imsave(output_filename, combined_img,  imagej=True, metadata={'axes': 'CYX'})\n"
   ]
  },
  {
   "cell_type": "markdown",
   "metadata": {},
   "source": [
    "By breaking our workflow into individual functions, we can troubleshoot those individually on single files and then re-use the code in the file processing loop without having to copy paste.  We also make it easier to use in the future."
   ]
  },
  {
   "cell_type": "code",
   "execution_count": null,
   "metadata": {},
   "outputs": [],
   "source": []
  },
  {
   "cell_type": "markdown",
   "metadata": {},
   "source": [
    "# Making movies"
   ]
  },
  {
   "cell_type": "code",
   "execution_count": 69,
   "metadata": {},
   "outputs": [],
   "source": [
    "viewer = napari.Viewer()"
   ]
  },
  {
   "cell_type": "code",
   "execution_count": 70,
   "metadata": {},
   "outputs": [
    {
     "data": {
      "text/plain": [
       "[<Image layer 'Image' at 0x1fa89253340>,\n",
       " <Image layer 'Image [1]' at 0x1fa89cc2140>]"
      ]
     },
     "execution_count": 70,
     "metadata": {},
     "output_type": "execute_result"
    }
   ],
   "source": [
    "img = ski.io.imread('files/Neuromast.tif')\n",
    "\n",
    "viewer.layers.clear()\n",
    "viewer.add_image(img, channel_axis=2, scale=[1,0.5,.16,.16], colormap=['red', 'gray'])"
   ]
  },
  {
   "cell_type": "code",
   "execution_count": null,
   "metadata": {},
   "outputs": [],
   "source": []
  },
  {
   "cell_type": "code",
   "execution_count": null,
   "metadata": {},
   "outputs": [],
   "source": []
  },
  {
   "cell_type": "code",
   "execution_count": 63,
   "metadata": {},
   "outputs": [],
   "source": [
    "from napari_animation import Animation"
   ]
  },
  {
   "cell_type": "code",
   "execution_count": 67,
   "metadata": {},
   "outputs": [
    {
     "name": "stdout",
     "output_type": "stream",
     "text": [
      "Rendering frames...\n"
     ]
    },
    {
     "name": "stderr",
     "output_type": "stream",
     "text": [
      "  0%|          | 0/121 [00:00<?, ?it/s]IMAGEIO FFMPEG_WRITER WARNING: input image is not divisible by macro_block_size=16, resizing from (3054, 1954) to (3056, 1968) to ensure video compatibility with most codecs and players. To prevent resizing, make your input image divisible by the macro_block_size or set the macro_block_size to 1 (risking incompatibility).\n",
      "100%|██████████| 121/121 [00:19<00:00,  6.13it/s]\n"
     ]
    }
   ],
   "source": [
    "nuclei = ski.data.cells3d()[:,1,...]\n",
    "denoised = ndi.median_filter(nuclei, size=3)\n",
    "th_nuclei = denoised > ski.filters.threshold_li(denoised)\n",
    "th_nuclei = ski.morphology.remove_small_holes(th_nuclei, 20**3)\n",
    "labels_data = ski.measure.label(th_nuclei)\n",
    "\n",
    "animation = Animation(viewer)\n",
    "\n",
    "image_layer = viewer.add_image(nuclei, name=\"nuclei\", depiction=\"plane\",\n",
    "                               blending='translucent')\n",
    "labels_layer = viewer.add_labels(labels_data, name=\"labels\", blending='translucent')\n",
    "\n",
    "viewer.camera.angles = (-18.23797054423494, 41.97404742075617, 141.96173085742896)\n",
    "#viewer.camera.zoom *= 0.5\n",
    "\n",
    "\n",
    "def replace_labels_data():\n",
    "    z_cutoff = int(image_layer.plane.position[0])\n",
    "    new_labels_data = labels_data.copy()\n",
    "    new_labels_data[z_cutoff:] = 0\n",
    "    labels_layer.data = new_labels_data\n",
    "\n",
    "\n",
    "labels_layer.visible = False\n",
    "image_layer.plane.position = (0, 0, 0)\n",
    "animation.capture_keyframe(steps=30)\n",
    "\n",
    "image_layer.plane.position = (59, 0, 0)\n",
    "animation.capture_keyframe(steps=30)\n",
    "\n",
    "image_layer.plane.position = (0, 0, 0)\n",
    "\n",
    "animation.capture_keyframe(steps=30)\n",
    "\n",
    "image_layer.plane.events.position.connect(replace_labels_data)\n",
    "labels_layer.visible = True\n",
    "labels_layer.experimental_clipping_planes = [{\n",
    "    \"position\": (0, 0, 0),\n",
    "    \"normal\": (-1, 0, 0),  # point up in z (i.e: show stuff above plane)\n",
    "}]\n",
    "\n",
    "image_layer.plane.position = (59, 0, 0)\n",
    "# access first plane, since it's a list\n",
    "labels_layer.experimental_clipping_planes[0].position = (59, 0, 0)\n",
    "animation.capture_keyframe(steps=30)\n",
    "\n",
    "image_layer.plane.position = (0, 0, 0)\n",
    "animation.capture_keyframe(steps=30)\n",
    "\n",
    "animation.animate(\"layer_planes.mp4\", canvas_only=True)\n",
    "image_layer.plane.position = (0, 0, 0)"
   ]
  },
  {
   "cell_type": "code",
   "execution_count": 60,
   "metadata": {},
   "outputs": [
    {
     "data": {
      "text/plain": [
       "(60, 2, 256, 256)"
      ]
     },
     "execution_count": 60,
     "metadata": {},
     "output_type": "execute_result"
    }
   ],
   "source": [
    "img.shape"
   ]
  },
  {
   "cell_type": "code",
   "execution_count": 61,
   "metadata": {},
   "outputs": [
    {
     "data": {
      "text/plain": [
       "[<Image layer 'Image' at 0x1fb00a37e80>,\n",
       " <Image layer 'Image [1]' at 0x1faf84a75e0>]"
      ]
     },
     "execution_count": 61,
     "metadata": {},
     "output_type": "execute_result"
    }
   ],
   "source": [
    "viewer.add_image(img, channel_axis=1, depiction='plane')"
   ]
  },
  {
   "cell_type": "code",
   "execution_count": null,
   "metadata": {},
   "outputs": [],
   "source": []
  }
 ],
 "metadata": {
  "kernelspec": {
   "display_name": "napari",
   "language": "python",
   "name": "python3"
  },
  "language_info": {
   "codemirror_mode": {
    "name": "ipython",
    "version": 3
   },
   "file_extension": ".py",
   "mimetype": "text/x-python",
   "name": "python",
   "nbconvert_exporter": "python",
   "pygments_lexer": "ipython3",
   "version": "3.10.13"
  }
 },
 "nbformat": 4,
 "nbformat_minor": 2
}
