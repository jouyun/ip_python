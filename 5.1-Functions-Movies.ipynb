{
 "cells": [
  {
   "cell_type": "markdown",
   "metadata": {},
   "source": [
    "# Part 5A:  Functions and Movies"
   ]
  },
  {
   "cell_type": "code",
   "execution_count": 1,
   "metadata": {},
   "outputs": [],
   "source": [
    "import numpy as np\n",
    "import pandas as pd\n",
    "import napari\n",
    "import tifffile\n",
    "import skimage as ski\n",
    "import scipy.ndimage as ndi\n",
    "import glob\n",
    "import cellpose.models as models\n",
    "import matplotlib.pyplot as plt\n",
    "import cv2\n",
    "import dask\n",
    "import cellpose.models as models\n",
    "import sutils\n",
    "import plotly.graph_objs as go\n",
    "import plotly.express as px\n",
    "\n",
    "import glob"
   ]
  },
  {
   "cell_type": "code",
   "execution_count": 2,
   "metadata": {},
   "outputs": [],
   "source": [
    "viewer = napari.Viewer()"
   ]
  },
  {
   "cell_type": "code",
   "execution_count": null,
   "metadata": {},
   "outputs": [],
   "source": []
  },
  {
   "cell_type": "markdown",
   "metadata": {},
   "source": [
    "# Defining Functions"
   ]
  },
  {
   "cell_type": "markdown",
   "metadata": {},
   "source": [
    "We have used a lot of functions, but never written our own.  Sometimes it is handy if we are running the same thing multiple times in multiple places to have the code written only once, that way any changes/improvements made to it only need to happen once and not copy pasted at multiple locations."
   ]
  },
  {
   "cell_type": "markdown",
   "metadata": {},
   "source": [
    "First let's get an image from the worm datasets to work on."
   ]
  },
  {
   "cell_type": "code",
   "execution_count": 3,
   "metadata": {},
   "outputs": [],
   "source": [
    "file_names = glob.glob('files/*/*projection.tif')\n",
    "img = ski.io.imread(file_names[0])\n",
    "DAPI = img[:,:,2]\n",
    "h3p = img[:,:,0]\n"
   ]
  },
  {
   "cell_type": "markdown",
   "metadata": {},
   "source": [
    "### Thresholding function"
   ]
  },
  {
   "cell_type": "markdown",
   "metadata": {},
   "source": [
    "If we find ourselves doing the same gaussian blur/threshold/object size filtering step over and over again, we might want a function we can use to do that."
   ]
  },
  {
   "cell_type": "code",
   "execution_count": 4,
   "metadata": {},
   "outputs": [],
   "source": [
    "def find_objects(input_img, blur_radius, threshold, min_size):\n",
    "    # blur the image\n",
    "    img = ndi.gaussian_filter(input_img, blur_radius)\n",
    "    # find the threshold\n",
    "    mask = img > threshold\n",
    "    # label the thresholded image\n",
    "    label_img, num_features = ndi.label(mask)\n",
    "    # remove small objects\n",
    "    label_img = ski.morphology.remove_small_objects(label_img, min_size=min_size)\n",
    "    return label_img"
   ]
  },
  {
   "cell_type": "markdown",
   "metadata": {},
   "source": [
    "Making a function requires the 'def' keyword to show that you are defining a new function, the name of the function, parentheses, an argument list, a colon, and indentation.\n",
    "\n",
    "Frequently you will want to return something, for instance in this case a label_img with our filtered objects.  "
   ]
  },
  {
   "cell_type": "markdown",
   "metadata": {},
   "source": [
    "Now if we want to use this function on a loaded image..."
   ]
  },
  {
   "cell_type": "code",
   "execution_count": 5,
   "metadata": {},
   "outputs": [
    {
     "name": "stderr",
     "output_type": "stream",
     "text": [
      "C:\\Users\\smc\\AppData\\Local\\Temp\\ipykernel_24140\\3134404480.py:9: UserWarning: Only one label was provided to `remove_small_objects`. Did you mean to use a boolean array?\n",
      "  label_img = ski.morphology.remove_small_objects(label_img, min_size=min_size)\n"
     ]
    },
    {
     "data": {
      "text/plain": [
       "<Labels layer 'segmentation' at 0x248b8d47670>"
      ]
     },
     "execution_count": 5,
     "metadata": {},
     "output_type": "execute_result"
    }
   ],
   "source": [
    "label_img = find_objects(DAPI, 30, 150, 1000)\n",
    "\n",
    "viewer.layers.clear()\n",
    "viewer.add_image(DAPI, name='DAPI', colormap='blue', blending='additive')\n",
    "viewer.add_labels(label_img, name='segmentation', opacity=0.3, blending='additive')"
   ]
  },
  {
   "cell_type": "code",
   "execution_count": null,
   "metadata": {},
   "outputs": [],
   "source": []
  },
  {
   "cell_type": "markdown",
   "metadata": {},
   "source": [
    "Sometimes it is annoying trying to remember what order our input arguments are in, so we can use the argument names in our function call.  If we use the argument names, they can then be in any order."
   ]
  },
  {
   "cell_type": "code",
   "execution_count": 6,
   "metadata": {},
   "outputs": [
    {
     "name": "stderr",
     "output_type": "stream",
     "text": [
      "C:\\Users\\smc\\AppData\\Local\\Temp\\ipykernel_24140\\3134404480.py:9: UserWarning: Only one label was provided to `remove_small_objects`. Did you mean to use a boolean array?\n",
      "  label_img = ski.morphology.remove_small_objects(label_img, min_size=min_size)\n"
     ]
    },
    {
     "data": {
      "text/plain": [
       "<Labels layer 'segmentation' at 0x248b8d33eb0>"
      ]
     },
     "execution_count": 6,
     "metadata": {},
     "output_type": "execute_result"
    }
   ],
   "source": [
    "label_img = find_objects(DAPI, blur_radius=30, threshold=150, min_size=1000)\n",
    "\n",
    "viewer.layers.clear()\n",
    "viewer.add_image(DAPI, name='DAPI', colormap='blue', blending='additive')\n",
    "viewer.add_labels(label_img, name='segmentation', opacity=0.3, blending='additive')"
   ]
  },
  {
   "cell_type": "markdown",
   "metadata": {},
   "source": [
    "Note that not all arguments have to be named, if we are reasonably certain the first argument is always our image we can just leave it at as the first and not bother."
   ]
  },
  {
   "cell_type": "markdown",
   "metadata": {},
   "source": [
    "## Optional arguments"
   ]
  },
  {
   "cell_type": "markdown",
   "metadata": {},
   "source": [
    "What if 9 times out of 10 you are using the same blur_radius and are tired of having to specify it?  Functions can have arguments be set to certain values by default, but once you define ONE default argument, all subsequent arguments must also have defaults so we will move it to the end."
   ]
  },
  {
   "cell_type": "code",
   "execution_count": 7,
   "metadata": {},
   "outputs": [],
   "source": [
    "def find_objects(input_img, threshold, min_size, blur_radius=30):\n",
    "    # blur the image\n",
    "    img = ndi.gaussian_filter(input_img, blur_radius)\n",
    "    # find the threshold\n",
    "    mask = img > threshold\n",
    "    # label the thresholded image\n",
    "    label_img, num_features = ndi.label(mask)\n",
    "    # remove small objects\n",
    "    label_img = ski.morphology.remove_small_objects(label_img, min_size=min_size)\n",
    "    return label_img"
   ]
  },
  {
   "cell_type": "markdown",
   "metadata": {},
   "source": [
    "Now we can simplify our function call"
   ]
  },
  {
   "cell_type": "code",
   "execution_count": 8,
   "metadata": {},
   "outputs": [
    {
     "name": "stderr",
     "output_type": "stream",
     "text": [
      "C:\\Users\\smc\\AppData\\Local\\Temp\\ipykernel_24140\\1734813326.py:9: UserWarning: Only one label was provided to `remove_small_objects`. Did you mean to use a boolean array?\n",
      "  label_img = ski.morphology.remove_small_objects(label_img, min_size=min_size)\n"
     ]
    },
    {
     "data": {
      "text/plain": [
       "<Labels layer 'segmentation' at 0x248b8d05330>"
      ]
     },
     "execution_count": 8,
     "metadata": {},
     "output_type": "execute_result"
    }
   ],
   "source": [
    "label_img = find_objects(DAPI, threshold=150, min_size=1000)\n",
    "\n",
    "viewer.layers.clear()\n",
    "viewer.add_image(DAPI, name='DAPI', colormap='blue', blending='additive')\n",
    "viewer.add_labels(label_img, name='segmentation', opacity=0.3, blending='additive')"
   ]
  },
  {
   "cell_type": "code",
   "execution_count": null,
   "metadata": {},
   "outputs": [],
   "source": []
  },
  {
   "cell_type": "markdown",
   "metadata": {},
   "source": [
    "### Displaying as option"
   ]
  },
  {
   "cell_type": "markdown",
   "metadata": {},
   "source": [
    "Now notice how it is getting annoying having to run viewer.layers.clear/add_image/add_labels every time we want to check the result?  Let's put that into the function as an option instead and make our lives easier.\n",
    "\n",
    "We should send the napari viewer object to the function, functions should not mess with any variables that are not sent to it by arguments."
   ]
  },
  {
   "cell_type": "code",
   "execution_count": 9,
   "metadata": {},
   "outputs": [],
   "source": [
    "def find_objects(input_img, threshold, min_size, blur_radius=30, display=False, viewer=None):\n",
    "    # blur the image\n",
    "    img = ndi.gaussian_filter(input_img, blur_radius)\n",
    "    # find the threshold\n",
    "    mask = img > threshold\n",
    "    # label the thresholded image\n",
    "    label_img, num_features = ndi.label(mask)\n",
    "    # remove small objects\n",
    "    label_img = ski.morphology.remove_small_objects(label_img, min_size=min_size)\n",
    "\n",
    "    # Optional: display the results\n",
    "    if display:\n",
    "        viewer.layers.clear()\n",
    "        viewer.add_image(input_img, name='DAPI', colormap='blue', blending='additive')\n",
    "        viewer.add_labels(label_img, name='segmentation', opacity=0.3, blending='additive')\n",
    "\n",
    "    return label_img"
   ]
  },
  {
   "cell_type": "code",
   "execution_count": null,
   "metadata": {},
   "outputs": [
    {
     "name": "stderr",
     "output_type": "stream",
     "text": [
      "C:\\Users\\smc\\AppData\\Local\\Temp\\ipykernel_12068\\384114898.py:9: UserWarning: Only one label was provided to `remove_small_objects`. Did you mean to use a boolean array?\n",
      "  label_img = ski.morphology.remove_small_objects(label_img, min_size=min_size)\n"
     ]
    }
   ],
   "source": [
    "label_img = find_objects(DAPI, threshold=150, min_size=1000, display=True, viewer=viewer)"
   ]
  },
  {
   "cell_type": "markdown",
   "metadata": {},
   "source": [
    "## Multiple return values"
   ]
  },
  {
   "cell_type": "markdown",
   "metadata": {},
   "source": [
    "Let's do the same with a peak finding function, this time we will have it return two arguments though:  the list of peaks from ski.feature.peak_local_max and the peak_img which has 0 everywhere except at pixels that are centered on a found peak."
   ]
  },
  {
   "cell_type": "code",
   "execution_count": null,
   "metadata": {},
   "outputs": [],
   "source": [
    "def find_peaks(input_img, sigma=8, min_distance=3, threshold_abs=0.5, display=False, viewer=None, clear=False):\n",
    "    # compute the Laplacian of Gaussian\n",
    "    LoG = -1000.0 * ndi.gaussian_laplace(input_img/1000.0, sigma=sigma)\n",
    "    # find the peaks\n",
    "    peaks = ski.feature.peak_local_max(LoG, min_distance=min_distance, threshold_abs=threshold_abs)\n",
    "    # create an image with the peaks\n",
    "    peak_img = np.zeros_like(LoG)\n",
    "    peak_img[peaks[:,0], peaks[:,1]] = 1\n",
    "\n",
    "    # Optional: display the results\n",
    "    if display:\n",
    "        if clear: \n",
    "            viewer.layers.clear()\n",
    "        viewer.add_image(input_img, name='h3p', colormap='blue', blending='additive')\n",
    "        viewer.add_image(LoG, name='LoG', colormap='blue', blending='additive', visible=False)\n",
    "        viewer.add_points(peaks, name='peaks', size=5, opacity=0.3)\n",
    "        viewer.add_image(peak_img, name='peaks_img', opacity=0.3, blending='additive')\n",
    "\n",
    "    return peaks, peak_img\n",
    "\n"
   ]
  },
  {
   "cell_type": "markdown",
   "metadata": {},
   "source": [
    "Putting both our functions together"
   ]
  },
  {
   "cell_type": "code",
   "execution_count": null,
   "metadata": {},
   "outputs": [
    {
     "name": "stderr",
     "output_type": "stream",
     "text": [
      "C:\\Users\\smc\\AppData\\Local\\Temp\\ipykernel_12068\\384114898.py:9: UserWarning: Only one label was provided to `remove_small_objects`. Did you mean to use a boolean array?\n",
      "  label_img = ski.morphology.remove_small_objects(label_img, min_size=min_size)\n"
     ]
    }
   ],
   "source": [
    "label_img = find_objects(DAPI, threshold=150, min_size=1000, display=True, viewer=viewer)\n",
    "pks, pk_img = find_peaks(h3p, display=True, viewer=viewer)"
   ]
  },
  {
   "cell_type": "markdown",
   "metadata": {},
   "source": [
    "## Multiple layers of functions"
   ]
  },
  {
   "cell_type": "markdown",
   "metadata": {},
   "source": [
    "In our last class, the pipeline was to use regionprops on the results of label_img and pk_img, let's write a function to do that and return a table."
   ]
  },
  {
   "cell_type": "code",
   "execution_count": null,
   "metadata": {},
   "outputs": [],
   "source": [
    "def get_table(DAPI, h3p, display=False, viewer=None):\n",
    "    # Call our first function for segmenting worm\n",
    "    label_img = find_objects(DAPI, threshold=150, min_size=1000, display=display, viewer=viewer)\n",
    "    # Then our second function for finding h3p spots\n",
    "    pks, pk_img = find_peaks(h3p, display=display, viewer=viewer, clear=True)\n",
    "\n",
    "    # Combine and calculate the counts\n",
    "    results = pd.DataFrame(ski.measure.regionprops_table(label_img, intensity_image=pk_img, properties=['label', 'area', 'mean_intensity']))\n",
    "    results['counts'] = results['mean_intensity'] * results['area']\n",
    "\n",
    "    return results\n",
    "    "
   ]
  },
  {
   "cell_type": "code",
   "execution_count": null,
   "metadata": {},
   "outputs": [
    {
     "name": "stderr",
     "output_type": "stream",
     "text": [
      "C:\\Users\\smc\\AppData\\Local\\Temp\\ipykernel_12068\\384114898.py:9: UserWarning: Only one label was provided to `remove_small_objects`. Did you mean to use a boolean array?\n",
      "  label_img = ski.morphology.remove_small_objects(label_img, min_size=min_size)\n"
     ]
    },
    {
     "data": {
      "text/html": [
       "<div>\n",
       "<style scoped>\n",
       "    .dataframe tbody tr th:only-of-type {\n",
       "        vertical-align: middle;\n",
       "    }\n",
       "\n",
       "    .dataframe tbody tr th {\n",
       "        vertical-align: top;\n",
       "    }\n",
       "\n",
       "    .dataframe thead th {\n",
       "        text-align: right;\n",
       "    }\n",
       "</style>\n",
       "<table border=\"1\" class=\"dataframe\">\n",
       "  <thead>\n",
       "    <tr style=\"text-align: right;\">\n",
       "      <th></th>\n",
       "      <th>label</th>\n",
       "      <th>area</th>\n",
       "      <th>mean_intensity</th>\n",
       "      <th>counts</th>\n",
       "    </tr>\n",
       "  </thead>\n",
       "  <tbody>\n",
       "    <tr>\n",
       "      <th>0</th>\n",
       "      <td>1</td>\n",
       "      <td>1594637.0</td>\n",
       "      <td>0.00016</td>\n",
       "      <td>255.0</td>\n",
       "    </tr>\n",
       "  </tbody>\n",
       "</table>\n",
       "</div>"
      ],
      "text/plain": [
       "   label       area  mean_intensity  counts\n",
       "0      1  1594637.0         0.00016   255.0"
      ]
     },
     "execution_count": 52,
     "metadata": {},
     "output_type": "execute_result"
    }
   ],
   "source": [
    "get_table(DAPI, h3p, display=True, viewer=viewer)"
   ]
  },
  {
   "cell_type": "markdown",
   "metadata": {},
   "source": [
    "But finally, we would really like something that takes a filename and gives us back the table."
   ]
  },
  {
   "cell_type": "code",
   "execution_count": null,
   "metadata": {},
   "outputs": [],
   "source": [
    "def process_file(fname, display=False, viewer=None):\n",
    "    img = ski.io.imread(fname)\n",
    "    DAPI = img[:,:,2]\n",
    "    h3p = img[:,:,0]\n",
    "    return get_table(DAPI, h3p, display, viewer)\n"
   ]
  },
  {
   "cell_type": "code",
   "execution_count": null,
   "metadata": {},
   "outputs": [
    {
     "name": "stderr",
     "output_type": "stream",
     "text": [
      "C:\\Users\\smc\\AppData\\Local\\Temp\\ipykernel_12068\\384114898.py:9: UserWarning: Only one label was provided to `remove_small_objects`. Did you mean to use a boolean array?\n",
      "  label_img = ski.morphology.remove_small_objects(label_img, min_size=min_size)\n"
     ]
    },
    {
     "data": {
      "text/html": [
       "<div>\n",
       "<style scoped>\n",
       "    .dataframe tbody tr th:only-of-type {\n",
       "        vertical-align: middle;\n",
       "    }\n",
       "\n",
       "    .dataframe tbody tr th {\n",
       "        vertical-align: top;\n",
       "    }\n",
       "\n",
       "    .dataframe thead th {\n",
       "        text-align: right;\n",
       "    }\n",
       "</style>\n",
       "<table border=\"1\" class=\"dataframe\">\n",
       "  <thead>\n",
       "    <tr style=\"text-align: right;\">\n",
       "      <th></th>\n",
       "      <th>label</th>\n",
       "      <th>area</th>\n",
       "      <th>mean_intensity</th>\n",
       "      <th>counts</th>\n",
       "    </tr>\n",
       "  </thead>\n",
       "  <tbody>\n",
       "    <tr>\n",
       "      <th>0</th>\n",
       "      <td>1</td>\n",
       "      <td>5191331.0</td>\n",
       "      <td>0.000017</td>\n",
       "      <td>89.0</td>\n",
       "    </tr>\n",
       "  </tbody>\n",
       "</table>\n",
       "</div>"
      ],
      "text/plain": [
       "   label       area  mean_intensity  counts\n",
       "0      1  5191331.0        0.000017    89.0"
      ]
     },
     "execution_count": 54,
     "metadata": {},
     "output_type": "execute_result"
    }
   ],
   "source": [
    "process_file(file_names[5], display=True, viewer=viewer)"
   ]
  },
  {
   "cell_type": "markdown",
   "metadata": {},
   "source": [
    "### Looping over files"
   ]
  },
  {
   "cell_type": "code",
   "execution_count": null,
   "metadata": {},
   "outputs": [
    {
     "name": "stderr",
     "output_type": "stream",
     "text": [
      "C:\\Users\\smc\\AppData\\Local\\Temp\\ipykernel_12068\\384114898.py:9: UserWarning: Only one label was provided to `remove_small_objects`. Did you mean to use a boolean array?\n",
      "  label_img = ski.morphology.remove_small_objects(label_img, min_size=min_size)\n",
      "C:\\Users\\smc\\AppData\\Local\\Temp\\ipykernel_12068\\384114898.py:9: UserWarning: Only one label was provided to `remove_small_objects`. Did you mean to use a boolean array?\n",
      "  label_img = ski.morphology.remove_small_objects(label_img, min_size=min_size)\n",
      "C:\\Users\\smc\\AppData\\Local\\Temp\\ipykernel_12068\\384114898.py:9: UserWarning: Only one label was provided to `remove_small_objects`. Did you mean to use a boolean array?\n",
      "  label_img = ski.morphology.remove_small_objects(label_img, min_size=min_size)\n",
      "C:\\Users\\smc\\AppData\\Local\\Temp\\ipykernel_12068\\384114898.py:9: UserWarning: Only one label was provided to `remove_small_objects`. Did you mean to use a boolean array?\n",
      "  label_img = ski.morphology.remove_small_objects(label_img, min_size=min_size)\n",
      "C:\\Users\\smc\\AppData\\Local\\Temp\\ipykernel_12068\\384114898.py:9: UserWarning: Only one label was provided to `remove_small_objects`. Did you mean to use a boolean array?\n",
      "  label_img = ski.morphology.remove_small_objects(label_img, min_size=min_size)\n",
      "C:\\Users\\smc\\AppData\\Local\\Temp\\ipykernel_12068\\384114898.py:9: UserWarning: Only one label was provided to `remove_small_objects`. Did you mean to use a boolean array?\n",
      "  label_img = ski.morphology.remove_small_objects(label_img, min_size=min_size)\n"
     ]
    }
   ],
   "source": [
    "all_results = []\n",
    "for fname in file_names:\n",
    "    current_results = process_file(fname)\n",
    "    current_results['file'] = fname\n",
    "    all_results.append(current_results)\n",
    "\n",
    "df = pd.concat(all_results)"
   ]
  },
  {
   "cell_type": "markdown",
   "metadata": {},
   "source": [
    "Compare this with the loop we had before"
   ]
  },
  {
   "cell_type": "markdown",
   "metadata": {},
   "source": [
    "all_results = []\n",
    "\n",
    "for fname in file_names:\n",
    "    print(fname)\n",
    "    img = ski.io.imread(fname)\n",
    "\n",
    "    DAPI = img[:, :, 2]\n",
    "    smoothed = ndi.gaussian_filter(DAPI, 30)\n",
    "    thresholded = smoothed > 150\n",
    "    labeled_img, object_count = ndi.label(thresholded)\n",
    "    labeled_img = sutils.remove_objects(labeled_img, area_min=1000, area_max=100000000)\n",
    "\n",
    "    h3p = img[:,:,0]\n",
    "    LoG = -1000.0 * ndi.gaussian_laplace(h3p/1000.0, sigma=8)\n",
    "    peaks = ski.feature.peak_local_max(LoG, min_distance=3, threshold_abs=0.5)\n",
    "    peak_img = np.zeros_like(LoG)\n",
    "    peak_img[peaks[:,0], peaks[:,1]] = 1\n",
    "\n",
    "    results = pd.DataFrame(ski.measure.regionprops_table(labeled_img, intensity_image=peak_img, properties=['label', 'area', 'mean_intensity']))\n",
    "    results['counts'] = results['mean_intensity'] * results['area']\n",
    "    \n",
    "    results['file'] = fname\n",
    "    all_results.append(results)\n",
    "\n",
    "    # New stuff for saving our intermediate files\n",
    "    combined_img = np.array([DAPI, labeled_img, h3p, LoG, peak_img])\n",
    "    combined_img = combined_img.astype(np.single)\n",
    "    output_filename = fname + 'f'\n",
    "    ski.io.imsave(output_filename, combined_img,  imagej=True, metadata={'axes': 'CYX'})\n"
   ]
  },
  {
   "cell_type": "markdown",
   "metadata": {},
   "source": [
    "By breaking our workflow into individual functions, we can troubleshoot those individually on single files and then re-use the code in the file processing loop without having to copy paste.  We also make it easier to use in the future."
   ]
  },
  {
   "cell_type": "code",
   "execution_count": null,
   "metadata": {},
   "outputs": [],
   "source": []
  },
  {
   "cell_type": "markdown",
   "metadata": {},
   "source": [
    "# Making movies"
   ]
  },
  {
   "cell_type": "markdown",
   "metadata": {},
   "source": [
    "Movies are made with the napari-animation plugin.  You can install with:"
   ]
  },
  {
   "cell_type": "code",
   "execution_count": 9,
   "metadata": {},
   "outputs": [
    {
     "name": "stdout",
     "output_type": "stream",
     "text": [
      "Requirement already satisfied: napari-animation in c:\\users\\smc\\appdata\\local\\miniforge3\\envs\\napari\\lib\\site-packages (0.0.7)\n",
      "Requirement already satisfied: imageio in c:\\users\\smc\\appdata\\local\\miniforge3\\envs\\napari\\lib\\site-packages (from napari-animation) (2.31.6)\n",
      "Requirement already satisfied: imageio-ffmpeg in c:\\users\\smc\\appdata\\local\\miniforge3\\envs\\napari\\lib\\site-packages (from napari-animation) (0.4.9)\n",
      "Requirement already satisfied: napari in c:\\users\\smc\\appdata\\local\\miniforge3\\envs\\napari\\lib\\site-packages (from napari-animation) (0.4.18)\n",
      "Requirement already satisfied: npe2 in c:\\users\\smc\\appdata\\local\\miniforge3\\envs\\napari\\lib\\site-packages (from napari-animation) (0.7.3)\n",
      "Requirement already satisfied: numpy in c:\\users\\smc\\appdata\\local\\miniforge3\\envs\\napari\\lib\\site-packages (from napari-animation) (1.23.4)\n",
      "Requirement already satisfied: qtpy in c:\\users\\smc\\appdata\\local\\miniforge3\\envs\\napari\\lib\\site-packages (from napari-animation) (2.4.1)\n",
      "Requirement already satisfied: scipy in c:\\users\\smc\\appdata\\local\\miniforge3\\envs\\napari\\lib\\site-packages (from napari-animation) (1.11.3)\n",
      "Requirement already satisfied: tqdm>=4.56.0 in c:\\users\\smc\\appdata\\local\\miniforge3\\envs\\napari\\lib\\site-packages (from napari-animation) (4.66.1)\n",
      "Requirement already satisfied: superqt in c:\\users\\smc\\appdata\\local\\miniforge3\\envs\\napari\\lib\\site-packages (from napari-animation) (0.6.1)\n",
      "Requirement already satisfied: colorama in c:\\users\\smc\\appdata\\local\\miniforge3\\envs\\napari\\lib\\site-packages (from tqdm>=4.56.0->napari-animation) (0.4.6)\n",
      "Requirement already satisfied: pillow<10.1.0,>=8.3.2 in c:\\users\\smc\\appdata\\local\\miniforge3\\envs\\napari\\lib\\site-packages (from imageio->napari-animation) (10.0.1)\n",
      "Requirement already satisfied: setuptools in c:\\users\\smc\\appdata\\local\\miniforge3\\envs\\napari\\lib\\site-packages (from imageio-ffmpeg->napari-animation) (68.2.2)\n",
      "Requirement already satisfied: appdirs>=1.4.4 in c:\\users\\smc\\appdata\\local\\miniforge3\\envs\\napari\\lib\\site-packages (from napari->napari-animation) (1.4.4)\n",
      "Requirement already satisfied: app-model<0.3.0,>=0.1.0 in c:\\users\\smc\\appdata\\local\\miniforge3\\envs\\napari\\lib\\site-packages (from napari->napari-animation) (0.2.2)\n",
      "Requirement already satisfied: cachey>=0.2.1 in c:\\users\\smc\\appdata\\local\\miniforge3\\envs\\napari\\lib\\site-packages (from napari->napari-animation) (0.2.1)\n",
      "Requirement already satisfied: certifi>=2018.1.18 in c:\\users\\smc\\appdata\\local\\miniforge3\\envs\\napari\\lib\\site-packages (from napari->napari-animation) (2023.7.22)\n",
      "Requirement already satisfied: dask!=2.28.0,>=2.15.0 in c:\\users\\smc\\appdata\\local\\miniforge3\\envs\\napari\\lib\\site-packages (from dask[array]!=2.28.0,>=2.15.0->napari->napari-animation) (2023.10.1)\n",
      "Requirement already satisfied: jsonschema>=3.2.0 in c:\\users\\smc\\appdata\\local\\miniforge3\\envs\\napari\\lib\\site-packages (from napari->napari-animation) (4.19.2)\n",
      "Requirement already satisfied: lazy-loader>=0.2 in c:\\users\\smc\\appdata\\local\\miniforge3\\envs\\napari\\lib\\site-packages (from napari->napari-animation) (0.3)\n",
      "Requirement already satisfied: magicgui>=0.3.6 in c:\\users\\smc\\appdata\\local\\miniforge3\\envs\\napari\\lib\\site-packages (from napari->napari-animation) (0.8.0)\n",
      "Requirement already satisfied: napari-console>=0.0.6 in c:\\users\\smc\\appdata\\local\\miniforge3\\envs\\napari\\lib\\site-packages (from napari->napari-animation) (0.0.9)\n",
      "Requirement already satisfied: napari-plugin-engine>=0.1.9 in c:\\users\\smc\\appdata\\local\\miniforge3\\envs\\napari\\lib\\site-packages (from napari->napari-animation) (0.2.0)\n",
      "Requirement already satisfied: napari-svg>=0.1.7 in c:\\users\\smc\\appdata\\local\\miniforge3\\envs\\napari\\lib\\site-packages (from napari->napari-animation) (0.1.10)\n",
      "Requirement already satisfied: numpydoc>=0.9.2 in c:\\users\\smc\\appdata\\local\\miniforge3\\envs\\napari\\lib\\site-packages (from napari->napari-animation) (1.5.0)\n",
      "Requirement already satisfied: pint>=0.17 in c:\\users\\smc\\appdata\\local\\miniforge3\\envs\\napari\\lib\\site-packages (from napari->napari-animation) (0.22)\n",
      "Requirement already satisfied: psutil>=5.0 in c:\\users\\smc\\appdata\\local\\miniforge3\\envs\\napari\\lib\\site-packages (from napari->napari-animation) (5.9.6)\n",
      "Requirement already satisfied: psygnal>=0.3.4 in c:\\users\\smc\\appdata\\local\\miniforge3\\envs\\napari\\lib\\site-packages (from napari->napari-animation) (0.9.4)\n",
      "Requirement already satisfied: pydantic<2,>=1.9.0 in c:\\users\\smc\\appdata\\local\\miniforge3\\envs\\napari\\lib\\site-packages (from napari->napari-animation) (1.10.13)\n",
      "Requirement already satisfied: pygments>=2.6.0 in c:\\users\\smc\\appdata\\local\\miniforge3\\envs\\napari\\lib\\site-packages (from napari->napari-animation) (2.16.1)\n",
      "Requirement already satisfied: PyOpenGL>=3.1.0 in c:\\users\\smc\\appdata\\local\\miniforge3\\envs\\napari\\lib\\site-packages (from napari->napari-animation) (3.1.7)\n",
      "Requirement already satisfied: PyYAML>=5.1 in c:\\users\\smc\\appdata\\local\\miniforge3\\envs\\napari\\lib\\site-packages (from napari->napari-animation) (6.0.1)\n",
      "Requirement already satisfied: scikit-image>=0.19.1 in c:\\users\\smc\\appdata\\local\\miniforge3\\envs\\napari\\lib\\site-packages (from scikit-image[data]>=0.19.1->napari->napari-animation) (0.20.0)\n",
      "Requirement already satisfied: sphinx<5,>=4.3.0 in c:\\users\\smc\\appdata\\local\\miniforge3\\envs\\napari\\lib\\site-packages (from napari->napari-animation) (4.5.0)\n",
      "Requirement already satisfied: tifffile>=2020.2.16 in c:\\users\\smc\\appdata\\local\\miniforge3\\envs\\napari\\lib\\site-packages (from napari->napari-animation) (2023.9.26)\n",
      "Requirement already satisfied: toolz>=0.10.0 in c:\\users\\smc\\appdata\\local\\miniforge3\\envs\\napari\\lib\\site-packages (from napari->napari-animation) (0.12.0)\n",
      "Requirement already satisfied: typing-extensions>=4.2.0 in c:\\users\\smc\\appdata\\local\\miniforge3\\envs\\napari\\lib\\site-packages (from napari->napari-animation) (4.8.0)\n",
      "Requirement already satisfied: vispy<0.13,>=0.12.1 in c:\\users\\smc\\appdata\\local\\miniforge3\\envs\\napari\\lib\\site-packages (from napari->napari-animation) (0.12.2)\n",
      "Requirement already satisfied: wrapt>=1.11.1 in c:\\users\\smc\\appdata\\local\\miniforge3\\envs\\napari\\lib\\site-packages (from napari->napari-animation) (1.15.0)\n",
      "Requirement already satisfied: pandas>=1.3.0 in c:\\users\\smc\\appdata\\local\\miniforge3\\envs\\napari\\lib\\site-packages (from napari->napari-animation) (2.1.1)\n",
      "Requirement already satisfied: build>=1 in c:\\users\\smc\\appdata\\local\\miniforge3\\envs\\napari\\lib\\site-packages (from npe2->napari-animation) (1.0.3)\n",
      "Requirement already satisfied: rich in c:\\users\\smc\\appdata\\local\\miniforge3\\envs\\napari\\lib\\site-packages (from npe2->napari-animation) (13.6.0)\n",
      "Requirement already satisfied: tomli-w in c:\\users\\smc\\appdata\\local\\miniforge3\\envs\\napari\\lib\\site-packages (from npe2->napari-animation) (1.0.0)\n",
      "Requirement already satisfied: tomli in c:\\users\\smc\\appdata\\local\\miniforge3\\envs\\napari\\lib\\site-packages (from npe2->napari-animation) (2.0.1)\n",
      "Requirement already satisfied: typer in c:\\users\\smc\\appdata\\local\\miniforge3\\envs\\napari\\lib\\site-packages (from npe2->napari-animation) (0.9.0)\n",
      "Requirement already satisfied: packaging in c:\\users\\smc\\appdata\\local\\miniforge3\\envs\\napari\\lib\\site-packages (from qtpy->napari-animation) (23.2)\n",
      "Requirement already satisfied: in-n-out>=0.1.5 in c:\\users\\smc\\appdata\\local\\miniforge3\\envs\\napari\\lib\\site-packages (from app-model<0.3.0,>=0.1.0->napari->napari-animation) (0.1.9)\n",
      "Requirement already satisfied: pyproject_hooks in c:\\users\\smc\\appdata\\local\\miniforge3\\envs\\napari\\lib\\site-packages (from build>=1->npe2->napari-animation) (1.0.0)\n",
      "Requirement already satisfied: heapdict in c:\\users\\smc\\appdata\\local\\miniforge3\\envs\\napari\\lib\\site-packages (from cachey>=0.2.1->napari->napari-animation) (1.0.1)\n",
      "Requirement already satisfied: click>=8.0 in c:\\users\\smc\\appdata\\local\\miniforge3\\envs\\napari\\lib\\site-packages (from dask!=2.28.0,>=2.15.0->dask[array]!=2.28.0,>=2.15.0->napari->napari-animation) (8.1.7)\n",
      "Requirement already satisfied: cloudpickle>=1.5.0 in c:\\users\\smc\\appdata\\local\\miniforge3\\envs\\napari\\lib\\site-packages (from dask!=2.28.0,>=2.15.0->dask[array]!=2.28.0,>=2.15.0->napari->napari-animation) (3.0.0)\n",
      "Requirement already satisfied: fsspec>=2021.09.0 in c:\\users\\smc\\appdata\\local\\miniforge3\\envs\\napari\\lib\\site-packages (from dask!=2.28.0,>=2.15.0->dask[array]!=2.28.0,>=2.15.0->napari->napari-animation) (2023.6.0)\n",
      "Requirement already satisfied: partd>=1.2.0 in c:\\users\\smc\\appdata\\local\\miniforge3\\envs\\napari\\lib\\site-packages (from dask!=2.28.0,>=2.15.0->dask[array]!=2.28.0,>=2.15.0->napari->napari-animation) (1.4.1)\n",
      "Requirement already satisfied: importlib-metadata>=4.13.0 in c:\\users\\smc\\appdata\\local\\miniforge3\\envs\\napari\\lib\\site-packages (from dask!=2.28.0,>=2.15.0->dask[array]!=2.28.0,>=2.15.0->napari->napari-animation) (6.8.0)\n",
      "Requirement already satisfied: attrs>=22.2.0 in c:\\users\\smc\\appdata\\local\\miniforge3\\envs\\napari\\lib\\site-packages (from jsonschema>=3.2.0->napari->napari-animation) (23.1.0)\n",
      "Requirement already satisfied: jsonschema-specifications>=2023.03.6 in c:\\users\\smc\\appdata\\local\\miniforge3\\envs\\napari\\lib\\site-packages (from jsonschema>=3.2.0->napari->napari-animation) (2023.7.1)\n",
      "Requirement already satisfied: referencing>=0.28.4 in c:\\users\\smc\\appdata\\local\\miniforge3\\envs\\napari\\lib\\site-packages (from jsonschema>=3.2.0->napari->napari-animation) (0.30.2)\n",
      "Requirement already satisfied: rpds-py>=0.7.1 in c:\\users\\smc\\appdata\\local\\miniforge3\\envs\\napari\\lib\\site-packages (from jsonschema>=3.2.0->napari->napari-animation) (0.10.6)\n",
      "Requirement already satisfied: docstring-parser>=0.7 in c:\\users\\smc\\appdata\\local\\miniforge3\\envs\\napari\\lib\\site-packages (from magicgui>=0.3.6->napari->napari-animation) (0.15)\n",
      "Requirement already satisfied: IPython>=7.7.0 in c:\\users\\smc\\appdata\\local\\miniforge3\\envs\\napari\\lib\\site-packages (from napari-console>=0.0.6->napari->napari-animation) (8.17.2)\n",
      "Requirement already satisfied: ipykernel>=5.2.0 in c:\\users\\smc\\appdata\\local\\miniforge3\\envs\\napari\\lib\\site-packages (from napari-console>=0.0.6->napari->napari-animation) (6.26.0)\n",
      "Requirement already satisfied: qtconsole!=4.7.6,!=5.4.2,>=4.5.1 in c:\\users\\smc\\appdata\\local\\miniforge3\\envs\\napari\\lib\\site-packages (from napari-console>=0.0.6->napari->napari-animation) (5.4.4)\n",
      "Requirement already satisfied: Jinja2>=2.10 in c:\\users\\smc\\appdata\\local\\miniforge3\\envs\\napari\\lib\\site-packages (from numpydoc>=0.9.2->napari->napari-animation) (3.1.2)\n",
      "Requirement already satisfied: python-dateutil>=2.8.2 in c:\\users\\smc\\appdata\\local\\miniforge3\\envs\\napari\\lib\\site-packages (from pandas>=1.3.0->napari->napari-animation) (2.8.2)\n",
      "Requirement already satisfied: pytz>=2020.1 in c:\\users\\smc\\appdata\\local\\miniforge3\\envs\\napari\\lib\\site-packages (from pandas>=1.3.0->napari->napari-animation) (2023.3.post1)\n",
      "Requirement already satisfied: tzdata>=2022.1 in c:\\users\\smc\\appdata\\local\\miniforge3\\envs\\napari\\lib\\site-packages (from pandas>=1.3.0->napari->napari-animation) (2023.3)\n",
      "Requirement already satisfied: mypy-extensions in c:\\users\\smc\\appdata\\local\\miniforge3\\envs\\napari\\lib\\site-packages (from psygnal>=0.3.4->napari->napari-animation) (1.0.0)\n",
      "Requirement already satisfied: networkx>=2.8 in c:\\users\\smc\\appdata\\local\\miniforge3\\envs\\napari\\lib\\site-packages (from scikit-image>=0.19.1->scikit-image[data]>=0.19.1->napari->napari-animation) (3.2.1)\n",
      "Requirement already satisfied: PyWavelets>=1.1.1 in c:\\users\\smc\\appdata\\local\\miniforge3\\envs\\napari\\lib\\site-packages (from scikit-image>=0.19.1->scikit-image[data]>=0.19.1->napari->napari-animation) (1.4.1)\n",
      "Requirement already satisfied: pooch>=1.3.0 in c:\\users\\smc\\appdata\\local\\miniforge3\\envs\\napari\\lib\\site-packages (from scikit-image[data]>=0.19.1->napari->napari-animation) (1.8.0)\n",
      "Requirement already satisfied: sphinxcontrib-applehelp in c:\\users\\smc\\appdata\\local\\miniforge3\\envs\\napari\\lib\\site-packages (from sphinx<5,>=4.3.0->napari->napari-animation) (1.0.4)\n",
      "Requirement already satisfied: sphinxcontrib-devhelp in c:\\users\\smc\\appdata\\local\\miniforge3\\envs\\napari\\lib\\site-packages (from sphinx<5,>=4.3.0->napari->napari-animation) (1.0.2)\n",
      "Requirement already satisfied: sphinxcontrib-jsmath in c:\\users\\smc\\appdata\\local\\miniforge3\\envs\\napari\\lib\\site-packages (from sphinx<5,>=4.3.0->napari->napari-animation) (1.0.1)\n",
      "Requirement already satisfied: sphinxcontrib-htmlhelp>=2.0.0 in c:\\users\\smc\\appdata\\local\\miniforge3\\envs\\napari\\lib\\site-packages (from sphinx<5,>=4.3.0->napari->napari-animation) (2.0.1)\n",
      "Requirement already satisfied: sphinxcontrib-serializinghtml>=1.1.5 in c:\\users\\smc\\appdata\\local\\miniforge3\\envs\\napari\\lib\\site-packages (from sphinx<5,>=4.3.0->napari->napari-animation) (1.1.5)\n",
      "Requirement already satisfied: sphinxcontrib-qthelp in c:\\users\\smc\\appdata\\local\\miniforge3\\envs\\napari\\lib\\site-packages (from sphinx<5,>=4.3.0->napari->napari-animation) (1.0.3)\n",
      "Requirement already satisfied: docutils<0.18,>=0.14 in c:\\users\\smc\\appdata\\local\\miniforge3\\envs\\napari\\lib\\site-packages (from sphinx<5,>=4.3.0->napari->napari-animation) (0.17.1)\n",
      "Requirement already satisfied: snowballstemmer>=1.1 in c:\\users\\smc\\appdata\\local\\miniforge3\\envs\\napari\\lib\\site-packages (from sphinx<5,>=4.3.0->napari->napari-animation) (2.2.0)\n",
      "Requirement already satisfied: babel>=1.3 in c:\\users\\smc\\appdata\\local\\miniforge3\\envs\\napari\\lib\\site-packages (from sphinx<5,>=4.3.0->napari->napari-animation) (2.13.1)\n",
      "Requirement already satisfied: alabaster<0.8,>=0.7 in c:\\users\\smc\\appdata\\local\\miniforge3\\envs\\napari\\lib\\site-packages (from sphinx<5,>=4.3.0->napari->napari-animation) (0.7.13)\n",
      "Requirement already satisfied: imagesize in c:\\users\\smc\\appdata\\local\\miniforge3\\envs\\napari\\lib\\site-packages (from sphinx<5,>=4.3.0->napari->napari-animation) (1.4.1)\n",
      "Requirement already satisfied: requests>=2.5.0 in c:\\users\\smc\\appdata\\local\\miniforge3\\envs\\napari\\lib\\site-packages (from sphinx<5,>=4.3.0->napari->napari-animation) (2.31.0)\n",
      "Requirement already satisfied: freetype-py in c:\\users\\smc\\appdata\\local\\miniforge3\\envs\\napari\\lib\\site-packages (from vispy<0.13,>=0.12.1->napari->napari-animation) (2.4.0)\n",
      "Requirement already satisfied: hsluv in c:\\users\\smc\\appdata\\local\\miniforge3\\envs\\napari\\lib\\site-packages (from vispy<0.13,>=0.12.1->napari->napari-animation) (5.0.4)\n",
      "Requirement already satisfied: kiwisolver in c:\\users\\smc\\appdata\\local\\miniforge3\\envs\\napari\\lib\\site-packages (from vispy<0.13,>=0.12.1->napari->napari-animation) (1.4.5)\n",
      "Requirement already satisfied: markdown-it-py>=2.2.0 in c:\\users\\smc\\appdata\\local\\miniforge3\\envs\\napari\\lib\\site-packages (from rich->npe2->napari-animation) (3.0.0)\n",
      "Requirement already satisfied: zipp>=0.5 in c:\\users\\smc\\appdata\\local\\miniforge3\\envs\\napari\\lib\\site-packages (from importlib-metadata>=4.13.0->dask!=2.28.0,>=2.15.0->dask[array]!=2.28.0,>=2.15.0->napari->napari-animation) (3.17.0)\n",
      "Requirement already satisfied: comm>=0.1.1 in c:\\users\\smc\\appdata\\local\\miniforge3\\envs\\napari\\lib\\site-packages (from ipykernel>=5.2.0->napari-console>=0.0.6->napari->napari-animation) (0.1.4)\n",
      "Requirement already satisfied: debugpy>=1.6.5 in c:\\users\\smc\\appdata\\local\\miniforge3\\envs\\napari\\lib\\site-packages (from ipykernel>=5.2.0->napari-console>=0.0.6->napari->napari-animation) (1.8.0)\n",
      "Requirement already satisfied: jupyter-client>=6.1.12 in c:\\users\\smc\\appdata\\local\\miniforge3\\envs\\napari\\lib\\site-packages (from ipykernel>=5.2.0->napari-console>=0.0.6->napari->napari-animation) (8.5.0)\n",
      "Requirement already satisfied: jupyter-core!=5.0.*,>=4.12 in c:\\users\\smc\\appdata\\local\\miniforge3\\envs\\napari\\lib\\site-packages (from ipykernel>=5.2.0->napari-console>=0.0.6->napari->napari-animation) (5.5.0)\n",
      "Requirement already satisfied: matplotlib-inline>=0.1 in c:\\users\\smc\\appdata\\local\\miniforge3\\envs\\napari\\lib\\site-packages (from ipykernel>=5.2.0->napari-console>=0.0.6->napari->napari-animation) (0.1.6)\n",
      "Requirement already satisfied: nest-asyncio in c:\\users\\smc\\appdata\\local\\miniforge3\\envs\\napari\\lib\\site-packages (from ipykernel>=5.2.0->napari-console>=0.0.6->napari->napari-animation) (1.5.8)\n",
      "Requirement already satisfied: pyzmq>=20 in c:\\users\\smc\\appdata\\local\\miniforge3\\envs\\napari\\lib\\site-packages (from ipykernel>=5.2.0->napari-console>=0.0.6->napari->napari-animation) (25.1.1)\n",
      "Requirement already satisfied: tornado>=6.1 in c:\\users\\smc\\appdata\\local\\miniforge3\\envs\\napari\\lib\\site-packages (from ipykernel>=5.2.0->napari-console>=0.0.6->napari->napari-animation) (6.3.3)\n",
      "Requirement already satisfied: traitlets>=5.4.0 in c:\\users\\smc\\appdata\\local\\miniforge3\\envs\\napari\\lib\\site-packages (from ipykernel>=5.2.0->napari-console>=0.0.6->napari->napari-animation) (5.13.0)\n",
      "Requirement already satisfied: decorator in c:\\users\\smc\\appdata\\local\\miniforge3\\envs\\napari\\lib\\site-packages (from IPython>=7.7.0->napari-console>=0.0.6->napari->napari-animation) (5.1.1)\n",
      "Requirement already satisfied: jedi>=0.16 in c:\\users\\smc\\appdata\\local\\miniforge3\\envs\\napari\\lib\\site-packages (from IPython>=7.7.0->napari-console>=0.0.6->napari->napari-animation) (0.19.1)\n",
      "Requirement already satisfied: prompt-toolkit!=3.0.37,<3.1.0,>=3.0.30 in c:\\users\\smc\\appdata\\local\\miniforge3\\envs\\napari\\lib\\site-packages (from IPython>=7.7.0->napari-console>=0.0.6->napari->napari-animation) (3.0.39)\n",
      "Requirement already satisfied: stack-data in c:\\users\\smc\\appdata\\local\\miniforge3\\envs\\napari\\lib\\site-packages (from IPython>=7.7.0->napari-console>=0.0.6->napari->napari-animation) (0.6.3)\n",
      "Requirement already satisfied: exceptiongroup in c:\\users\\smc\\appdata\\local\\miniforge3\\envs\\napari\\lib\\site-packages (from IPython>=7.7.0->napari-console>=0.0.6->napari->napari-animation) (1.1.3)\n",
      "Requirement already satisfied: MarkupSafe>=2.0 in c:\\users\\smc\\appdata\\local\\miniforge3\\envs\\napari\\lib\\site-packages (from Jinja2>=2.10->numpydoc>=0.9.2->napari->napari-animation) (2.1.3)\n",
      "Requirement already satisfied: mdurl~=0.1 in c:\\users\\smc\\appdata\\local\\miniforge3\\envs\\napari\\lib\\site-packages (from markdown-it-py>=2.2.0->rich->npe2->napari-animation) (0.1.2)\n",
      "Requirement already satisfied: locket in c:\\users\\smc\\appdata\\local\\miniforge3\\envs\\napari\\lib\\site-packages (from partd>=1.2.0->dask!=2.28.0,>=2.15.0->dask[array]!=2.28.0,>=2.15.0->napari->napari-animation) (1.0.0)\n",
      "Requirement already satisfied: platformdirs>=2.5.0 in c:\\users\\smc\\appdata\\local\\miniforge3\\envs\\napari\\lib\\site-packages (from pooch>=1.3.0->scikit-image[data]>=0.19.1->napari->napari-animation) (3.11.0)\n",
      "Requirement already satisfied: six>=1.5 in c:\\users\\smc\\appdata\\local\\miniforge3\\envs\\napari\\lib\\site-packages (from python-dateutil>=2.8.2->pandas>=1.3.0->napari->napari-animation) (1.16.0)\n",
      "Requirement already satisfied: ipython-genutils in c:\\users\\smc\\appdata\\local\\miniforge3\\envs\\napari\\lib\\site-packages (from qtconsole!=4.7.6,!=5.4.2,>=4.5.1->napari-console>=0.0.6->napari->napari-animation) (0.2.0)\n",
      "Requirement already satisfied: charset-normalizer<4,>=2 in c:\\users\\smc\\appdata\\local\\miniforge3\\envs\\napari\\lib\\site-packages (from requests>=2.5.0->sphinx<5,>=4.3.0->napari->napari-animation) (3.3.2)\n",
      "Requirement already satisfied: idna<4,>=2.5 in c:\\users\\smc\\appdata\\local\\miniforge3\\envs\\napari\\lib\\site-packages (from requests>=2.5.0->sphinx<5,>=4.3.0->napari->napari-animation) (3.4)\n",
      "Requirement already satisfied: urllib3<3,>=1.21.1 in c:\\users\\smc\\appdata\\local\\miniforge3\\envs\\napari\\lib\\site-packages (from requests>=2.5.0->sphinx<5,>=4.3.0->napari->napari-animation) (1.26.18)\n",
      "Requirement already satisfied: pyconify>=0.1.4 in c:\\users\\smc\\appdata\\local\\miniforge3\\envs\\napari\\lib\\site-packages (from superqt[iconify]>=0.6.1->magicgui>=0.3.6->napari->napari-animation) (0.1.6)\n",
      "Requirement already satisfied: parso<0.9.0,>=0.8.3 in c:\\users\\smc\\appdata\\local\\miniforge3\\envs\\napari\\lib\\site-packages (from jedi>=0.16->IPython>=7.7.0->napari-console>=0.0.6->napari->napari-animation) (0.8.3)\n",
      "Requirement already satisfied: pywin32>=300 in c:\\users\\smc\\appdata\\local\\miniforge3\\envs\\napari\\lib\\site-packages (from jupyter-core!=5.0.*,>=4.12->ipykernel>=5.2.0->napari-console>=0.0.6->napari->napari-animation) (306)\n",
      "Requirement already satisfied: wcwidth in c:\\users\\smc\\appdata\\local\\miniforge3\\envs\\napari\\lib\\site-packages (from prompt-toolkit!=3.0.37,<3.1.0,>=3.0.30->IPython>=7.7.0->napari-console>=0.0.6->napari->napari-animation) (0.2.9)\n",
      "Requirement already satisfied: executing>=1.2.0 in c:\\users\\smc\\appdata\\local\\miniforge3\\envs\\napari\\lib\\site-packages (from stack-data->IPython>=7.7.0->napari-console>=0.0.6->napari->napari-animation) (2.0.1)\n",
      "Requirement already satisfied: asttokens>=2.1.0 in c:\\users\\smc\\appdata\\local\\miniforge3\\envs\\napari\\lib\\site-packages (from stack-data->IPython>=7.7.0->napari-console>=0.0.6->napari->napari-animation) (2.4.1)\n",
      "Requirement already satisfied: pure-eval in c:\\users\\smc\\appdata\\local\\miniforge3\\envs\\napari\\lib\\site-packages (from stack-data->IPython>=7.7.0->napari-console>=0.0.6->napari->napari-animation) (0.2.2)\n"
     ]
    }
   ],
   "source": [
    "!pip install napari-animation"
   ]
  },
  {
   "cell_type": "code",
   "execution_count": 10,
   "metadata": {},
   "outputs": [],
   "source": [
    "viewer = napari.Viewer()"
   ]
  },
  {
   "cell_type": "code",
   "execution_count": 11,
   "metadata": {},
   "outputs": [
    {
     "data": {
      "text/plain": [
       "<Labels layer 'label_img' at 0x24105dd8820>"
      ]
     },
     "execution_count": 11,
     "metadata": {},
     "output_type": "execute_result"
    }
   ],
   "source": [
    "img = ski.io.imread('files/Labeled_Neuromasts.tif')\n",
    "raw_img = img[:,0:-1]\n",
    "label_img = img[:,-1].astype(int)\n",
    "\n",
    "\n",
    "viewer.layers.clear()\n",
    "viewer.add_image(raw_img, channel_axis=1, scale=[1.0,.16,.16])\n",
    "viewer.add_labels(label_img, scale=[1.0,.16,.16], opacity=0.3)\n"
   ]
  },
  {
   "cell_type": "markdown",
   "metadata": {},
   "source": [
    "## Hard-coded visualization"
   ]
  },
  {
   "cell_type": "markdown",
   "metadata": {},
   "source": [
    "Sometimes you want to be able to reproduce a visualization or highlight an object of interest, once you have coordinates of interest this is easy to do."
   ]
  },
  {
   "cell_type": "code",
   "execution_count": 18,
   "metadata": {},
   "outputs": [],
   "source": [
    "# Setting the center of the camera in XY\n",
    "viewer.camera.center = [48,22]\n",
    "\n",
    "# Setting the slice in Z (or Z/Time if have multiple stacks)\n",
    "viewer.dims.current_step = (13,0,0)\n",
    "\n",
    "# Setting the zoom\n",
    "viewer.camera.zoom=20\n"
   ]
  },
  {
   "cell_type": "markdown",
   "metadata": {},
   "source": [
    "We can also hardcode the 3D view parameters"
   ]
  },
  {
   "cell_type": "code",
   "execution_count": 23,
   "metadata": {},
   "outputs": [],
   "source": [
    "# Switch to 3D view mode\n",
    "viewer.dims.ndisplay = 3\n",
    "\n",
    "# Set the camera center, note now we have 3 coordinates\n",
    "viewer.camera.center = [13, 48,22]\n",
    "\n",
    "# Fix the angle of the camera\n",
    "viewer.camera.angles = (-18.23797054423494, 41.97404742075617, 141.96173085742896)\n",
    "\n",
    "# Set the zoom\n",
    "viewer.camera.zoom = 20.0\n",
    "\n"
   ]
  },
  {
   "cell_type": "code",
   "execution_count": null,
   "metadata": {},
   "outputs": [],
   "source": []
  },
  {
   "cell_type": "markdown",
   "metadata": {},
   "source": [
    "## Completely hard-coded movie"
   ]
  },
  {
   "cell_type": "code",
   "execution_count": 63,
   "metadata": {},
   "outputs": [],
   "source": [
    "from napari_animation import Animation"
   ]
  },
  {
   "cell_type": "code",
   "execution_count": 67,
   "metadata": {},
   "outputs": [
    {
     "name": "stdout",
     "output_type": "stream",
     "text": [
      "Rendering frames...\n"
     ]
    },
    {
     "name": "stderr",
     "output_type": "stream",
     "text": [
      "  0%|          | 0/121 [00:00<?, ?it/s]IMAGEIO FFMPEG_WRITER WARNING: input image is not divisible by macro_block_size=16, resizing from (3054, 1954) to (3056, 1968) to ensure video compatibility with most codecs and players. To prevent resizing, make your input image divisible by the macro_block_size or set the macro_block_size to 1 (risking incompatibility).\n",
      "100%|██████████| 121/121 [00:19<00:00,  6.13it/s]\n"
     ]
    }
   ],
   "source": [
    "nuclei = ski.data.cells3d()[:,1,...]\n",
    "denoised = ndi.median_filter(nuclei, size=3)\n",
    "th_nuclei = denoised > ski.filters.threshold_li(denoised)\n",
    "th_nuclei = ski.morphology.remove_small_holes(th_nuclei, 20**3)\n",
    "labels_data = ski.measure.label(th_nuclei)\n",
    "\n",
    "animation = Animation(viewer)\n",
    "\n",
    "image_layer = viewer.add_image(nuclei, name=\"nuclei\", depiction=\"plane\",\n",
    "                               blending='translucent')\n",
    "labels_layer = viewer.add_labels(labels_data, name=\"labels\", blending='translucent')\n",
    "\n",
    "viewer.camera.angles = (-18.23797054423494, 41.97404742075617, 141.96173085742896)\n",
    "#viewer.camera.zoom *= 0.5\n",
    "\n",
    "\n",
    "def replace_labels_data():\n",
    "    z_cutoff = int(image_layer.plane.position[0])\n",
    "    new_labels_data = labels_data.copy()\n",
    "    new_labels_data[z_cutoff:] = 0\n",
    "    labels_layer.data = new_labels_data\n",
    "\n",
    "\n",
    "labels_layer.visible = False\n",
    "image_layer.plane.position = (0, 0, 0)\n",
    "animation.capture_keyframe(steps=30)\n",
    "\n",
    "image_layer.plane.position = (59, 0, 0)\n",
    "animation.capture_keyframe(steps=30)\n",
    "\n",
    "image_layer.plane.position = (0, 0, 0)\n",
    "\n",
    "animation.capture_keyframe(steps=30)\n",
    "\n",
    "image_layer.plane.events.position.connect(replace_labels_data)\n",
    "labels_layer.visible = True\n",
    "labels_layer.experimental_clipping_planes = [{\n",
    "    \"position\": (0, 0, 0),\n",
    "    \"normal\": (-1, 0, 0),  # point up in z (i.e: show stuff above plane)\n",
    "}]\n",
    "\n",
    "image_layer.plane.position = (59, 0, 0)\n",
    "# access first plane, since it's a list\n",
    "labels_layer.experimental_clipping_planes[0].position = (59, 0, 0)\n",
    "animation.capture_keyframe(steps=30)\n",
    "\n",
    "image_layer.plane.position = (0, 0, 0)\n",
    "animation.capture_keyframe(steps=30)\n",
    "\n",
    "animation.animate(\"layer_planes.mp4\", canvas_only=True)\n",
    "image_layer.plane.position = (0, 0, 0)"
   ]
  },
  {
   "cell_type": "code",
   "execution_count": null,
   "metadata": {},
   "outputs": [],
   "source": []
  }
 ],
 "metadata": {
  "kernelspec": {
   "display_name": "napari",
   "language": "python",
   "name": "python3"
  },
  "language_info": {
   "codemirror_mode": {
    "name": "ipython",
    "version": 3
   },
   "file_extension": ".py",
   "mimetype": "text/x-python",
   "name": "python",
   "nbconvert_exporter": "python",
   "pygments_lexer": "ipython3",
   "version": "3.10.13"
  }
 },
 "nbformat": 4,
 "nbformat_minor": 2
}
